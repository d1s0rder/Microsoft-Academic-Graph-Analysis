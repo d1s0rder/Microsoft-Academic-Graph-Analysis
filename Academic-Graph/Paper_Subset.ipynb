{
 "cells": [
  {
   "cell_type": "code",
   "execution_count": 55,
   "metadata": {},
   "outputs": [],
   "source": [
    "import numpy as np\n",
    "import pandas as pd"
   ]
  },
  {
   "cell_type": "code",
   "execution_count": 56,
   "metadata": {},
   "outputs": [],
   "source": [
    "conferences = pd.read_csv('./All data/mag/ConferenceSeries.txt', sep = '\\t', header = None,\\\n",
    "                       names = ['ConferenceSeriesId', 'Rank', 'NormalizedName', 'DisplayName', 'PaperCount', 'CitationCount',\\\n",
    "                                'CreatedDate'])"
   ]
  },
  {
   "cell_type": "code",
   "execution_count": 57,
   "metadata": {},
   "outputs": [
    {
     "data": {
      "text/html": [
       "<div>\n",
       "<style scoped>\n",
       "    .dataframe tbody tr th:only-of-type {\n",
       "        vertical-align: middle;\n",
       "    }\n",
       "\n",
       "    .dataframe tbody tr th {\n",
       "        vertical-align: top;\n",
       "    }\n",
       "\n",
       "    .dataframe thead th {\n",
       "        text-align: right;\n",
       "    }\n",
       "</style>\n",
       "<table border=\"1\" class=\"dataframe\">\n",
       "  <thead>\n",
       "    <tr style=\"text-align: right;\">\n",
       "      <th></th>\n",
       "      <th>ConferenceSeriesId</th>\n",
       "      <th>Rank</th>\n",
       "      <th>NormalizedName</th>\n",
       "      <th>DisplayName</th>\n",
       "      <th>PaperCount</th>\n",
       "      <th>CitationCount</th>\n",
       "      <th>CreatedDate</th>\n",
       "    </tr>\n",
       "  </thead>\n",
       "  <tbody>\n",
       "    <tr>\n",
       "      <th>0</th>\n",
       "      <td>1134804816</td>\n",
       "      <td>12740</td>\n",
       "      <td>ICIDS</td>\n",
       "      <td>International Conference on Interactive Digita...</td>\n",
       "      <td>569</td>\n",
       "      <td>2301</td>\n",
       "      <td>2016-06-24</td>\n",
       "    </tr>\n",
       "    <tr>\n",
       "      <th>1</th>\n",
       "      <td>1165160117</td>\n",
       "      <td>14787</td>\n",
       "      <td>SWAT4LS</td>\n",
       "      <td>Semantic Web Applications and Tools for Life S...</td>\n",
       "      <td>79</td>\n",
       "      <td>166</td>\n",
       "      <td>2016-06-24</td>\n",
       "    </tr>\n",
       "    <tr>\n",
       "      <th>2</th>\n",
       "      <td>1192093291</td>\n",
       "      <td>12198</td>\n",
       "      <td>TRIDENTCOM</td>\n",
       "      <td>Testbeds and Research Infrastructures for the ...</td>\n",
       "      <td>570</td>\n",
       "      <td>4976</td>\n",
       "      <td>2016-06-24</td>\n",
       "    </tr>\n",
       "    <tr>\n",
       "      <th>3</th>\n",
       "      <td>1199066382</td>\n",
       "      <td>10365</td>\n",
       "      <td>BIOINFORMATICS</td>\n",
       "      <td>International Conference on Bioinformatics</td>\n",
       "      <td>7750</td>\n",
       "      <td>12539</td>\n",
       "      <td>2016-06-24</td>\n",
       "    </tr>\n",
       "    <tr>\n",
       "      <th>4</th>\n",
       "      <td>1201746639</td>\n",
       "      <td>15473</td>\n",
       "      <td>AIS</td>\n",
       "      <td>Autonomous and Intelligent Systems</td>\n",
       "      <td>165</td>\n",
       "      <td>919</td>\n",
       "      <td>2016-06-24</td>\n",
       "    </tr>\n",
       "  </tbody>\n",
       "</table>\n",
       "</div>"
      ],
      "text/plain": [
       "   ConferenceSeriesId   Rank  NormalizedName  \\\n",
       "0          1134804816  12740           ICIDS   \n",
       "1          1165160117  14787         SWAT4LS   \n",
       "2          1192093291  12198      TRIDENTCOM   \n",
       "3          1199066382  10365  BIOINFORMATICS   \n",
       "4          1201746639  15473             AIS   \n",
       "\n",
       "                                         DisplayName  PaperCount  \\\n",
       "0  International Conference on Interactive Digita...         569   \n",
       "1  Semantic Web Applications and Tools for Life S...          79   \n",
       "2  Testbeds and Research Infrastructures for the ...         570   \n",
       "3         International Conference on Bioinformatics        7750   \n",
       "4                 Autonomous and Intelligent Systems         165   \n",
       "\n",
       "   CitationCount CreatedDate  \n",
       "0           2301  2016-06-24  \n",
       "1            166  2016-06-24  \n",
       "2           4976  2016-06-24  \n",
       "3          12539  2016-06-24  \n",
       "4            919  2016-06-24  "
      ]
     },
     "execution_count": 57,
     "metadata": {},
     "output_type": "execute_result"
    }
   ],
   "source": [
    "conferences.head()"
   ]
  },
  {
   "cell_type": "code",
   "execution_count": 58,
   "metadata": {
    "collapsed": true
   },
   "outputs": [],
   "source": [
    "conference_titles = ['Computer Vision and Pattern Recognition', 'Neural Information Processing Systems',\\\n",
    "                     'European Conference on Computer Vision', 'International Conference on Machine Learning', \\\n",
    "                     'International Conference on Computer Vision', 'Meeting of the Association for Computational Linguistics',\\\n",
    "                     'National Conference on Artificial Intelligence', 'Empirical Methods in Natural Language Processing',\\\n",
    "                     'Human Factors in Computing Systems', 'IEEE Symposium on Security and Privacy',\\\n",
    "                     'International Conference on Robotics and Automation', 'Computer and Communications Security',\\\n",
    "                     'International Conference on Acoustics, Speech, and Signal Processing', 'Very Large Data Bases', \\\n",
    "                     'International Conference on Computer Communications', 'ACM Special Interest Group on Data Communication',\\\n",
    "                     'The Web Conference', 'Congress on Evolutionary Computation',\\\n",
    "                     'International Joint Conference on Artificial Intelligence', 'International Conference on Management of Data',\\\n",
    "                     'Conference of the International Speech Communication Association', 'Symposium on the Theory of Computing',\\\n",
    "                     'North American Chapter of the Association for Computational Linguistics',\\\n",
    "                     'Conference on Computer Supported Cooperative Work', 'Intelligent Robots and Systems', 'Ubiquitous Computing',\\\n",
    "                     'International Symposium on Computer Architecture', 'International Solid-State Circuits Conference',\\\n",
    "                     'International ACM SIGIR Conference on Research and Development in Information Retrieval',\\\n",
    "                     'High-Performance Computer Architecture', 'International Cryptology Conference',\\\n",
    "                     'ACM/IEEE International Conference on Mobile Computing and Networking',\\\n",
    "                     'International Conference on Artificial Intelligence and Statistics', 'Web Search and Data Mining',\\\n",
    "                     'Foundations of Computer Science', 'Symposium on Principles of Programming Languages',\\\n",
    "                     'Operating Systems Design and Implementation', 'Conference on Learning Theory',\\\n",
    "                     'Conference on Information and Knowledge Management', 'British Machine Vision Conference',\\\n",
    "                     'User Interface Software and Technology', 'Symposium on Discrete Algorithms',\\\n",
    "                     'Workshop on Applications of Computer Vision', 'Medical Image Computing and Computer-Assisted Intervention',\\\n",
    "                     'Conference on Recommender Systems', 'Language Resources and Evaluation',\\\n",
    "                     'International Conference on Computational Linguistics',\\\n",
    "                     'International Conference on the Theory and Application of Cryptology and Information Security',\\\n",
    "                     'Asian Conference on Computer Vision', 'European Conference on Computer Systems', \\\n",
    "                     'Theory of Cryptography Conference', 'International Joint Conference on Neural Network',\\\n",
    "                     'Uncertainty in Artificial Intelligence', 'International Conference on Big Data',\\\n",
    "                     'International Colloquium on Automata, Languages and Programming',\\\n",
    "                     'Genetic and Evolutionary Computation Conference', 'Adaptive Agents and Multi-Agents Systems',\\\n",
    "                     'Pacific-Asia Conference on Knowledge Discovery and Data Mining',\\\n",
    "                     'Workshop on Internet and Network Economics', 'International Symposium on Information Theory',\\\n",
    "                     'IEEE International Conference on Advanced Management Science', 'International Conference on Data Mining']                 "
   ]
  },
  {
   "cell_type": "code",
   "execution_count": 59,
   "metadata": {},
   "outputs": [],
   "source": [
    "conference_subset = conferences[conferences['DisplayName'].isin(conference_titles)]"
   ]
  },
  {
   "cell_type": "code",
   "execution_count": null,
   "metadata": {
    "collapsed": true
   },
   "outputs": [],
   "source": []
  },
  {
   "cell_type": "code",
   "execution_count": 31,
   "metadata": {
    "collapsed": true
   },
   "outputs": [],
   "source": [
    "journals = pd.read_csv('./All data/mag/Journals.txt', sep = '\\t', header = None,\\\n",
    "                       names = ['JournalId', 'Rank', 'NormalizedName', 'DisplayName', 'Issn', 'Publisher',\\\n",
    "                                'Webpage', 'PaperCount', 'CitationCount', 'CreatedDate'])"
   ]
  },
  {
   "cell_type": "code",
   "execution_count": 68,
   "metadata": {
    "collapsed": true
   },
   "outputs": [],
   "source": [
    "journal_titles = ['Management Science', 'Information Systems Research', 'Management Information Systems Quarterly',\\\n",
    "                  'Journal of Management Information Systems', 'Computers in Human Behavior', 'Decision Support Systems',\\\n",
    "                  'European Journal of Information Systems', 'Government Information Quarterly', 'Information and Organization',\\\n",
    "                  'Information Systems Frontiers','Information Systems Journal', 'International Journal of Electronic Commerce',\\\n",
    "                  'Journal of Information Technology', 'Journal of Strategic Information Systems']"
   ]
  },
  {
   "cell_type": "code",
   "execution_count": 69,
   "metadata": {},
   "outputs": [],
   "source": [
    "journal_subset = journals[journals['DisplayName'].isin(journal_titles)]"
   ]
  },
  {
   "cell_type": "code",
   "execution_count": 60,
   "metadata": {},
   "outputs": [],
   "source": [
    "chunks = pd.read_csv('./All data/mag/Papers.txt',chunksize=1000000,sep = '\\t', header = None,\\\n",
    "                       names = ['PaperId', 'Rank', 'Doi', 'DocType', 'PaperTitle', 'OriginalTitle', 'BookTitle', 'Year',\\\n",
    "                                'Date', 'Publisher', 'JournalId', 'ConferenceSeriesId', 'ConferenceInstanceId', 'Volume',\\\n",
    "                                'Issue', 'FirstPage', 'LastPage', 'ReferenceCount', 'CitationCount', 'EstimatedCitation',\\\n",
    "                                'OriginalVenue', 'FamilyId', 'CreatedDate'])"
   ]
  },
  {
   "cell_type": "code",
   "execution_count": 61,
   "metadata": {},
   "outputs": [
    {
     "name": "stderr",
     "output_type": "stream",
     "text": [
      "<string>:2: DtypeWarning: Columns (7,10,18,21) have mixed types. Specify dtype option on import or set low_memory=False.\n",
      "<string>:2: DtypeWarning: Columns (7,15,16,18) have mixed types. Specify dtype option on import or set low_memory=False.\n",
      "<string>:2: DtypeWarning: Columns (18) have mixed types. Specify dtype option on import or set low_memory=False.\n",
      "<string>:2: DtypeWarning: Columns (7,10,15,16,18,21) have mixed types. Specify dtype option on import or set low_memory=False.\n",
      "<string>:2: DtypeWarning: Columns (7,12,13,18,21) have mixed types. Specify dtype option on import or set low_memory=False.\n",
      "<string>:2: DtypeWarning: Columns (15,16,18) have mixed types. Specify dtype option on import or set low_memory=False.\n",
      "<string>:2: DtypeWarning: Columns (7,18) have mixed types. Specify dtype option on import or set low_memory=False.\n",
      "<string>:2: DtypeWarning: Columns (7,12,13,15,16,18,21) have mixed types. Specify dtype option on import or set low_memory=False.\n",
      "<string>:2: DtypeWarning: Columns (7,12,15,16,18,21) have mixed types. Specify dtype option on import or set low_memory=False.\n",
      "<string>:2: DtypeWarning: Columns (7,12,13,18) have mixed types. Specify dtype option on import or set low_memory=False.\n",
      "<string>:2: DtypeWarning: Columns (7,15,16,18,21) have mixed types. Specify dtype option on import or set low_memory=False.\n",
      "<string>:2: DtypeWarning: Columns (7,15,18) have mixed types. Specify dtype option on import or set low_memory=False.\n",
      "<string>:2: DtypeWarning: Columns (7,11,15,16,18) have mixed types. Specify dtype option on import or set low_memory=False.\n",
      "<string>:2: DtypeWarning: Columns (12,13,15,16) have mixed types. Specify dtype option on import or set low_memory=False.\n",
      "<string>:2: DtypeWarning: Columns (7,12,18) have mixed types. Specify dtype option on import or set low_memory=False.\n",
      "<string>:2: DtypeWarning: Columns (7,12,13,15,18,21) have mixed types. Specify dtype option on import or set low_memory=False.\n",
      "<string>:2: DtypeWarning: Columns (7,10,15,18,21) have mixed types. Specify dtype option on import or set low_memory=False.\n",
      "<string>:2: DtypeWarning: Columns (7,10,12,18) have mixed types. Specify dtype option on import or set low_memory=False.\n",
      "<string>:2: DtypeWarning: Columns (7,10,15,16,17,18,19,21) have mixed types. Specify dtype option on import or set low_memory=False.\n",
      "<string>:2: DtypeWarning: Columns (10,12,13,18) have mixed types. Specify dtype option on import or set low_memory=False.\n",
      "<string>:2: DtypeWarning: Columns (7,10,12,13,18,21) have mixed types. Specify dtype option on import or set low_memory=False.\n",
      "<string>:2: DtypeWarning: Columns (7) have mixed types. Specify dtype option on import or set low_memory=False.\n",
      "<string>:2: DtypeWarning: Columns (7,18,21) have mixed types. Specify dtype option on import or set low_memory=False.\n",
      "<string>:2: DtypeWarning: Columns (7,10,15,16,21) have mixed types. Specify dtype option on import or set low_memory=False.\n",
      "<string>:2: DtypeWarning: Columns (7,11,12,18) have mixed types. Specify dtype option on import or set low_memory=False.\n",
      "<string>:2: DtypeWarning: Columns (7,15,16,17,18,19) have mixed types. Specify dtype option on import or set low_memory=False.\n",
      "<string>:2: DtypeWarning: Columns (10,18,21) have mixed types. Specify dtype option on import or set low_memory=False.\n",
      "<string>:2: DtypeWarning: Columns (7,12,13,15,16,18) have mixed types. Specify dtype option on import or set low_memory=False.\n",
      "<string>:2: DtypeWarning: Columns (7,12,15,16,18) have mixed types. Specify dtype option on import or set low_memory=False.\n"
     ]
    },
    {
     "name": "stdout",
     "output_type": "stream",
     "text": [
      "100\n"
     ]
    },
    {
     "name": "stderr",
     "output_type": "stream",
     "text": [
      "<string>:2: DtypeWarning: Columns (7,10,11,15,16,18,21) have mixed types. Specify dtype option on import or set low_memory=False.\n",
      "<string>:2: DtypeWarning: Columns (15,16,17,18,19) have mixed types. Specify dtype option on import or set low_memory=False.\n",
      "<string>:2: DtypeWarning: Columns (7,10,12,21) have mixed types. Specify dtype option on import or set low_memory=False.\n",
      "<string>:2: DtypeWarning: Columns (7,10,12,13,15,16,18,19,21) have mixed types. Specify dtype option on import or set low_memory=False.\n",
      "<string>:2: DtypeWarning: Columns (7,15,16) have mixed types. Specify dtype option on import or set low_memory=False.\n",
      "<string>:2: DtypeWarning: Columns (18,21) have mixed types. Specify dtype option on import or set low_memory=False.\n",
      "<string>:2: DtypeWarning: Columns (7,21) have mixed types. Specify dtype option on import or set low_memory=False.\n",
      "<string>:2: DtypeWarning: Columns (7,15,16,21) have mixed types. Specify dtype option on import or set low_memory=False.\n",
      "<string>:2: DtypeWarning: Columns (7,10,17,18,19,21) have mixed types. Specify dtype option on import or set low_memory=False.\n",
      "<string>:2: DtypeWarning: Columns (7,10,12,13,15,16,18) have mixed types. Specify dtype option on import or set low_memory=False.\n",
      "<string>:2: DtypeWarning: Columns (7,10,12,13,21) have mixed types. Specify dtype option on import or set low_memory=False.\n",
      "<string>:2: DtypeWarning: Columns (7,10,15,16,18) have mixed types. Specify dtype option on import or set low_memory=False.\n",
      "<string>:2: DtypeWarning: Columns (12,13,15,16,18) have mixed types. Specify dtype option on import or set low_memory=False.\n",
      "<string>:2: DtypeWarning: Columns (12,18,19) have mixed types. Specify dtype option on import or set low_memory=False.\n",
      "<string>:2: DtypeWarning: Columns (7,12,15,16,17,18,19) have mixed types. Specify dtype option on import or set low_memory=False.\n",
      "<string>:2: DtypeWarning: Columns (7,11,18) have mixed types. Specify dtype option on import or set low_memory=False.\n",
      "<string>:2: DtypeWarning: Columns (7,10,12,13,18) have mixed types. Specify dtype option on import or set low_memory=False.\n",
      "<string>:2: DtypeWarning: Columns (7,10,18) have mixed types. Specify dtype option on import or set low_memory=False.\n",
      "<string>:2: DtypeWarning: Columns (7,10,15,16) have mixed types. Specify dtype option on import or set low_memory=False.\n"
     ]
    },
    {
     "name": "stdout",
     "output_type": "stream",
     "text": [
      "200\n"
     ]
    },
    {
     "name": "stderr",
     "output_type": "stream",
     "text": [
      "<string>:2: DtypeWarning: Columns (17,18,19) have mixed types. Specify dtype option on import or set low_memory=False.\n",
      "<string>:2: DtypeWarning: Columns (15,16) have mixed types. Specify dtype option on import or set low_memory=False.\n"
     ]
    },
    {
     "name": "stdout",
     "output_type": "stream",
     "text": [
      "CPU times: user 20min 58s, sys: 1min 17s, total: 22min 16s\n",
      "Wall time: 22min 16s\n"
     ]
    }
   ],
   "source": [
    "%%time\n",
    "\n",
    "paper_conference = pd.DataFrame()\n",
    "\n",
    "i = 0\n",
    "for chunk in chunks:\n",
    "    paper_conference = pd.concat([paper_conference,\\\n",
    "                                  chunk[chunk['ConferenceSeriesId'].isin(conference_subset['ConferenceSeriesId'])]])\n",
    "    i = i + 1\n",
    "    if i % 100 == 0:\n",
    "        print(i)"
   ]
  },
  {
   "cell_type": "code",
   "execution_count": 62,
   "metadata": {},
   "outputs": [],
   "source": [
    "paper_conference.to_csv('computer_science_paper_subset.csv')"
   ]
  },
  {
   "cell_type": "code",
   "execution_count": 82,
   "metadata": {
    "collapsed": true
   },
   "outputs": [],
   "source": [
    "chunks = pd.read_csv('./All data/mag/Papers.txt',chunksize=1000000,sep = '\\t', header = None,\\\n",
    "                       names = ['PaperId', 'Rank', 'Doi', 'DocType', 'PaperTitle', 'OriginalTitle', 'BookTitle', 'Year',\\\n",
    "                                'Date', 'Publisher', 'JournalId', 'ConferenceSeriesId', 'ConferenceInstanceId', 'Volume',\\\n",
    "                                'Issue', 'FirstPage', 'LastPage', 'ReferenceCount', 'CitationCount', 'EstimatedCitation',\\\n",
    "                                'OriginalVenue', 'FamilyId', 'CreatedDate'])"
   ]
  },
  {
   "cell_type": "code",
   "execution_count": 83,
   "metadata": {},
   "outputs": [
    {
     "name": "stderr",
     "output_type": "stream",
     "text": [
      "<string>:2: DtypeWarning: Columns (7,10,18,21) have mixed types. Specify dtype option on import or set low_memory=False.\n",
      "<string>:2: DtypeWarning: Columns (7,15,16,18) have mixed types. Specify dtype option on import or set low_memory=False.\n",
      "<string>:2: DtypeWarning: Columns (18) have mixed types. Specify dtype option on import or set low_memory=False.\n",
      "<string>:2: DtypeWarning: Columns (7,10,15,16,18,21) have mixed types. Specify dtype option on import or set low_memory=False.\n",
      "<string>:2: DtypeWarning: Columns (7,12,13,18,21) have mixed types. Specify dtype option on import or set low_memory=False.\n",
      "<string>:2: DtypeWarning: Columns (15,16,18) have mixed types. Specify dtype option on import or set low_memory=False.\n",
      "<string>:2: DtypeWarning: Columns (7,18) have mixed types. Specify dtype option on import or set low_memory=False.\n",
      "<string>:2: DtypeWarning: Columns (7,12,13,15,16,18,21) have mixed types. Specify dtype option on import or set low_memory=False.\n",
      "<string>:2: DtypeWarning: Columns (7,12,15,16,18,21) have mixed types. Specify dtype option on import or set low_memory=False.\n",
      "<string>:2: DtypeWarning: Columns (7,12,13,18) have mixed types. Specify dtype option on import or set low_memory=False.\n",
      "<string>:2: DtypeWarning: Columns (7,15,16,18,21) have mixed types. Specify dtype option on import or set low_memory=False.\n",
      "<string>:2: DtypeWarning: Columns (7,15,18) have mixed types. Specify dtype option on import or set low_memory=False.\n",
      "<string>:2: DtypeWarning: Columns (7,11,15,16,18) have mixed types. Specify dtype option on import or set low_memory=False.\n",
      "<string>:2: DtypeWarning: Columns (12,13,15,16) have mixed types. Specify dtype option on import or set low_memory=False.\n",
      "<string>:2: DtypeWarning: Columns (7,12,18) have mixed types. Specify dtype option on import or set low_memory=False.\n",
      "<string>:2: DtypeWarning: Columns (7,12,13,15,18,21) have mixed types. Specify dtype option on import or set low_memory=False.\n",
      "<string>:2: DtypeWarning: Columns (7,10,15,18,21) have mixed types. Specify dtype option on import or set low_memory=False.\n",
      "<string>:2: DtypeWarning: Columns (7,10,12,18) have mixed types. Specify dtype option on import or set low_memory=False.\n",
      "<string>:2: DtypeWarning: Columns (7,10,15,16,17,18,19,21) have mixed types. Specify dtype option on import or set low_memory=False.\n",
      "<string>:2: DtypeWarning: Columns (10,12,13,18) have mixed types. Specify dtype option on import or set low_memory=False.\n",
      "<string>:2: DtypeWarning: Columns (7,10,12,13,18,21) have mixed types. Specify dtype option on import or set low_memory=False.\n",
      "<string>:2: DtypeWarning: Columns (7) have mixed types. Specify dtype option on import or set low_memory=False.\n",
      "<string>:2: DtypeWarning: Columns (7,18,21) have mixed types. Specify dtype option on import or set low_memory=False.\n",
      "<string>:2: DtypeWarning: Columns (7,10,15,16,21) have mixed types. Specify dtype option on import or set low_memory=False.\n",
      "<string>:2: DtypeWarning: Columns (7,11,12,18) have mixed types. Specify dtype option on import or set low_memory=False.\n",
      "<string>:2: DtypeWarning: Columns (7,15,16,17,18,19) have mixed types. Specify dtype option on import or set low_memory=False.\n",
      "<string>:2: DtypeWarning: Columns (10,18,21) have mixed types. Specify dtype option on import or set low_memory=False.\n",
      "<string>:2: DtypeWarning: Columns (7,12,13,15,16,18) have mixed types. Specify dtype option on import or set low_memory=False.\n",
      "<string>:2: DtypeWarning: Columns (7,12,15,16,18) have mixed types. Specify dtype option on import or set low_memory=False.\n"
     ]
    },
    {
     "name": "stdout",
     "output_type": "stream",
     "text": [
      "100\n"
     ]
    },
    {
     "name": "stderr",
     "output_type": "stream",
     "text": [
      "<string>:2: DtypeWarning: Columns (7,10,11,15,16,18,21) have mixed types. Specify dtype option on import or set low_memory=False.\n",
      "<string>:2: DtypeWarning: Columns (15,16,17,18,19) have mixed types. Specify dtype option on import or set low_memory=False.\n",
      "<string>:2: DtypeWarning: Columns (7,10,12,21) have mixed types. Specify dtype option on import or set low_memory=False.\n",
      "<string>:2: DtypeWarning: Columns (7,10,12,13,15,16,18,19,21) have mixed types. Specify dtype option on import or set low_memory=False.\n",
      "<string>:2: DtypeWarning: Columns (7,15,16) have mixed types. Specify dtype option on import or set low_memory=False.\n",
      "<string>:2: DtypeWarning: Columns (18,21) have mixed types. Specify dtype option on import or set low_memory=False.\n",
      "<string>:2: DtypeWarning: Columns (7,21) have mixed types. Specify dtype option on import or set low_memory=False.\n",
      "<string>:2: DtypeWarning: Columns (7,15,16,21) have mixed types. Specify dtype option on import or set low_memory=False.\n",
      "<string>:2: DtypeWarning: Columns (7,10,17,18,19,21) have mixed types. Specify dtype option on import or set low_memory=False.\n",
      "<string>:2: DtypeWarning: Columns (7,10,12,13,15,16,18) have mixed types. Specify dtype option on import or set low_memory=False.\n",
      "<string>:2: DtypeWarning: Columns (7,10,12,13,21) have mixed types. Specify dtype option on import or set low_memory=False.\n",
      "<string>:2: DtypeWarning: Columns (7,10,15,16,18) have mixed types. Specify dtype option on import or set low_memory=False.\n",
      "<string>:2: DtypeWarning: Columns (12,13,15,16,18) have mixed types. Specify dtype option on import or set low_memory=False.\n",
      "<string>:2: DtypeWarning: Columns (12,18,19) have mixed types. Specify dtype option on import or set low_memory=False.\n",
      "<string>:2: DtypeWarning: Columns (7,12,15,16,17,18,19) have mixed types. Specify dtype option on import or set low_memory=False.\n",
      "<string>:2: DtypeWarning: Columns (7,11,18) have mixed types. Specify dtype option on import or set low_memory=False.\n",
      "<string>:2: DtypeWarning: Columns (7,10,12,13,18) have mixed types. Specify dtype option on import or set low_memory=False.\n",
      "<string>:2: DtypeWarning: Columns (7,10,18) have mixed types. Specify dtype option on import or set low_memory=False.\n",
      "<string>:2: DtypeWarning: Columns (7,10,15,16) have mixed types. Specify dtype option on import or set low_memory=False.\n"
     ]
    },
    {
     "name": "stdout",
     "output_type": "stream",
     "text": [
      "200\n"
     ]
    },
    {
     "name": "stderr",
     "output_type": "stream",
     "text": [
      "<string>:2: DtypeWarning: Columns (17,18,19) have mixed types. Specify dtype option on import or set low_memory=False.\n",
      "<string>:2: DtypeWarning: Columns (15,16) have mixed types. Specify dtype option on import or set low_memory=False.\n"
     ]
    },
    {
     "name": "stdout",
     "output_type": "stream",
     "text": [
      "CPU times: user 21min 52s, sys: 48.9 s, total: 22min 41s\n",
      "Wall time: 22min 41s\n"
     ]
    }
   ],
   "source": [
    "%%time\n",
    "\n",
    "paper_journal = pd.DataFrame()\n",
    "\n",
    "i = 0\n",
    "for chunk in chunks:\n",
    "    paper_journal = pd.concat([paper_journal, chunk[chunk['JournalId'].isin(journal_subset['JournalId'])]])\n",
    "    i = i + 1\n",
    "    if i % 100 == 0:\n",
    "        print(i)"
   ]
  },
  {
   "cell_type": "code",
   "execution_count": 85,
   "metadata": {},
   "outputs": [],
   "source": [
    "paper_journal.to_csv('information_science_paper_subset.csv')"
   ]
  }
 ],
 "metadata": {
  "kernelspec": {
   "display_name": "Python 3",
   "language": "python",
   "name": "python3"
  },
  "language_info": {
   "codemirror_mode": {
    "name": "ipython",
    "version": 3
   },
   "file_extension": ".py",
   "mimetype": "text/x-python",
   "name": "python",
   "nbconvert_exporter": "python",
   "pygments_lexer": "ipython3",
   "version": "3.7.4"
  }
 },
 "nbformat": 4,
 "nbformat_minor": 2
}
