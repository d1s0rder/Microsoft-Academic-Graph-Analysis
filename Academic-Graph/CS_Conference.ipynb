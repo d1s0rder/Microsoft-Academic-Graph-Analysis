{
 "cells": [
  {
   "cell_type": "code",
   "execution_count": 100,
   "metadata": {},
   "outputs": [],
   "source": [
    "import pickle as pkl\n",
    "from dynGENIE3 import * #Or wherever you locate dynGENIE3 in.\n",
    "import pandas as pd\n",
    "import numpy  as np\n",
    "import networkx as nx\n",
    "import matplotlib.pyplot as plt\n",
    "import timeit\n",
    "%matplotlib inline"
   ]
  },
  {
   "cell_type": "code",
   "execution_count": 101,
   "metadata": {
    "collapsed": true
   },
   "outputs": [],
   "source": [
    "cs_data = pd.read_csv('computer_science_conference_subset.csv' ,header = 0, \\\n",
    "                      names=['article','topic','conference','year','date'], index_col = 0)\n",
    "cs_data.drop(columns=['date'],inplace=True)\n",
    "cs_data.sort_values(by='year',inplace=True)"
   ]
  },
  {
   "cell_type": "code",
   "execution_count": 102,
   "metadata": {},
   "outputs": [
    {
     "data": {
      "text/plain": [
       "(4127678, 4)"
      ]
     },
     "execution_count": 102,
     "metadata": {},
     "output_type": "execute_result"
    }
   ],
   "source": [
    "cs_data.shape"
   ]
  },
  {
   "cell_type": "code",
   "execution_count": 103,
   "metadata": {},
   "outputs": [
    {
     "data": {
      "text/html": [
       "<div>\n",
       "<style scoped>\n",
       "    .dataframe tbody tr th:only-of-type {\n",
       "        vertical-align: middle;\n",
       "    }\n",
       "\n",
       "    .dataframe tbody tr th {\n",
       "        vertical-align: top;\n",
       "    }\n",
       "\n",
       "    .dataframe thead th {\n",
       "        text-align: right;\n",
       "    }\n",
       "</style>\n",
       "<table border=\"1\" class=\"dataframe\">\n",
       "  <thead>\n",
       "    <tr style=\"text-align: right;\">\n",
       "      <th></th>\n",
       "      <th>article</th>\n",
       "      <th>topic</th>\n",
       "      <th>conference</th>\n",
       "      <th>year</th>\n",
       "    </tr>\n",
       "  </thead>\n",
       "  <tbody>\n",
       "    <tr>\n",
       "      <th>3357460</th>\n",
       "      <td>2621048332</td>\n",
       "      <td>23123220</td>\n",
       "      <td>1.133524e+09</td>\n",
       "      <td>1800.0</td>\n",
       "    </tr>\n",
       "    <tr>\n",
       "      <th>3357462</th>\n",
       "      <td>2621048332</td>\n",
       "      <td>44291984</td>\n",
       "      <td>1.133524e+09</td>\n",
       "      <td>1800.0</td>\n",
       "    </tr>\n",
       "    <tr>\n",
       "      <th>3357461</th>\n",
       "      <td>2621048332</td>\n",
       "      <td>41008148</td>\n",
       "      <td>1.133524e+09</td>\n",
       "      <td>1800.0</td>\n",
       "    </tr>\n",
       "    <tr>\n",
       "      <th>3357459</th>\n",
       "      <td>2621048332</td>\n",
       "      <td>77088390</td>\n",
       "      <td>1.133524e+09</td>\n",
       "      <td>1800.0</td>\n",
       "    </tr>\n",
       "    <tr>\n",
       "      <th>3305368</th>\n",
       "      <td>2565600429</td>\n",
       "      <td>16005928</td>\n",
       "      <td>1.130177e+09</td>\n",
       "      <td>1916.0</td>\n",
       "    </tr>\n",
       "  </tbody>\n",
       "</table>\n",
       "</div>"
      ],
      "text/plain": [
       "            article     topic    conference    year\n",
       "3357460  2621048332  23123220  1.133524e+09  1800.0\n",
       "3357462  2621048332  44291984  1.133524e+09  1800.0\n",
       "3357461  2621048332  41008148  1.133524e+09  1800.0\n",
       "3357459  2621048332  77088390  1.133524e+09  1800.0\n",
       "3305368  2565600429  16005928  1.130177e+09  1916.0"
      ]
     },
     "execution_count": 103,
     "metadata": {},
     "output_type": "execute_result"
    }
   ],
   "source": [
    "cs_data.head()"
   ]
  },
  {
   "cell_type": "code",
   "execution_count": 104,
   "metadata": {
    "collapsed": true
   },
   "outputs": [],
   "source": [
    "picked_keywords = pd.read_csv('Computer_Science_Conference_Subset_Top_Keywords_JunpeiPickUp.csv', index_col = 0)"
   ]
  },
  {
   "cell_type": "code",
   "execution_count": 105,
   "metadata": {},
   "outputs": [],
   "source": [
    "cs_data = cs_data[cs_data['topic'].isin(picked_keywords['topic_30_years'])]"
   ]
  },
  {
   "cell_type": "code",
   "execution_count": 106,
   "metadata": {
    "collapsed": true
   },
   "outputs": [],
   "source": [
    "##Remain recent years and somewhat frequent journal/topic.\n",
    "cs_data = cs_data[(cs_data.year>=1990) & (cs_data.year<=2019)]\n",
    "conference_list = cs_data['conference'].unique()\n",
    "# conference_count = cs_data.groupby('conference').count().reset_index()\n",
    "# conference_list = conference_count.conference[  conference_count.article>=1000].unique()\n",
    "# topic_count = cs_data.groupby('topic').count().reset_index()\n",
    "# topic_list = topic_count.topic[  topic_count.article>=500].unique()\n",
    "topic_list = cs_data['topic'].unique()\n",
    "year_list = cs_data.year.unique()\n",
    "\n",
    "# cs_data = cs_data[cs_data.conference.isin(conference_list)]  \n",
    "# cs_data = cs_data[cs_data.topic.isin(topic_list)]  "
   ]
  },
  {
   "cell_type": "code",
   "execution_count": 107,
   "metadata": {},
   "outputs": [
    {
     "data": {
      "text/plain": [
       "190"
      ]
     },
     "execution_count": 107,
     "metadata": {},
     "output_type": "execute_result"
    }
   ],
   "source": [
    "cs_data['topic'].nunique()"
   ]
  },
  {
   "cell_type": "code",
   "execution_count": 108,
   "metadata": {},
   "outputs": [
    {
     "data": {
      "text/html": [
       "<div>\n",
       "<style scoped>\n",
       "    .dataframe tbody tr th:only-of-type {\n",
       "        vertical-align: middle;\n",
       "    }\n",
       "\n",
       "    .dataframe tbody tr th {\n",
       "        vertical-align: top;\n",
       "    }\n",
       "\n",
       "    .dataframe thead th {\n",
       "        text-align: right;\n",
       "    }\n",
       "</style>\n",
       "<table border=\"1\" class=\"dataframe\">\n",
       "  <thead>\n",
       "    <tr style=\"text-align: right;\">\n",
       "      <th></th>\n",
       "      <th>article</th>\n",
       "      <th>topic</th>\n",
       "      <th>conference</th>\n",
       "      <th>year</th>\n",
       "    </tr>\n",
       "  </thead>\n",
       "  <tbody>\n",
       "    <tr>\n",
       "      <th>1375444</th>\n",
       "      <td>2073039908</td>\n",
       "      <td>76482347</td>\n",
       "      <td>1.169675e+09</td>\n",
       "      <td>1990.0</td>\n",
       "    </tr>\n",
       "    <tr>\n",
       "      <th>374734</th>\n",
       "      <td>1563621278</td>\n",
       "      <td>144171764</td>\n",
       "      <td>1.163902e+09</td>\n",
       "      <td>1990.0</td>\n",
       "    </tr>\n",
       "    <tr>\n",
       "      <th>1375445</th>\n",
       "      <td>2073039908</td>\n",
       "      <td>60048249</td>\n",
       "      <td>1.169675e+09</td>\n",
       "      <td>1990.0</td>\n",
       "    </tr>\n",
       "    <tr>\n",
       "      <th>2219142</th>\n",
       "      <td>2125525147</td>\n",
       "      <td>106516650</td>\n",
       "      <td>1.143724e+09</td>\n",
       "      <td>1990.0</td>\n",
       "    </tr>\n",
       "    <tr>\n",
       "      <th>2706241</th>\n",
       "      <td>2158348710</td>\n",
       "      <td>144171764</td>\n",
       "      <td>1.143279e+09</td>\n",
       "      <td>1990.0</td>\n",
       "    </tr>\n",
       "    <tr>\n",
       "      <th>...</th>\n",
       "      <td>...</td>\n",
       "      <td>...</td>\n",
       "      <td>...</td>\n",
       "      <td>...</td>\n",
       "    </tr>\n",
       "    <tr>\n",
       "      <th>3655038</th>\n",
       "      <td>2907063161</td>\n",
       "      <td>185429906</td>\n",
       "      <td>2.622963e+09</td>\n",
       "      <td>2019.0</td>\n",
       "    </tr>\n",
       "    <tr>\n",
       "      <th>3901664</th>\n",
       "      <td>2954907277</td>\n",
       "      <td>76449508</td>\n",
       "      <td>1.140000e+09</td>\n",
       "      <td>2019.0</td>\n",
       "    </tr>\n",
       "    <tr>\n",
       "      <th>3901723</th>\n",
       "      <td>2962919941</td>\n",
       "      <td>52102323</td>\n",
       "      <td>1.158168e+09</td>\n",
       "      <td>2019.0</td>\n",
       "    </tr>\n",
       "    <tr>\n",
       "      <th>3655044</th>\n",
       "      <td>2907063161</td>\n",
       "      <td>97541855</td>\n",
       "      <td>2.622963e+09</td>\n",
       "      <td>2019.0</td>\n",
       "    </tr>\n",
       "    <tr>\n",
       "      <th>3655046</th>\n",
       "      <td>2907063161</td>\n",
       "      <td>137836250</td>\n",
       "      <td>2.622963e+09</td>\n",
       "      <td>2019.0</td>\n",
       "    </tr>\n",
       "  </tbody>\n",
       "</table>\n",
       "<p>521582 rows × 4 columns</p>\n",
       "</div>"
      ],
      "text/plain": [
       "            article      topic    conference    year\n",
       "1375444  2073039908   76482347  1.169675e+09  1990.0\n",
       "374734   1563621278  144171764  1.163902e+09  1990.0\n",
       "1375445  2073039908   60048249  1.169675e+09  1990.0\n",
       "2219142  2125525147  106516650  1.143724e+09  1990.0\n",
       "2706241  2158348710  144171764  1.143279e+09  1990.0\n",
       "...             ...        ...           ...     ...\n",
       "3655038  2907063161  185429906  2.622963e+09  2019.0\n",
       "3901664  2954907277   76449508  1.140000e+09  2019.0\n",
       "3901723  2962919941   52102323  1.158168e+09  2019.0\n",
       "3655044  2907063161   97541855  2.622963e+09  2019.0\n",
       "3655046  2907063161  137836250  2.622963e+09  2019.0\n",
       "\n",
       "[521582 rows x 4 columns]"
      ]
     },
     "execution_count": 108,
     "metadata": {},
     "output_type": "execute_result"
    }
   ],
   "source": [
    "cs_data"
   ]
  },
  {
   "cell_type": "code",
   "execution_count": 109,
   "metadata": {
    "collapsed": true,
    "scrolled": true
   },
   "outputs": [],
   "source": [
    "##Frequency \n",
    "cs_count = cs_data.groupby(['topic','conference','year']).count() \n",
    "cs_count.rename( columns={'article':'count'},inplace=True )\n",
    "cs_count.reset_index(inplace=True)"
   ]
  },
  {
   "cell_type": "code",
   "execution_count": 110,
   "metadata": {},
   "outputs": [
    {
     "data": {
      "text/html": [
       "<div>\n",
       "<style scoped>\n",
       "    .dataframe tbody tr th:only-of-type {\n",
       "        vertical-align: middle;\n",
       "    }\n",
       "\n",
       "    .dataframe tbody tr th {\n",
       "        vertical-align: top;\n",
       "    }\n",
       "\n",
       "    .dataframe thead th {\n",
       "        text-align: right;\n",
       "    }\n",
       "</style>\n",
       "<table border=\"1\" class=\"dataframe\">\n",
       "  <thead>\n",
       "    <tr style=\"text-align: right;\">\n",
       "      <th></th>\n",
       "      <th>topic</th>\n",
       "      <th>conference</th>\n",
       "      <th>year</th>\n",
       "      <th>count</th>\n",
       "    </tr>\n",
       "  </thead>\n",
       "  <tbody>\n",
       "    <tr>\n",
       "      <th>0</th>\n",
       "      <td>58166</td>\n",
       "      <td>1.121228e+09</td>\n",
       "      <td>1990.0</td>\n",
       "      <td>2</td>\n",
       "    </tr>\n",
       "    <tr>\n",
       "      <th>1</th>\n",
       "      <td>58166</td>\n",
       "      <td>1.121228e+09</td>\n",
       "      <td>1992.0</td>\n",
       "      <td>3</td>\n",
       "    </tr>\n",
       "    <tr>\n",
       "      <th>2</th>\n",
       "      <td>58166</td>\n",
       "      <td>1.121228e+09</td>\n",
       "      <td>1993.0</td>\n",
       "      <td>3</td>\n",
       "    </tr>\n",
       "    <tr>\n",
       "      <th>3</th>\n",
       "      <td>58166</td>\n",
       "      <td>1.121228e+09</td>\n",
       "      <td>1994.0</td>\n",
       "      <td>4</td>\n",
       "    </tr>\n",
       "    <tr>\n",
       "      <th>4</th>\n",
       "      <td>58166</td>\n",
       "      <td>1.121228e+09</td>\n",
       "      <td>1995.0</td>\n",
       "      <td>3</td>\n",
       "    </tr>\n",
       "    <tr>\n",
       "      <th>...</th>\n",
       "      <td>...</td>\n",
       "      <td>...</td>\n",
       "      <td>...</td>\n",
       "      <td>...</td>\n",
       "    </tr>\n",
       "    <tr>\n",
       "      <th>86841</th>\n",
       "      <td>2908647359</td>\n",
       "      <td>2.623113e+09</td>\n",
       "      <td>2016.0</td>\n",
       "      <td>13</td>\n",
       "    </tr>\n",
       "    <tr>\n",
       "      <th>86842</th>\n",
       "      <td>2908647359</td>\n",
       "      <td>2.623113e+09</td>\n",
       "      <td>2017.0</td>\n",
       "      <td>19</td>\n",
       "    </tr>\n",
       "    <tr>\n",
       "      <th>86843</th>\n",
       "      <td>2908647359</td>\n",
       "      <td>2.623113e+09</td>\n",
       "      <td>2018.0</td>\n",
       "      <td>33</td>\n",
       "    </tr>\n",
       "    <tr>\n",
       "      <th>86844</th>\n",
       "      <td>2908647359</td>\n",
       "      <td>2.623113e+09</td>\n",
       "      <td>2019.0</td>\n",
       "      <td>14</td>\n",
       "    </tr>\n",
       "    <tr>\n",
       "      <th>86845</th>\n",
       "      <td>2908647359</td>\n",
       "      <td>2.754508e+09</td>\n",
       "      <td>2010.0</td>\n",
       "      <td>9</td>\n",
       "    </tr>\n",
       "  </tbody>\n",
       "</table>\n",
       "<p>86846 rows × 4 columns</p>\n",
       "</div>"
      ],
      "text/plain": [
       "            topic    conference    year  count\n",
       "0           58166  1.121228e+09  1990.0      2\n",
       "1           58166  1.121228e+09  1992.0      3\n",
       "2           58166  1.121228e+09  1993.0      3\n",
       "3           58166  1.121228e+09  1994.0      4\n",
       "4           58166  1.121228e+09  1995.0      3\n",
       "...           ...           ...     ...    ...\n",
       "86841  2908647359  2.623113e+09  2016.0     13\n",
       "86842  2908647359  2.623113e+09  2017.0     19\n",
       "86843  2908647359  2.623113e+09  2018.0     33\n",
       "86844  2908647359  2.623113e+09  2019.0     14\n",
       "86845  2908647359  2.754508e+09  2010.0      9\n",
       "\n",
       "[86846 rows x 4 columns]"
      ]
     },
     "execution_count": 110,
     "metadata": {},
     "output_type": "execute_result"
    }
   ],
   "source": [
    "cs_count"
   ]
  },
  {
   "cell_type": "code",
   "execution_count": 111,
   "metadata": {},
   "outputs": [],
   "source": [
    "##Create time-series for dyGENIE3.\n",
    "cs_wide = cs_count.pivot_table(index=['year','topic'], columns='conference', values='count')\n",
    "cs_wide.fillna(0, inplace=True)\n",
    "cs_wide.sort_values(by='year',inplace=True)\n",
    "cs_wide.reset_index(inplace=True)\n",
    "TS_data, time_points, decay_rates, gene_names = [], [], [], []\n",
    "decay_rates = np.zeros( len(conference_list) )\n",
    "gene_names = conference_list"
   ]
  },
  {
   "cell_type": "code",
   "execution_count": 112,
   "metadata": {},
   "outputs": [],
   "source": [
    "for topic in topic_list:\n",
    "    data = cs_wide[cs_wide['topic']==topic]\n",
    "    TS_data.append( data.drop(columns=['year', 'topic']).to_numpy() )\n",
    "    time_points.append( data['year'].to_numpy() )"
   ]
  },
  {
   "cell_type": "code",
   "execution_count": 113,
   "metadata": {},
   "outputs": [
    {
     "name": "stdout",
     "output_type": "stream",
     "text": [
      "Tree method: RF\n",
      "K: sqrt\n",
      "Number of trees: 1000\n",
      "alpha min: 0.0\n",
      "alpha max: 0.0\n",
      "\n",
      "\n",
      "running single threaded jobs\n",
      "Gene 1/62...\n",
      "Gene 2/62...\n",
      "Gene 3/62...\n",
      "Gene 4/62...\n",
      "Gene 5/62...\n",
      "Gene 6/62...\n",
      "Gene 7/62...\n",
      "Gene 8/62...\n",
      "Gene 9/62...\n",
      "Gene 10/62...\n",
      "Gene 11/62...\n",
      "Gene 12/62...\n",
      "Gene 13/62...\n",
      "Gene 14/62...\n",
      "Gene 15/62...\n",
      "Gene 16/62...\n",
      "Gene 17/62...\n",
      "Gene 18/62...\n",
      "Gene 19/62...\n",
      "Gene 20/62...\n",
      "Gene 21/62...\n",
      "Gene 22/62...\n",
      "Gene 23/62...\n",
      "Gene 24/62...\n",
      "Gene 25/62...\n",
      "Gene 26/62...\n",
      "Gene 27/62...\n",
      "Gene 28/62...\n",
      "Gene 29/62...\n",
      "Gene 30/62...\n",
      "Gene 31/62...\n",
      "Gene 32/62...\n",
      "Gene 33/62...\n",
      "Gene 34/62...\n",
      "Gene 35/62...\n",
      "Gene 36/62...\n",
      "Gene 37/62...\n",
      "Gene 38/62...\n",
      "Gene 39/62...\n",
      "Gene 40/62...\n",
      "Gene 41/62...\n",
      "Gene 42/62...\n",
      "Gene 43/62...\n",
      "Gene 44/62...\n",
      "Gene 45/62...\n",
      "Gene 46/62...\n",
      "Gene 47/62...\n",
      "Gene 48/62...\n",
      "Gene 49/62...\n",
      "Gene 50/62...\n",
      "Gene 51/62...\n",
      "Gene 52/62...\n",
      "Gene 53/62...\n",
      "Gene 54/62...\n",
      "Gene 55/62...\n",
      "Gene 56/62...\n",
      "Gene 57/62...\n",
      "Gene 58/62...\n",
      "Gene 59/62...\n",
      "Gene 60/62...\n",
      "Gene 61/62...\n",
      "Gene 62/62...\n",
      "Elapsed time: 168.75 seconds\n"
     ]
    }
   ],
   "source": [
    "(VIM, alphas, prediction_score,stability_score,treeEstimators) = dynGENIE3(TS_data, time_points,alpha=decay_rates)"
   ]
  },
  {
   "cell_type": "code",
   "execution_count": null,
   "metadata": {
    "collapsed": true
   },
   "outputs": [],
   "source": [
    "VIM.to_csv('journal_network_VIM.csv')"
   ]
  },
  {
   "cell_type": "code",
   "execution_count": null,
   "metadata": {
    "collapsed": true
   },
   "outputs": [],
   "source": [
    "# VIM = pd.read_csv('journal_network_VIM.csv')"
   ]
  },
  {
   "cell_type": "code",
   "execution_count": null,
   "metadata": {
    "collapsed": true
   },
   "outputs": [],
   "source": []
  },
  {
   "cell_type": "code",
   "execution_count": 114,
   "metadata": {
    "collapsed": true
   },
   "outputs": [],
   "source": [
    "result=pd.DataFrame(VIM,index=gene_names,columns=gene_names)  "
   ]
  },
  {
   "cell_type": "code",
   "execution_count": 115,
   "metadata": {},
   "outputs": [],
   "source": [
    "conference_name = pd.read_csv('./All data/mag/ConferenceSeries.txt', delimiter = \"\\t\", header = None,\n",
    "                              names = ['ConferenceSeriesId', 'Rank', 'NormalizedName', 'DisplayName', 'PaperCount',\\\n",
    "                                       'CitationCount', 'CreatedDate'])\n",
    "conference_subset_name = conference_name[conference_name['ConferenceSeriesId'].isin(result.index)]"
   ]
  },
  {
   "cell_type": "code",
   "execution_count": null,
   "metadata": {
    "collapsed": true
   },
   "outputs": [],
   "source": []
  },
  {
   "cell_type": "code",
   "execution_count": null,
   "metadata": {},
   "outputs": [],
   "source": [
    "result_withname = result.reset_index().merge(conference_subset_name[['ConferenceSeriesId', 'DisplayName']],\\\n",
    "                                             left_on = 'index', right_on = 'ConferenceSeriesId')\n"
   ]
  },
  {
   "cell_type": "code",
   "execution_count": null,
   "metadata": {
    "collapsed": true
   },
   "outputs": [],
   "source": [
    "result_withname.drop(0, axis = 1, inplace = True)"
   ]
  },
  {
   "cell_type": "code",
   "execution_count": null,
   "metadata": {
    "collapsed": true
   },
   "outputs": [],
   "source": [
    "result_withname.to_csv('journal_network.csv')"
   ]
  },
  {
   "cell_type": "code",
   "execution_count": 116,
   "metadata": {
    "collapsed": true
   },
   "outputs": [],
   "source": [
    "g=nx.from_numpy_array(VIM, create_using=nx.DiGraph) "
   ]
  },
  {
   "cell_type": "markdown",
   "metadata": {},
   "source": [
    "## Computer HITS Ranking"
   ]
  },
  {
   "cell_type": "code",
   "execution_count": 117,
   "metadata": {
    "collapsed": true
   },
   "outputs": [],
   "source": [
    "h,a=nx.hits(g)"
   ]
  },
  {
   "cell_type": "code",
   "execution_count": 118,
   "metadata": {},
   "outputs": [],
   "source": [
    "result_df = pd.DataFrame( index=result.index  )\n",
    "result_df['hub_index'] = h.values()\n",
    "result_df['authority_index'] = a.values()"
   ]
  },
  {
   "cell_type": "code",
   "execution_count": 119,
   "metadata": {},
   "outputs": [
    {
     "data": {
      "text/html": [
       "<div>\n",
       "<style scoped>\n",
       "    .dataframe tbody tr th:only-of-type {\n",
       "        vertical-align: middle;\n",
       "    }\n",
       "\n",
       "    .dataframe tbody tr th {\n",
       "        vertical-align: top;\n",
       "    }\n",
       "\n",
       "    .dataframe thead th {\n",
       "        text-align: right;\n",
       "    }\n",
       "</style>\n",
       "<table border=\"1\" class=\"dataframe\">\n",
       "  <thead>\n",
       "    <tr style=\"text-align: right;\">\n",
       "      <th></th>\n",
       "      <th>hub_index</th>\n",
       "      <th>authority_index</th>\n",
       "    </tr>\n",
       "  </thead>\n",
       "  <tbody>\n",
       "    <tr>\n",
       "      <th>1.169675e+09</th>\n",
       "      <td>0.009405</td>\n",
       "      <td>0.015018</td>\n",
       "    </tr>\n",
       "    <tr>\n",
       "      <th>1.163902e+09</th>\n",
       "      <td>0.039590</td>\n",
       "      <td>0.016964</td>\n",
       "    </tr>\n",
       "    <tr>\n",
       "      <th>1.143724e+09</th>\n",
       "      <td>0.010659</td>\n",
       "      <td>0.015970</td>\n",
       "    </tr>\n",
       "    <tr>\n",
       "      <th>1.143279e+09</th>\n",
       "      <td>0.019593</td>\n",
       "      <td>0.016589</td>\n",
       "    </tr>\n",
       "    <tr>\n",
       "      <th>1.153524e+09</th>\n",
       "      <td>0.009411</td>\n",
       "      <td>0.013821</td>\n",
       "    </tr>\n",
       "    <tr>\n",
       "      <th>...</th>\n",
       "      <td>...</td>\n",
       "      <td>...</td>\n",
       "    </tr>\n",
       "    <tr>\n",
       "      <th>1.173394e+09</th>\n",
       "      <td>0.010297</td>\n",
       "      <td>0.016660</td>\n",
       "    </tr>\n",
       "    <tr>\n",
       "      <th>1.134284e+09</th>\n",
       "      <td>0.006238</td>\n",
       "      <td>0.013254</td>\n",
       "    </tr>\n",
       "    <tr>\n",
       "      <th>1.120384e+09</th>\n",
       "      <td>0.007933</td>\n",
       "      <td>0.016086</td>\n",
       "    </tr>\n",
       "    <tr>\n",
       "      <th>2.754508e+09</th>\n",
       "      <td>0.016449</td>\n",
       "      <td>0.015871</td>\n",
       "    </tr>\n",
       "    <tr>\n",
       "      <th>2.623113e+09</th>\n",
       "      <td>0.001711</td>\n",
       "      <td>0.016627</td>\n",
       "    </tr>\n",
       "  </tbody>\n",
       "</table>\n",
       "<p>62 rows × 2 columns</p>\n",
       "</div>"
      ],
      "text/plain": [
       "              hub_index  authority_index\n",
       "1.169675e+09   0.009405         0.015018\n",
       "1.163902e+09   0.039590         0.016964\n",
       "1.143724e+09   0.010659         0.015970\n",
       "1.143279e+09   0.019593         0.016589\n",
       "1.153524e+09   0.009411         0.013821\n",
       "...                 ...              ...\n",
       "1.173394e+09   0.010297         0.016660\n",
       "1.134284e+09   0.006238         0.013254\n",
       "1.120384e+09   0.007933         0.016086\n",
       "2.754508e+09   0.016449         0.015871\n",
       "2.623113e+09   0.001711         0.016627\n",
       "\n",
       "[62 rows x 2 columns]"
      ]
     },
     "execution_count": 119,
     "metadata": {},
     "output_type": "execute_result"
    }
   ],
   "source": [
    "result_df"
   ]
  },
  {
   "cell_type": "code",
   "execution_count": 120,
   "metadata": {},
   "outputs": [],
   "source": [
    "# Add journal names\n",
    "\n",
    "result_hits_withname = result_df.reset_index().merge(conference_subset_name[['ConferenceSeriesId', 'DisplayName', 'NormalizedName']],\\\n",
    "                                                     left_on = 'index', right_on = 'ConferenceSeriesId')"
   ]
  },
  {
   "cell_type": "code",
   "execution_count": 121,
   "metadata": {},
   "outputs": [],
   "source": [
    "result_hits_withname.drop('index', axis = 1, inplace = True)\n",
    "result_hits_withname.sort_values('authority_index', inplace = True, ascending = False)"
   ]
  },
  {
   "cell_type": "code",
   "execution_count": 122,
   "metadata": {},
   "outputs": [
    {
     "data": {
      "text/html": [
       "<div>\n",
       "<style scoped>\n",
       "    .dataframe tbody tr th:only-of-type {\n",
       "        vertical-align: middle;\n",
       "    }\n",
       "\n",
       "    .dataframe tbody tr th {\n",
       "        vertical-align: top;\n",
       "    }\n",
       "\n",
       "    .dataframe thead th {\n",
       "        text-align: right;\n",
       "    }\n",
       "</style>\n",
       "<table border=\"1\" class=\"dataframe\">\n",
       "  <thead>\n",
       "    <tr style=\"text-align: right;\">\n",
       "      <th></th>\n",
       "      <th>hub_index</th>\n",
       "      <th>authority_index</th>\n",
       "      <th>ConferenceSeriesId</th>\n",
       "      <th>DisplayName</th>\n",
       "      <th>NormalizedName</th>\n",
       "    </tr>\n",
       "  </thead>\n",
       "  <tbody>\n",
       "    <tr>\n",
       "      <th>17</th>\n",
       "      <td>0.027573</td>\n",
       "      <td>0.019594</td>\n",
       "      <td>1124077590</td>\n",
       "      <td>European Conference on Computer Vision</td>\n",
       "      <td>ECCV</td>\n",
       "    </tr>\n",
       "    <tr>\n",
       "      <th>39</th>\n",
       "      <td>0.019134</td>\n",
       "      <td>0.018979</td>\n",
       "      <td>1185109434</td>\n",
       "      <td>Operating Systems Design and Implementation</td>\n",
       "      <td>OSDI</td>\n",
       "    </tr>\n",
       "    <tr>\n",
       "      <th>55</th>\n",
       "      <td>0.022068</td>\n",
       "      <td>0.018912</td>\n",
       "      <td>1183478919</td>\n",
       "      <td>International Conference on Data Mining</td>\n",
       "      <td>ICDM</td>\n",
       "    </tr>\n",
       "    <tr>\n",
       "      <th>43</th>\n",
       "      <td>0.012868</td>\n",
       "      <td>0.018790</td>\n",
       "      <td>2622962978</td>\n",
       "      <td>International Conference on Artificial Intelli...</td>\n",
       "      <td>AISTATS</td>\n",
       "    </tr>\n",
       "    <tr>\n",
       "      <th>14</th>\n",
       "      <td>0.029703</td>\n",
       "      <td>0.018481</td>\n",
       "      <td>1183230087</td>\n",
       "      <td>International Solid-State Circuits Conference</td>\n",
       "      <td>ISSCC</td>\n",
       "    </tr>\n",
       "    <tr>\n",
       "      <th>...</th>\n",
       "      <td>...</td>\n",
       "      <td>...</td>\n",
       "      <td>...</td>\n",
       "      <td>...</td>\n",
       "      <td>...</td>\n",
       "    </tr>\n",
       "    <tr>\n",
       "      <th>46</th>\n",
       "      <td>0.006566</td>\n",
       "      <td>0.014155</td>\n",
       "      <td>1192655580</td>\n",
       "      <td>Empirical Methods in Natural Language Processing</td>\n",
       "      <td>EMNLP</td>\n",
       "    </tr>\n",
       "    <tr>\n",
       "      <th>4</th>\n",
       "      <td>0.009411</td>\n",
       "      <td>0.013821</td>\n",
       "      <td>1153524033</td>\n",
       "      <td>International Cryptology Conference</td>\n",
       "      <td>CRYPTO</td>\n",
       "    </tr>\n",
       "    <tr>\n",
       "      <th>22</th>\n",
       "      <td>0.010962</td>\n",
       "      <td>0.013511</td>\n",
       "      <td>1184914352</td>\n",
       "      <td>National Conference on Artificial Intelligence</td>\n",
       "      <td>AAAI</td>\n",
       "    </tr>\n",
       "    <tr>\n",
       "      <th>12</th>\n",
       "      <td>0.007057</td>\n",
       "      <td>0.013508</td>\n",
       "      <td>1131341566</td>\n",
       "      <td>International Symposium on Computer Architecture</td>\n",
       "      <td>ISCA</td>\n",
       "    </tr>\n",
       "    <tr>\n",
       "      <th>58</th>\n",
       "      <td>0.006238</td>\n",
       "      <td>0.013254</td>\n",
       "      <td>1134284382</td>\n",
       "      <td>Conference on Recommender Systems</td>\n",
       "      <td>RecSys</td>\n",
       "    </tr>\n",
       "  </tbody>\n",
       "</table>\n",
       "<p>62 rows × 5 columns</p>\n",
       "</div>"
      ],
      "text/plain": [
       "    hub_index  authority_index  ConferenceSeriesId  \\\n",
       "17   0.027573         0.019594          1124077590   \n",
       "39   0.019134         0.018979          1185109434   \n",
       "55   0.022068         0.018912          1183478919   \n",
       "43   0.012868         0.018790          2622962978   \n",
       "14   0.029703         0.018481          1183230087   \n",
       "..        ...              ...                 ...   \n",
       "46   0.006566         0.014155          1192655580   \n",
       "4    0.009411         0.013821          1153524033   \n",
       "22   0.010962         0.013511          1184914352   \n",
       "12   0.007057         0.013508          1131341566   \n",
       "58   0.006238         0.013254          1134284382   \n",
       "\n",
       "                                          DisplayName NormalizedName  \n",
       "17             European Conference on Computer Vision           ECCV  \n",
       "39        Operating Systems Design and Implementation           OSDI  \n",
       "55            International Conference on Data Mining           ICDM  \n",
       "43  International Conference on Artificial Intelli...        AISTATS  \n",
       "14      International Solid-State Circuits Conference          ISSCC  \n",
       "..                                                ...            ...  \n",
       "46   Empirical Methods in Natural Language Processing          EMNLP  \n",
       "4                 International Cryptology Conference         CRYPTO  \n",
       "22     National Conference on Artificial Intelligence           AAAI  \n",
       "12   International Symposium on Computer Architecture           ISCA  \n",
       "58                  Conference on Recommender Systems         RecSys  \n",
       "\n",
       "[62 rows x 5 columns]"
      ]
     },
     "execution_count": 122,
     "metadata": {},
     "output_type": "execute_result"
    }
   ],
   "source": [
    "result_hits_withname"
   ]
  },
  {
   "cell_type": "code",
   "execution_count": null,
   "metadata": {
    "collapsed": true
   },
   "outputs": [],
   "source": []
  },
  {
   "cell_type": "code",
   "execution_count": 123,
   "metadata": {
    "collapsed": true
   },
   "outputs": [],
   "source": [
    "result_hits_withname.to_csv('cs_conference_hits.csv')"
   ]
  },
  {
   "cell_type": "markdown",
   "metadata": {},
   "source": [
    "## Visualization"
   ]
  },
  {
   "cell_type": "code",
   "execution_count": null,
   "metadata": {
    "collapsed": true
   },
   "outputs": [],
   "source": [
    "edge_200th_index = VIM.ravel().argsort()[-200:][0]\n",
    "edge_100th_index = VIM.ravel().argsort()[-100:][0]\n",
    "edge_50th_index = VIM.ravel().argsort()[-50:][0]\n",
    "edge_25th_index = VIM.ravel().argsort()[-25:][0]"
   ]
  },
  {
   "cell_type": "code",
   "execution_count": null,
   "metadata": {
    "collapsed": true
   },
   "outputs": [],
   "source": [
    "edge_200th = VIM.ravel()[edge_200th_index]\n",
    "edge_100th = VIM.ravel()[edge_100th_index]\n",
    "edge_50th = VIM.ravel()[edge_50th_index]\n",
    "edge_25th = VIM.ravel()[edge_25th_index]"
   ]
  },
  {
   "cell_type": "code",
   "execution_count": null,
   "metadata": {
    "collapsed": true
   },
   "outputs": [],
   "source": [
    "# Remove edges below threshold\n",
    "\n",
    "small_edge = []\n",
    "for u, v in g.edges():\n",
    "    if g[u][v]['weight'] < edge_200th:\n",
    "        small_edge.append((u,v))\n",
    "g.remove_edges_from(small_edge)"
   ]
  },
  {
   "cell_type": "code",
   "execution_count": null,
   "metadata": {
    "collapsed": true
   },
   "outputs": [],
   "source": [
    "# Edge color top 25th:black, 25th-100th: grey, 100th-200th: silver\n",
    "\n",
    "edge_color = []\n",
    "\n",
    "for u, v in g.edges():\n",
    "    if g[u][v]['weight'] < edge_100th:\n",
    "        edge_color.append('silver')\n",
    "    elif g[u][v]['weight'] >= edge_100th and g[u][v]['weight'] < edge_25th:\n",
    "        edge_color.append('grey')   \n",
    "    else:\n",
    "        edge_color.append('black')        \n"
   ]
  },
  {
   "cell_type": "code",
   "execution_count": null,
   "metadata": {
    "collapsed": true
   },
   "outputs": [],
   "source": [
    "# Topic modeling on nodes\n",
    "\n",
    "from sklearn.decomposition import LatentDirichletAllocation\n",
    "arch_cluster = arch_data.groupby(['topic','journal']).count() \n",
    "arch_cluster.reset_index(inplace=True)\n",
    "\n",
    "#Each row is a journal, each column is a keyword\n",
    "arch_cluster = arch_cluster.pivot_table(index=['journal'], columns='topic', values='article')  \n",
    "\n",
    "arch_cluster.fillna(0, inplace = True)\n",
    "\n",
    "lda = LatentDirichletAllocation(n_components=3)\n",
    "RGB = lda.fit_transform(arch_cluster)\n",
    "RGB_cluster = RGB.argsort(axis = 1)[:,-1]"
   ]
  },
  {
   "cell_type": "code",
   "execution_count": null,
   "metadata": {
    "collapsed": true
   },
   "outputs": [],
   "source": [
    "# Node color cluster 0: red, cluster 1: green, cluster 2: blue\n",
    "\n",
    "# node_color = []\n",
    "\n",
    "# for node in RGB_cluster:\n",
    "#     if node == 0:\n",
    "#         node_color.append('red')\n",
    "#     elif node == 1:\n",
    "#         node_color.append('green')\n",
    "#     else:\n",
    "#         node_color.append('blue')"
   ]
  },
  {
   "cell_type": "code",
   "execution_count": null,
   "metadata": {
    "collapsed": true
   },
   "outputs": [],
   "source": [
    "node_label = {}\n",
    "for i, node_index in enumerate(result.index):\n",
    "    node_label[i] = (journal_subset_name[journal_subset_name[0] == node_index]['Name'].values[0])"
   ]
  },
  {
   "cell_type": "code",
   "execution_count": null,
   "metadata": {
    "collapsed": true,
    "scrolled": false
   },
   "outputs": [],
   "source": [
    "plt.figure(figsize = (20,20))\n",
    "weights = [g[u][v]['weight'] * 50 for u,v in g.edges()]\n",
    "pos = nx.spring_layout(g, seed = 100)\n",
    "# nx.draw_networkx_labels(g, pos = pos, font_size = 8, with_labels = True, labels = node_label, font_color = 'red')\n",
    "\n",
    "node_20th_index = result_df['authority_index'].ravel().argsort()[-20:][0]\n",
    "\n",
    "for i in range(len(node_label)):\n",
    "    if result_df['authority_index'].iloc[i] >= result_df['authority_index'].iloc[node_20th_index]:\n",
    "        plt.plot([], [], color = RGB[i], label = node_label[i], marker = 'o',\\\n",
    "                 markersize = result_df['authority_index'].iloc[i] * 500, linewidth=0.0)\n",
    "\n",
    "nx.drawing.nx_pylab.draw_networkx(g, node_color = RGB, edge_color = edge_color, with_labels = False,\\\n",
    "                         font_color = 'white', pos = pos, width = weights, arrowsize = 10, arrow = True,\\\n",
    "                         node_size = result_df['authority_index'].values * 20000)\n",
    "\n",
    "plt.legend(bbox_to_anchor=(0.5, -0.05), loc = 'center', ncol = 4)\n"
   ]
  }
 ],
 "metadata": {
  "kernelspec": {
   "display_name": "Python 3",
   "language": "python",
   "name": "python3"
  },
  "language_info": {
   "codemirror_mode": {
    "name": "ipython",
    "version": 3
   },
   "file_extension": ".py",
   "mimetype": "text/x-python",
   "name": "python",
   "nbconvert_exporter": "python",
   "pygments_lexer": "ipython3",
   "version": "3.7.4"
  }
 },
 "nbformat": 4,
 "nbformat_minor": 2
}
