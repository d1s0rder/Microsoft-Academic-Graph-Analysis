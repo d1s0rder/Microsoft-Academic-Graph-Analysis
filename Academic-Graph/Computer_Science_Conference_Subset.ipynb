{
 "cells": [
  {
   "cell_type": "code",
   "execution_count": 5,
   "metadata": {
    "scrolled": true
   },
   "outputs": [],
   "source": [
    "import numpy as np\n",
    "import pandas as pd"
   ]
  },
  {
   "cell_type": "code",
   "execution_count": 6,
   "metadata": {},
   "outputs": [
    {
     "name": "stderr",
     "output_type": "stream",
     "text": [
      "/share/apps/python3/3.5.3/intel/lib/python3.5/site-packages/IPython/core/interactiveshell.py:2717: DtypeWarning: Columns (16,17) have mixed types. Specify dtype option on import or set low_memory=False.\n",
      "  interactivity=interactivity, compiler=compiler, result=result)\n"
     ]
    }
   ],
   "source": [
    "paper_cs = pd.read_csv('computer_science_paper_subset.csv', index_col = 0)\n",
    "paper_is = pd.read_csv('information_science_paper_subset.csv', index_col = 0)"
   ]
  },
  {
   "cell_type": "markdown",
   "metadata": {},
   "source": [
    "## CS"
   ]
  },
  {
   "cell_type": "code",
   "execution_count": 7,
   "metadata": {},
   "outputs": [],
   "source": [
    "chunks=pd.read_csv('./All data/advanced/PaperFieldsOfStudy.txt',chunksize=1000000,sep='\\t', header = None,\\\n",
    "                   names = ['PaperId', 'FieldOfStudyId', 'Score'])"
   ]
  },
  {
   "cell_type": "code",
   "execution_count": 8,
   "metadata": {},
   "outputs": [
    {
     "name": "stdout",
     "output_type": "stream",
     "text": [
      "100\n",
      "200\n",
      "300\n",
      "400\n",
      "500\n",
      "600\n",
      "700\n",
      "800\n",
      "900\n",
      "1000\n",
      "1100\n",
      "1200\n",
      "1300\n",
      "CPU times: user 9min 35s, sys: 51.4 s, total: 10min 26s\n",
      "Wall time: 10min 26s\n"
     ]
    }
   ],
   "source": [
    "%%time\n",
    "paper_topic = pd.DataFrame()\n",
    "\n",
    "i = 0\n",
    "for chunk in chunks:\n",
    "    paper_topic = pd.concat([paper_topic, chunk[chunk['PaperId'].isin(paper_cs['PaperId'].unique())]])\n",
    "    i = i+1\n",
    "    if i % 100 == 0:\n",
    "        print(i)"
   ]
  },
  {
   "cell_type": "code",
   "execution_count": 9,
   "metadata": {},
   "outputs": [],
   "source": [
    "computer_science_conference = paper_topic[['PaperId', 'FieldOfStudyId']].merge(paper_cs[['PaperId', 'ConferenceSeriesId', 'Year',\\\n",
    "                                                                                         'Date']], on = 'PaperId')"
   ]
  },
  {
   "cell_type": "code",
   "execution_count": 10,
   "metadata": {},
   "outputs": [],
   "source": [
    "computer_science_conference.rename(columns = {'PaperId' : 'article', 'FieldOfStudyId' : 'topic',\\\n",
    "                                              'ConferenceSeriesId' : 'conference', 'Year' : 'year', 'Date' : 'date'},\\\n",
    "                                   inplace = True)"
   ]
  },
  {
   "cell_type": "code",
   "execution_count": null,
   "metadata": {},
   "outputs": [],
   "source": [
    "computer_science_conference.to_csv('computer_science_conference_subset.csv')"
   ]
  },
  {
   "cell_type": "code",
   "execution_count": null,
   "metadata": {
    "collapsed": true
   },
   "outputs": [],
   "source": []
  },
  {
   "cell_type": "code",
   "execution_count": 11,
   "metadata": {
    "collapsed": true
   },
   "outputs": [],
   "source": [
    "topics=pd.read_csv('./All data/advanced/FieldsOfStudy.txt',sep='\\t', header = None,\\\n",
    "                   names = ['topic', 'Rank', 'NormalizedName', 'name', 'MainType', 'Level', 'PaperCount',\\\n",
    "                            'CitationCount', 'CreatedDate'])"
   ]
  },
  {
   "cell_type": "code",
   "execution_count": 12,
   "metadata": {},
   "outputs": [
    {
     "data": {
      "text/html": [
       "<div>\n",
       "<style scoped>\n",
       "    .dataframe tbody tr th:only-of-type {\n",
       "        vertical-align: middle;\n",
       "    }\n",
       "\n",
       "    .dataframe tbody tr th {\n",
       "        vertical-align: top;\n",
       "    }\n",
       "\n",
       "    .dataframe thead th {\n",
       "        text-align: right;\n",
       "    }\n",
       "</style>\n",
       "<table border=\"1\" class=\"dataframe\">\n",
       "  <thead>\n",
       "    <tr style=\"text-align: right;\">\n",
       "      <th></th>\n",
       "      <th>topic</th>\n",
       "      <th>Rank</th>\n",
       "      <th>NormalizedName</th>\n",
       "      <th>name</th>\n",
       "      <th>MainType</th>\n",
       "      <th>Level</th>\n",
       "      <th>PaperCount</th>\n",
       "      <th>CitationCount</th>\n",
       "      <th>CreatedDate</th>\n",
       "    </tr>\n",
       "  </thead>\n",
       "  <tbody>\n",
       "    <tr>\n",
       "      <th>0</th>\n",
       "      <td>417682</td>\n",
       "      <td>20658</td>\n",
       "      <td>night air</td>\n",
       "      <td>Night air</td>\n",
       "      <td>NaN</td>\n",
       "      <td>2</td>\n",
       "      <td>96</td>\n",
       "      <td>504</td>\n",
       "      <td>2016-06-24</td>\n",
       "    </tr>\n",
       "    <tr>\n",
       "      <th>1</th>\n",
       "      <td>1443462</td>\n",
       "      <td>18729</td>\n",
       "      <td>immobiliser</td>\n",
       "      <td>Immobiliser</td>\n",
       "      <td>NaN</td>\n",
       "      <td>2</td>\n",
       "      <td>400</td>\n",
       "      <td>1057</td>\n",
       "      <td>2016-06-24</td>\n",
       "    </tr>\n",
       "    <tr>\n",
       "      <th>2</th>\n",
       "      <td>1576492</td>\n",
       "      <td>13111</td>\n",
       "      <td>matrix pencil</td>\n",
       "      <td>Matrix pencil</td>\n",
       "      <td>NaN</td>\n",
       "      <td>3</td>\n",
       "      <td>1708</td>\n",
       "      <td>24700</td>\n",
       "      <td>2016-06-24</td>\n",
       "    </tr>\n",
       "    <tr>\n",
       "      <th>3</th>\n",
       "      <td>2657588</td>\n",
       "      <td>14817</td>\n",
       "      <td>combinatorial topology</td>\n",
       "      <td>Combinatorial topology</td>\n",
       "      <td>NaN</td>\n",
       "      <td>3</td>\n",
       "      <td>528</td>\n",
       "      <td>13987</td>\n",
       "      <td>2016-06-24</td>\n",
       "    </tr>\n",
       "    <tr>\n",
       "      <th>4</th>\n",
       "      <td>3079626</td>\n",
       "      <td>9292</td>\n",
       "      <td>quantum electrodynamics</td>\n",
       "      <td>Quantum electrodynamics</td>\n",
       "      <td>NaN</td>\n",
       "      <td>1</td>\n",
       "      <td>425305</td>\n",
       "      <td>6469899</td>\n",
       "      <td>2016-06-24</td>\n",
       "    </tr>\n",
       "  </tbody>\n",
       "</table>\n",
       "</div>"
      ],
      "text/plain": [
       "     topic   Rank           NormalizedName                     name MainType  \\\n",
       "0   417682  20658                night air                Night air      NaN   \n",
       "1  1443462  18729              immobiliser              Immobiliser      NaN   \n",
       "2  1576492  13111            matrix pencil            Matrix pencil      NaN   \n",
       "3  2657588  14817   combinatorial topology   Combinatorial topology      NaN   \n",
       "4  3079626   9292  quantum electrodynamics  Quantum electrodynamics      NaN   \n",
       "\n",
       "   Level  PaperCount  CitationCount CreatedDate  \n",
       "0      2          96            504  2016-06-24  \n",
       "1      2         400           1057  2016-06-24  \n",
       "2      3        1708          24700  2016-06-24  \n",
       "3      3         528          13987  2016-06-24  \n",
       "4      1      425305        6469899  2016-06-24  "
      ]
     },
     "execution_count": 12,
     "metadata": {},
     "output_type": "execute_result"
    }
   ],
   "source": [
    "topics.head()"
   ]
  },
  {
   "cell_type": "code",
   "execution_count": 13,
   "metadata": {
    "collapsed": true
   },
   "outputs": [],
   "source": [
    "cs_data = computer_science_conference.copy()\n",
    "cs_data.drop(columns=['date'],inplace=True)\n",
    "cs_data.sort_values(by='year',inplace=True)"
   ]
  },
  {
   "cell_type": "code",
   "execution_count": 14,
   "metadata": {},
   "outputs": [],
   "source": [
    "##Remain recent years and somewhat frequent journal/topic.\n",
    "cs_data = cs_data[cs_data.year>=1990]\n",
    "# conference_count = cs_data .groupby('conference').count().reset_index()\n",
    "# conference_list = conference_count.conference [  conference_count.article>=1000].unique()\n",
    "# topic_count = cs_data.groupby('topic').count().reset_index()\n",
    "# topic_list = topic_count.topic[  topic_count.article>=500].unique()\n",
    "# year_list = cs_data .year.unique()\n",
    "\n",
    "# cs_data = cs_data[cs_data.conference.isin(conference_list)]  \n",
    "# cs_data = cs_data[cs_data.topic.isin(topic_list)]"
   ]
  },
  {
   "cell_type": "code",
   "execution_count": 15,
   "metadata": {
    "collapsed": true
   },
   "outputs": [],
   "source": [
    "#  Identify sorted keywords from 1990 to 2020\n",
    "cs_data_top = cs_data.groupby('topic', as_index = False).count().sort_values('conference', ascending = False)\\\n",
    "                [['topic', 'conference']]\n",
    "cs_data_top.reset_index(inplace = True, drop = True)\n",
    "cs_data_top_name = cs_data_top.merge(topics[['topic', 'name', 'Level']], how = 'left', on = 'topic')\n",
    "cs_data_top_name.rename(columns = {'topic' : 'topic_30_years', 'conference' : 'count_30_years', 'name' : 'name_30_years'}\\\n",
    "                          , inplace = True)"
   ]
  },
  {
   "cell_type": "code",
   "execution_count": null,
   "metadata": {
    "collapsed": true
   },
   "outputs": [],
   "source": [
    "cs_data_top_name.to_csv('Computer_Science_Conference_Subset_Top_Keywords.csv')"
   ]
  },
  {
   "cell_type": "markdown",
   "metadata": {},
   "source": [
    "##  Level Keywords"
   ]
  },
  {
   "cell_type": "code",
   "execution_count": 16,
   "metadata": {},
   "outputs": [
    {
     "data": {
      "text/html": [
       "<div>\n",
       "<style scoped>\n",
       "    .dataframe tbody tr th:only-of-type {\n",
       "        vertical-align: middle;\n",
       "    }\n",
       "\n",
       "    .dataframe tbody tr th {\n",
       "        vertical-align: top;\n",
       "    }\n",
       "\n",
       "    .dataframe thead th {\n",
       "        text-align: right;\n",
       "    }\n",
       "</style>\n",
       "<table border=\"1\" class=\"dataframe\">\n",
       "  <thead>\n",
       "    <tr style=\"text-align: right;\">\n",
       "      <th></th>\n",
       "      <th>topic_30_years</th>\n",
       "      <th>count_30_years</th>\n",
       "      <th>name_30_years</th>\n",
       "      <th>Level</th>\n",
       "    </tr>\n",
       "  </thead>\n",
       "  <tbody>\n",
       "    <tr>\n",
       "      <th>0</th>\n",
       "      <td>41008148</td>\n",
       "      <td>360733</td>\n",
       "      <td>Computer science</td>\n",
       "      <td>0</td>\n",
       "    </tr>\n",
       "    <tr>\n",
       "      <th>1</th>\n",
       "      <td>154945302</td>\n",
       "      <td>208411</td>\n",
       "      <td>Artificial intelligence</td>\n",
       "      <td>1</td>\n",
       "    </tr>\n",
       "    <tr>\n",
       "      <th>2</th>\n",
       "      <td>119857082</td>\n",
       "      <td>86919</td>\n",
       "      <td>Machine learning</td>\n",
       "      <td>1</td>\n",
       "    </tr>\n",
       "    <tr>\n",
       "      <th>3</th>\n",
       "      <td>178980831</td>\n",
       "      <td>71794</td>\n",
       "      <td>Pattern recognition</td>\n",
       "      <td>1</td>\n",
       "    </tr>\n",
       "    <tr>\n",
       "      <th>4</th>\n",
       "      <td>31972630</td>\n",
       "      <td>53923</td>\n",
       "      <td>Computer vision</td>\n",
       "      <td>1</td>\n",
       "    </tr>\n",
       "    <tr>\n",
       "      <th>...</th>\n",
       "      <td>...</td>\n",
       "      <td>...</td>\n",
       "      <td>...</td>\n",
       "      <td>...</td>\n",
       "    </tr>\n",
       "    <tr>\n",
       "      <th>64367</th>\n",
       "      <td>2776112827</td>\n",
       "      <td>1</td>\n",
       "      <td>Digital morphogenesis</td>\n",
       "      <td>4</td>\n",
       "    </tr>\n",
       "    <tr>\n",
       "      <th>64368</th>\n",
       "      <td>2776113144</td>\n",
       "      <td>1</td>\n",
       "      <td>Double outlet right ventricle</td>\n",
       "      <td>4</td>\n",
       "    </tr>\n",
       "    <tr>\n",
       "      <th>64369</th>\n",
       "      <td>2776113583</td>\n",
       "      <td>1</td>\n",
       "      <td>Subprime lending</td>\n",
       "      <td>3</td>\n",
       "    </tr>\n",
       "    <tr>\n",
       "      <th>64370</th>\n",
       "      <td>2984214749</td>\n",
       "      <td>1</td>\n",
       "      <td>Multimedia metadata</td>\n",
       "      <td>4</td>\n",
       "    </tr>\n",
       "    <tr>\n",
       "      <th>64371</th>\n",
       "      <td>2778694018</td>\n",
       "      <td>1</td>\n",
       "      <td>Gymkhana</td>\n",
       "      <td>2</td>\n",
       "    </tr>\n",
       "  </tbody>\n",
       "</table>\n",
       "<p>64372 rows × 4 columns</p>\n",
       "</div>"
      ],
      "text/plain": [
       "       topic_30_years  count_30_years                  name_30_years  Level\n",
       "0            41008148          360733               Computer science      0\n",
       "1           154945302          208411        Artificial intelligence      1\n",
       "2           119857082           86919               Machine learning      1\n",
       "3           178980831           71794            Pattern recognition      1\n",
       "4            31972630           53923                Computer vision      1\n",
       "...               ...             ...                            ...    ...\n",
       "64367      2776112827               1          Digital morphogenesis      4\n",
       "64368      2776113144               1  Double outlet right ventricle      4\n",
       "64369      2776113583               1               Subprime lending      3\n",
       "64370      2984214749               1            Multimedia metadata      4\n",
       "64371      2778694018               1                       Gymkhana      2\n",
       "\n",
       "[64372 rows x 4 columns]"
      ]
     },
     "execution_count": 16,
     "metadata": {},
     "output_type": "execute_result"
    }
   ],
   "source": [
    "cs_data_top_name"
   ]
  },
  {
   "cell_type": "code",
   "execution_count": 36,
   "metadata": {},
   "outputs": [],
   "source": [
    "keywords_level_top = cs_data_top_name.groupby([\"Level\"]).apply(lambda x: x.sort_values([\"count_30_years\"], ascending = False)[:100])"
   ]
  },
  {
   "cell_type": "code",
   "execution_count": 37,
   "metadata": {
    "collapsed": true
   },
   "outputs": [],
   "source": [
    "keywords_level_top.to_csv('Computer_Science_Conference_Subset_Top_Keywords_By_Level.csv')"
   ]
  },
  {
   "cell_type": "code",
   "execution_count": null,
   "metadata": {
    "collapsed": true
   },
   "outputs": [],
   "source": []
  },
  {
   "cell_type": "markdown",
   "metadata": {},
   "source": [
    "## IS"
   ]
  },
  {
   "cell_type": "code",
   "execution_count": 38,
   "metadata": {
    "collapsed": true
   },
   "outputs": [],
   "source": [
    "chunks=pd.read_csv('./All data/advanced/PaperFieldsOfStudy.txt',chunksize=1000000,sep='\\t', header = None,\\\n",
    "                   names = ['PaperId', 'FieldOfStudyId', 'Score'])"
   ]
  },
  {
   "cell_type": "code",
   "execution_count": 39,
   "metadata": {},
   "outputs": [
    {
     "name": "stdout",
     "output_type": "stream",
     "text": [
      "100\n",
      "200\n",
      "300\n",
      "400\n",
      "500\n",
      "600\n",
      "700\n",
      "800\n",
      "900\n",
      "1000\n",
      "1100\n",
      "1200\n",
      "1300\n",
      "CPU times: user 5min 2s, sys: 10.3 s, total: 5min 12s\n",
      "Wall time: 5min 12s\n"
     ]
    }
   ],
   "source": [
    "%%time\n",
    "paper_topic = pd.DataFrame()\n",
    "\n",
    "i = 0\n",
    "for chunk in chunks:\n",
    "    paper_topic = pd.concat([paper_topic, chunk[chunk['PaperId'].isin(paper_is['PaperId'].unique())]])\n",
    "    i = i+1\n",
    "    if i % 100 == 0:\n",
    "        print(i)"
   ]
  },
  {
   "cell_type": "code",
   "execution_count": 40,
   "metadata": {},
   "outputs": [],
   "source": [
    "information_science_journal = paper_topic[['PaperId', 'FieldOfStudyId']].merge(paper_is[['PaperId', 'JournalId', 'Year',\\\n",
    "                                                                                         'Date']], on = 'PaperId')"
   ]
  },
  {
   "cell_type": "code",
   "execution_count": 41,
   "metadata": {},
   "outputs": [],
   "source": [
    "information_science_journal.rename(columns = {'PaperId' : 'article', 'FieldOfStudyId' : 'topic',\\\n",
    "                                              'JournalId' : 'journal', 'Year' : 'year', 'Date' : 'date'},\\\n",
    "                                   inplace = True)"
   ]
  },
  {
   "cell_type": "code",
   "execution_count": 42,
   "metadata": {},
   "outputs": [],
   "source": [
    "information_science_journal.to_csv('information_science_journal_subset.csv')"
   ]
  },
  {
   "cell_type": "code",
   "execution_count": 43,
   "metadata": {},
   "outputs": [
    {
     "data": {
      "text/html": [
       "<div>\n",
       "<style scoped>\n",
       "    .dataframe tbody tr th:only-of-type {\n",
       "        vertical-align: middle;\n",
       "    }\n",
       "\n",
       "    .dataframe tbody tr th {\n",
       "        vertical-align: top;\n",
       "    }\n",
       "\n",
       "    .dataframe thead th {\n",
       "        text-align: right;\n",
       "    }\n",
       "</style>\n",
       "<table border=\"1\" class=\"dataframe\">\n",
       "  <thead>\n",
       "    <tr style=\"text-align: right;\">\n",
       "      <th></th>\n",
       "      <th>article</th>\n",
       "      <th>topic</th>\n",
       "      <th>journal</th>\n",
       "      <th>year</th>\n",
       "      <th>date</th>\n",
       "    </tr>\n",
       "  </thead>\n",
       "  <tbody>\n",
       "    <tr>\n",
       "      <th>0</th>\n",
       "      <td>196357788</td>\n",
       "      <td>113993141</td>\n",
       "      <td>57293258.0</td>\n",
       "      <td>2014.0</td>\n",
       "      <td>2014-03-01</td>\n",
       "    </tr>\n",
       "    <tr>\n",
       "      <th>1</th>\n",
       "      <td>196357788</td>\n",
       "      <td>186855751</td>\n",
       "      <td>57293258.0</td>\n",
       "      <td>2014.0</td>\n",
       "      <td>2014-03-01</td>\n",
       "    </tr>\n",
       "    <tr>\n",
       "      <th>2</th>\n",
       "      <td>196357788</td>\n",
       "      <td>114611597</td>\n",
       "      <td>57293258.0</td>\n",
       "      <td>2014.0</td>\n",
       "      <td>2014-03-01</td>\n",
       "    </tr>\n",
       "    <tr>\n",
       "      <th>3</th>\n",
       "      <td>196357788</td>\n",
       "      <td>162853370</td>\n",
       "      <td>57293258.0</td>\n",
       "      <td>2014.0</td>\n",
       "      <td>2014-03-01</td>\n",
       "    </tr>\n",
       "    <tr>\n",
       "      <th>4</th>\n",
       "      <td>196357788</td>\n",
       "      <td>2777301405</td>\n",
       "      <td>57293258.0</td>\n",
       "      <td>2014.0</td>\n",
       "      <td>2014-03-01</td>\n",
       "    </tr>\n",
       "    <tr>\n",
       "      <th>...</th>\n",
       "      <td>...</td>\n",
       "      <td>...</td>\n",
       "      <td>...</td>\n",
       "      <td>...</td>\n",
       "      <td>...</td>\n",
       "    </tr>\n",
       "    <tr>\n",
       "      <th>260798</th>\n",
       "      <td>3000928323</td>\n",
       "      <td>162324750</td>\n",
       "      <td>33323087.0</td>\n",
       "      <td>1978.0</td>\n",
       "      <td>1978-11-01</td>\n",
       "    </tr>\n",
       "    <tr>\n",
       "      <th>260799</th>\n",
       "      <td>3000928323</td>\n",
       "      <td>195094911</td>\n",
       "      <td>33323087.0</td>\n",
       "      <td>1978.0</td>\n",
       "      <td>1978-11-01</td>\n",
       "    </tr>\n",
       "    <tr>\n",
       "      <th>260800</th>\n",
       "      <td>3000928323</td>\n",
       "      <td>175444787</td>\n",
       "      <td>33323087.0</td>\n",
       "      <td>1978.0</td>\n",
       "      <td>1978-11-01</td>\n",
       "    </tr>\n",
       "    <tr>\n",
       "      <th>260801</th>\n",
       "      <td>3000928323</td>\n",
       "      <td>155109394</td>\n",
       "      <td>33323087.0</td>\n",
       "      <td>1978.0</td>\n",
       "      <td>1978-11-01</td>\n",
       "    </tr>\n",
       "    <tr>\n",
       "      <th>260802</th>\n",
       "      <td>3000928323</td>\n",
       "      <td>48243021</td>\n",
       "      <td>33323087.0</td>\n",
       "      <td>1978.0</td>\n",
       "      <td>1978-11-01</td>\n",
       "    </tr>\n",
       "  </tbody>\n",
       "</table>\n",
       "<p>260803 rows × 5 columns</p>\n",
       "</div>"
      ],
      "text/plain": [
       "           article       topic     journal    year        date\n",
       "0        196357788   113993141  57293258.0  2014.0  2014-03-01\n",
       "1        196357788   186855751  57293258.0  2014.0  2014-03-01\n",
       "2        196357788   114611597  57293258.0  2014.0  2014-03-01\n",
       "3        196357788   162853370  57293258.0  2014.0  2014-03-01\n",
       "4        196357788  2777301405  57293258.0  2014.0  2014-03-01\n",
       "...            ...         ...         ...     ...         ...\n",
       "260798  3000928323   162324750  33323087.0  1978.0  1978-11-01\n",
       "260799  3000928323   195094911  33323087.0  1978.0  1978-11-01\n",
       "260800  3000928323   175444787  33323087.0  1978.0  1978-11-01\n",
       "260801  3000928323   155109394  33323087.0  1978.0  1978-11-01\n",
       "260802  3000928323    48243021  33323087.0  1978.0  1978-11-01\n",
       "\n",
       "[260803 rows x 5 columns]"
      ]
     },
     "execution_count": 43,
     "metadata": {},
     "output_type": "execute_result"
    }
   ],
   "source": [
    "information_science_journal"
   ]
  },
  {
   "cell_type": "code",
   "execution_count": 44,
   "metadata": {
    "collapsed": true
   },
   "outputs": [],
   "source": [
    "topics=pd.read_csv('./All data/advanced/FieldsOfStudy.txt',sep='\\t', header = None,\\\n",
    "                   names = ['topic', 'Rank', 'NormalizedName', 'name', 'MainType', 'Level', 'PaperCount',\\\n",
    "                            'CitationCount', 'CreatedDate'])"
   ]
  },
  {
   "cell_type": "code",
   "execution_count": 45,
   "metadata": {},
   "outputs": [
    {
     "data": {
      "text/html": [
       "<div>\n",
       "<style scoped>\n",
       "    .dataframe tbody tr th:only-of-type {\n",
       "        vertical-align: middle;\n",
       "    }\n",
       "\n",
       "    .dataframe tbody tr th {\n",
       "        vertical-align: top;\n",
       "    }\n",
       "\n",
       "    .dataframe thead th {\n",
       "        text-align: right;\n",
       "    }\n",
       "</style>\n",
       "<table border=\"1\" class=\"dataframe\">\n",
       "  <thead>\n",
       "    <tr style=\"text-align: right;\">\n",
       "      <th></th>\n",
       "      <th>topic</th>\n",
       "      <th>Rank</th>\n",
       "      <th>NormalizedName</th>\n",
       "      <th>name</th>\n",
       "      <th>MainType</th>\n",
       "      <th>Level</th>\n",
       "      <th>PaperCount</th>\n",
       "      <th>CitationCount</th>\n",
       "      <th>CreatedDate</th>\n",
       "    </tr>\n",
       "  </thead>\n",
       "  <tbody>\n",
       "    <tr>\n",
       "      <th>0</th>\n",
       "      <td>417682</td>\n",
       "      <td>20658</td>\n",
       "      <td>night air</td>\n",
       "      <td>Night air</td>\n",
       "      <td>NaN</td>\n",
       "      <td>2</td>\n",
       "      <td>96</td>\n",
       "      <td>504</td>\n",
       "      <td>2016-06-24</td>\n",
       "    </tr>\n",
       "    <tr>\n",
       "      <th>1</th>\n",
       "      <td>1443462</td>\n",
       "      <td>18729</td>\n",
       "      <td>immobiliser</td>\n",
       "      <td>Immobiliser</td>\n",
       "      <td>NaN</td>\n",
       "      <td>2</td>\n",
       "      <td>400</td>\n",
       "      <td>1057</td>\n",
       "      <td>2016-06-24</td>\n",
       "    </tr>\n",
       "    <tr>\n",
       "      <th>2</th>\n",
       "      <td>1576492</td>\n",
       "      <td>13111</td>\n",
       "      <td>matrix pencil</td>\n",
       "      <td>Matrix pencil</td>\n",
       "      <td>NaN</td>\n",
       "      <td>3</td>\n",
       "      <td>1708</td>\n",
       "      <td>24700</td>\n",
       "      <td>2016-06-24</td>\n",
       "    </tr>\n",
       "    <tr>\n",
       "      <th>3</th>\n",
       "      <td>2657588</td>\n",
       "      <td>14817</td>\n",
       "      <td>combinatorial topology</td>\n",
       "      <td>Combinatorial topology</td>\n",
       "      <td>NaN</td>\n",
       "      <td>3</td>\n",
       "      <td>528</td>\n",
       "      <td>13987</td>\n",
       "      <td>2016-06-24</td>\n",
       "    </tr>\n",
       "    <tr>\n",
       "      <th>4</th>\n",
       "      <td>3079626</td>\n",
       "      <td>9292</td>\n",
       "      <td>quantum electrodynamics</td>\n",
       "      <td>Quantum electrodynamics</td>\n",
       "      <td>NaN</td>\n",
       "      <td>1</td>\n",
       "      <td>425305</td>\n",
       "      <td>6469899</td>\n",
       "      <td>2016-06-24</td>\n",
       "    </tr>\n",
       "  </tbody>\n",
       "</table>\n",
       "</div>"
      ],
      "text/plain": [
       "     topic   Rank           NormalizedName                     name MainType  \\\n",
       "0   417682  20658                night air                Night air      NaN   \n",
       "1  1443462  18729              immobiliser              Immobiliser      NaN   \n",
       "2  1576492  13111            matrix pencil            Matrix pencil      NaN   \n",
       "3  2657588  14817   combinatorial topology   Combinatorial topology      NaN   \n",
       "4  3079626   9292  quantum electrodynamics  Quantum electrodynamics      NaN   \n",
       "\n",
       "   Level  PaperCount  CitationCount CreatedDate  \n",
       "0      2          96            504  2016-06-24  \n",
       "1      2         400           1057  2016-06-24  \n",
       "2      3        1708          24700  2016-06-24  \n",
       "3      3         528          13987  2016-06-24  \n",
       "4      1      425305        6469899  2016-06-24  "
      ]
     },
     "execution_count": 45,
     "metadata": {},
     "output_type": "execute_result"
    }
   ],
   "source": [
    "topics.head()"
   ]
  },
  {
   "cell_type": "code",
   "execution_count": 46,
   "metadata": {
    "collapsed": true
   },
   "outputs": [],
   "source": [
    "is_data = information_science_journal.copy()\n",
    "is_data.drop(columns=['date'],inplace=True)\n",
    "is_data.sort_values(by='year',inplace=True)"
   ]
  },
  {
   "cell_type": "code",
   "execution_count": 47,
   "metadata": {},
   "outputs": [],
   "source": [
    "##Remain recent years and somewhat frequent journal/topic.\n",
    "is_data = is_data[is_data.year>=1990]\n",
    "# conference_count = cs_data .groupby('conference').count().reset_index()\n",
    "# conference_list = conference_count.conference [  conference_count.article>=1000].unique()\n",
    "# topic_count = cs_data.groupby('topic').count().reset_index()\n",
    "# topic_list = topic_count.topic[  topic_count.article>=500].unique()\n",
    "# year_list = cs_data .year.unique()\n",
    "\n",
    "# cs_data = cs_data[cs_data.conference.isin(conference_list)]  \n",
    "# cs_data = cs_data[cs_data.topic.isin(topic_list)]"
   ]
  },
  {
   "cell_type": "code",
   "execution_count": 48,
   "metadata": {},
   "outputs": [],
   "source": [
    "#  Identify sorted keywords from 1990 to 2020\n",
    "is_data_top = is_data.groupby('topic', as_index = False).count().sort_values('journal', ascending = False)\\\n",
    "                [['topic', 'journal']]\n",
    "is_data_top.reset_index(inplace = True, drop = True)\n",
    "is_data_top_name = is_data_top.merge(topics[['topic', 'name']], how = 'left', on = 'topic')\n",
    "is_data_top_name.rename(columns = {'topic' : 'topic_30_years', 'journal' : 'count_30_years', 'name' : 'name_30_years'}\\\n",
    "                          , inplace = True)"
   ]
  },
  {
   "cell_type": "code",
   "execution_count": 49,
   "metadata": {
    "collapsed": true
   },
   "outputs": [],
   "source": [
    "is_data_top_name.to_csv('Information_Science_Journal_Subset_Top_Keywords.csv')"
   ]
  }
 ],
 "metadata": {
  "kernelspec": {
   "display_name": "Python 3",
   "language": "python",
   "name": "python3"
  },
  "language_info": {
   "codemirror_mode": {
    "name": "ipython",
    "version": 3
   },
   "file_extension": ".py",
   "mimetype": "text/x-python",
   "name": "python",
   "nbconvert_exporter": "python",
   "pygments_lexer": "ipython3",
   "version": "3.7.4"
  }
 },
 "nbformat": 4,
 "nbformat_minor": 2
}
