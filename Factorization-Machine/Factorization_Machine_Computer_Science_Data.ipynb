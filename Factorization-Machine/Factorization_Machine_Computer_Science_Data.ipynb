{
 "cells": [
  {
   "cell_type": "code",
   "execution_count": 2,
   "metadata": {
    "collapsed": true,
    "deletable": true,
    "editable": true
   },
   "outputs": [],
   "source": [
    "import numpy as np\n",
    "import pandas as pd\n",
    "import matplotlib.pyplot as plt\n",
    "%matplotlib inline"
   ]
  },
  {
   "cell_type": "code",
   "execution_count": null,
   "metadata": {
    "collapsed": true,
    "deletable": true,
    "editable": true
   },
   "outputs": [],
   "source": []
  },
  {
   "cell_type": "code",
   "execution_count": 15,
   "metadata": {
    "collapsed": true,
    "deletable": true,
    "editable": true
   },
   "outputs": [],
   "source": [
    "topics=pd.read_csv('./All data/advanced/FieldsOfStudy.txt',sep='\\t', header = None,\\\n",
    "                   names = ['topic', 'Rank', 'NormalizedName', 'name', 'MainType', 'Level', 'PaperCount',\\\n",
    "                            'CitationCount', 'CreatedDate'])"
   ]
  },
  {
   "cell_type": "code",
   "execution_count": 18,
   "metadata": {
    "collapsed": false,
    "deletable": true,
    "editable": true
   },
   "outputs": [
    {
     "data": {
      "text/html": [
       "<div>\n",
       "<style scoped>\n",
       "    .dataframe tbody tr th:only-of-type {\n",
       "        vertical-align: middle;\n",
       "    }\n",
       "\n",
       "    .dataframe tbody tr th {\n",
       "        vertical-align: top;\n",
       "    }\n",
       "\n",
       "    .dataframe thead th {\n",
       "        text-align: right;\n",
       "    }\n",
       "</style>\n",
       "<table border=\"1\" class=\"dataframe\">\n",
       "  <thead>\n",
       "    <tr style=\"text-align: right;\">\n",
       "      <th></th>\n",
       "      <th>topic</th>\n",
       "      <th>Rank</th>\n",
       "      <th>NormalizedName</th>\n",
       "      <th>name</th>\n",
       "      <th>MainType</th>\n",
       "      <th>Level</th>\n",
       "      <th>PaperCount</th>\n",
       "      <th>CitationCount</th>\n",
       "      <th>CreatedDate</th>\n",
       "    </tr>\n",
       "  </thead>\n",
       "  <tbody>\n",
       "    <tr>\n",
       "      <th>392073</th>\n",
       "      <td>41008148</td>\n",
       "      <td>7234</td>\n",
       "      <td>computer science</td>\n",
       "      <td>Computer science</td>\n",
       "      <td>NaN</td>\n",
       "      <td>0</td>\n",
       "      <td>22305962</td>\n",
       "      <td>119736403</td>\n",
       "      <td>2016-06-24</td>\n",
       "    </tr>\n",
       "  </tbody>\n",
       "</table>\n",
       "</div>"
      ],
      "text/plain": [
       "           topic  Rank    NormalizedName              name MainType  Level  \\\n",
       "392073  41008148  7234  computer science  Computer science      NaN      0   \n",
       "\n",
       "        PaperCount  CitationCount CreatedDate  \n",
       "392073    22305962      119736403  2016-06-24  "
      ]
     },
     "execution_count": 18,
     "metadata": {},
     "output_type": "execute_result"
    }
   ],
   "source": [
    "topics[topics['name'] == 'Computer science']"
   ]
  },
  {
   "cell_type": "code",
   "execution_count": null,
   "metadata": {
    "collapsed": true,
    "deletable": true,
    "editable": true
   },
   "outputs": [],
   "source": [
    "chunks=pd.read_csv('./All data/advanced/PaperFieldsOfStudy.txt',chunksize=1000000,sep='\\t', header = None,\\\n",
    "                   names = ['PaperId', 'FieldOfStudyId', 'Score'])"
   ]
  },
  {
   "cell_type": "code",
   "execution_count": null,
   "metadata": {
    "collapsed": false,
    "deletable": true,
    "editable": true
   },
   "outputs": [],
   "source": [
    "# Choose paperid with keyword: computer science\n",
    "\n",
    "paper_id_cs = []\n",
    "\n",
    "i = 0\n",
    "for chunk in chunks:\n",
    "    chunk = chunk[chunk['FieldOfStudyId'] == 41008148]\n",
    "    paper_id_cs.extend(chunk['PaperId'].unique().tolist())"
   ]
  },
  {
   "cell_type": "code",
   "execution_count": null,
   "metadata": {
    "collapsed": false,
    "deletable": true,
    "editable": true
   },
   "outputs": [],
   "source": [
    "chunks=pd.read_csv('./All data/advanced/PaperFieldsOfStudy.txt',chunksize=1000000,sep='\\t', header = None,\\\n",
    "                   names = ['PaperId', 'FieldOfStudyId', 'Score'])"
   ]
  },
  {
   "cell_type": "code",
   "execution_count": null,
   "metadata": {
    "collapsed": false,
    "deletable": true,
    "editable": true
   },
   "outputs": [],
   "source": [
    "# Choose paper with keyword: computer science\n",
    "\n",
    "%%time\n",
    "paper_cs = pd.DataFrame()\n",
    "\n",
    "i = 0\n",
    "for chunk in chunks:\n",
    "    paper_cs = pd.concat([paper_cs,\\\n",
    "                                  chunk[chunk['PaperId'].isin(paper_id_cs)]])\n",
    "    \n"
   ]
  },
  {
   "cell_type": "code",
   "execution_count": null,
   "metadata": {
    "collapsed": true,
    "deletable": true,
    "editable": true
   },
   "outputs": [],
   "source": [
    "paper_cs.to_csv('paper_cs.csv')"
   ]
  },
  {
   "cell_type": "code",
   "execution_count": 4,
   "metadata": {
    "collapsed": false,
    "deletable": true,
    "editable": true
   },
   "outputs": [
    {
     "data": {
      "text/html": [
       "<div>\n",
       "<style scoped>\n",
       "    .dataframe tbody tr th:only-of-type {\n",
       "        vertical-align: middle;\n",
       "    }\n",
       "\n",
       "    .dataframe tbody tr th {\n",
       "        vertical-align: top;\n",
       "    }\n",
       "\n",
       "    .dataframe thead th {\n",
       "        text-align: right;\n",
       "    }\n",
       "</style>\n",
       "<table border=\"1\" class=\"dataframe\">\n",
       "  <thead>\n",
       "    <tr style=\"text-align: right;\">\n",
       "      <th></th>\n",
       "      <th>PaperId</th>\n",
       "      <th>FieldOfStudyId</th>\n",
       "      <th>Score</th>\n",
       "    </tr>\n",
       "  </thead>\n",
       "  <tbody>\n",
       "    <tr>\n",
       "      <th>150</th>\n",
       "      <td>178181472</td>\n",
       "      <td>49774154</td>\n",
       "      <td>0.457465</td>\n",
       "    </tr>\n",
       "    <tr>\n",
       "      <th>164</th>\n",
       "      <td>178181472</td>\n",
       "      <td>20894473</td>\n",
       "      <td>0.678505</td>\n",
       "    </tr>\n",
       "    <tr>\n",
       "      <th>178</th>\n",
       "      <td>178181472</td>\n",
       "      <td>107457646</td>\n",
       "      <td>0.465926</td>\n",
       "    </tr>\n",
       "    <tr>\n",
       "      <th>192</th>\n",
       "      <td>178181472</td>\n",
       "      <td>41008148</td>\n",
       "      <td>0.451938</td>\n",
       "    </tr>\n",
       "    <tr>\n",
       "      <th>206</th>\n",
       "      <td>178181472</td>\n",
       "      <td>2777926402</td>\n",
       "      <td>0.694343</td>\n",
       "    </tr>\n",
       "  </tbody>\n",
       "</table>\n",
       "</div>"
      ],
      "text/plain": [
       "       PaperId  FieldOfStudyId     Score\n",
       "150  178181472        49774154  0.457465\n",
       "164  178181472        20894473  0.678505\n",
       "178  178181472       107457646  0.465926\n",
       "192  178181472        41008148  0.451938\n",
       "206  178181472      2777926402  0.694343"
      ]
     },
     "execution_count": 4,
     "metadata": {},
     "output_type": "execute_result"
    }
   ],
   "source": [
    "paper_cs.head()"
   ]
  },
  {
   "cell_type": "code",
   "execution_count": 5,
   "metadata": {
    "collapsed": false,
    "deletable": true,
    "editable": true
   },
   "outputs": [],
   "source": [
    "chunks = pd.read_csv('./All data/mag/Papers.txt',chunksize=1000000,sep = '\\t', header = None,\\\n",
    "                       names = ['PaperId', 'Rank', 'Doi', 'DocType', 'PaperTitle', 'OriginalTitle', 'BookTitle', 'Year',\\\n",
    "                                'Date', 'Publisher', 'JournalId', 'ConferenceSeriesId', 'ConferenceInstanceId', 'Volume',\\\n",
    "                                'Issue', 'FirstPage', 'LastPage', 'ReferenceCount', 'CitationCount', 'EstimatedCitation',\\\n",
    "                                'OriginalVenue', 'FamilyId', 'CreatedDate'], low_memory = False)"
   ]
  },
  {
   "cell_type": "code",
   "execution_count": 9,
   "metadata": {
    "collapsed": false,
    "deletable": true,
    "editable": true
   },
   "outputs": [],
   "source": [
    "# Pick paper publication year between 1980 and 2017\n",
    "\n",
    "paper_year_filter_cs = pd.DataFrame()\n",
    "\n",
    "i = 0\n",
    "for chunk in chunks:\n",
    "    chunk['Year'] = chunk['Year'].fillna('0').astype('str')\n",
    "    chunk['Year'] = pd.to_numeric(chunk['Year'].str[:4], errors = 'coerce')\n",
    "    chunk['Year'] = chunk['Year'].fillna(0)\n",
    "    paper_year_filter_cs = pd.concat([paper_year_filter_cs,\\\n",
    "                                  chunk[(chunk['PaperId'].isin(paper_cs['PaperId'].unique())) & (chunk['Year'] >= 1980) &\\\n",
    "                                        (chunk['Year'] <= 2017)]])"
   ]
  },
  {
   "cell_type": "code",
   "execution_count": 10,
   "metadata": {
    "collapsed": false,
    "deletable": true,
    "editable": true
   },
   "outputs": [
    {
     "data": {
      "text/html": [
       "<div>\n",
       "<style scoped>\n",
       "    .dataframe tbody tr th:only-of-type {\n",
       "        vertical-align: middle;\n",
       "    }\n",
       "\n",
       "    .dataframe tbody tr th {\n",
       "        vertical-align: top;\n",
       "    }\n",
       "\n",
       "    .dataframe thead th {\n",
       "        text-align: right;\n",
       "    }\n",
       "</style>\n",
       "<table border=\"1\" class=\"dataframe\">\n",
       "  <thead>\n",
       "    <tr style=\"text-align: right;\">\n",
       "      <th></th>\n",
       "      <th>PaperId</th>\n",
       "      <th>Rank</th>\n",
       "      <th>Doi</th>\n",
       "      <th>DocType</th>\n",
       "      <th>PaperTitle</th>\n",
       "      <th>OriginalTitle</th>\n",
       "      <th>BookTitle</th>\n",
       "      <th>Year</th>\n",
       "      <th>Date</th>\n",
       "      <th>Publisher</th>\n",
       "      <th>...</th>\n",
       "      <th>Volume</th>\n",
       "      <th>Issue</th>\n",
       "      <th>FirstPage</th>\n",
       "      <th>LastPage</th>\n",
       "      <th>ReferenceCount</th>\n",
       "      <th>CitationCount</th>\n",
       "      <th>EstimatedCitation</th>\n",
       "      <th>OriginalVenue</th>\n",
       "      <th>FamilyId</th>\n",
       "      <th>CreatedDate</th>\n",
       "    </tr>\n",
       "  </thead>\n",
       "  <tbody>\n",
       "    <tr>\n",
       "      <th>1000015</th>\n",
       "      <td>1552584886</td>\n",
       "      <td>24371</td>\n",
       "      <td>NaN</td>\n",
       "      <td>Conference</td>\n",
       "      <td>a blend of semi open innovation open sourcenes...</td>\n",
       "      <td>A blend of semi-open innovation &amp; open sourcen...</td>\n",
       "      <td>NaN</td>\n",
       "      <td>2013.0</td>\n",
       "      <td>2013-05-01</td>\n",
       "      <td>IEEE</td>\n",
       "      <td>...</td>\n",
       "      <td>NaN</td>\n",
       "      <td>NaN</td>\n",
       "      <td>384</td>\n",
       "      <td>389</td>\n",
       "      <td>4</td>\n",
       "      <td>0</td>\n",
       "      <td>0</td>\n",
       "      <td>international convention on information and co...</td>\n",
       "      <td>NaN</td>\n",
       "      <td>2016-06-24</td>\n",
       "    </tr>\n",
       "    <tr>\n",
       "      <th>1000022</th>\n",
       "      <td>1558590578</td>\n",
       "      <td>24728</td>\n",
       "      <td>10.1002/9781118983904.ch2</td>\n",
       "      <td>NaN</td>\n",
       "      <td>powerpoint nuts and bolts</td>\n",
       "      <td>PowerPoint Nuts and Bolts</td>\n",
       "      <td>Microsoft® PowerPoint® 2010 All-in-One for Dum...</td>\n",
       "      <td>2014.0</td>\n",
       "      <td>2014-06-23</td>\n",
       "      <td>John Wiley &amp; Sons, Inc.</td>\n",
       "      <td>...</td>\n",
       "      <td>NaN</td>\n",
       "      <td>NaN</td>\n",
       "      <td>15</td>\n",
       "      <td>34</td>\n",
       "      <td>0</td>\n",
       "      <td>0</td>\n",
       "      <td>0</td>\n",
       "      <td>NaN</td>\n",
       "      <td>NaN</td>\n",
       "      <td>2016-06-24</td>\n",
       "    </tr>\n",
       "    <tr>\n",
       "      <th>1000056</th>\n",
       "      <td>1589417878</td>\n",
       "      <td>21801</td>\n",
       "      <td>NaN</td>\n",
       "      <td>Patent</td>\n",
       "      <td>vram having isolated array sections for provid...</td>\n",
       "      <td>VRAM having isolated array sections for provid...</td>\n",
       "      <td>NaN</td>\n",
       "      <td>1993.0</td>\n",
       "      <td>1993-03-11</td>\n",
       "      <td>NaN</td>\n",
       "      <td>...</td>\n",
       "      <td>NaN</td>\n",
       "      <td>NaN</td>\n",
       "      <td>NaN</td>\n",
       "      <td>NaN</td>\n",
       "      <td>13</td>\n",
       "      <td>13</td>\n",
       "      <td>13</td>\n",
       "      <td>NaN</td>\n",
       "      <td>NaN</td>\n",
       "      <td>2016-06-24</td>\n",
       "    </tr>\n",
       "    <tr>\n",
       "      <th>1000061</th>\n",
       "      <td>1594179622</td>\n",
       "      <td>21777</td>\n",
       "      <td>NaN</td>\n",
       "      <td>Patent</td>\n",
       "      <td>ball and target game with tiltable playing sur...</td>\n",
       "      <td>Ball-and-target game with tiltable playing sur...</td>\n",
       "      <td>NaN</td>\n",
       "      <td>1986.0</td>\n",
       "      <td>1986-06-05</td>\n",
       "      <td>NaN</td>\n",
       "      <td>...</td>\n",
       "      <td>NaN</td>\n",
       "      <td>NaN</td>\n",
       "      <td>NaN</td>\n",
       "      <td>NaN</td>\n",
       "      <td>5</td>\n",
       "      <td>5</td>\n",
       "      <td>5</td>\n",
       "      <td>NaN</td>\n",
       "      <td>NaN</td>\n",
       "      <td>2016-06-24</td>\n",
       "    </tr>\n",
       "    <tr>\n",
       "      <th>1000066</th>\n",
       "      <td>1598998171</td>\n",
       "      <td>24629</td>\n",
       "      <td>10.1017/CBO9781139342858.005</td>\n",
       "      <td>NaN</td>\n",
       "      <td>the sounds of korean basic concepts of phonology</td>\n",
       "      <td>The Sounds of Korean: Basic concepts of phonology</td>\n",
       "      <td>NaN</td>\n",
       "      <td>2012.0</td>\n",
       "      <td>2012-01-01</td>\n",
       "      <td>NaN</td>\n",
       "      <td>...</td>\n",
       "      <td>NaN</td>\n",
       "      <td>NaN</td>\n",
       "      <td>NaN</td>\n",
       "      <td>NaN</td>\n",
       "      <td>0</td>\n",
       "      <td>0</td>\n",
       "      <td>0</td>\n",
       "      <td>NaN</td>\n",
       "      <td>NaN</td>\n",
       "      <td>2016-06-24</td>\n",
       "    </tr>\n",
       "  </tbody>\n",
       "</table>\n",
       "<p>5 rows × 23 columns</p>\n",
       "</div>"
      ],
      "text/plain": [
       "            PaperId   Rank                           Doi     DocType  \\\n",
       "1000015  1552584886  24371                           NaN  Conference   \n",
       "1000022  1558590578  24728     10.1002/9781118983904.ch2         NaN   \n",
       "1000056  1589417878  21801                           NaN      Patent   \n",
       "1000061  1594179622  21777                           NaN      Patent   \n",
       "1000066  1598998171  24629  10.1017/CBO9781139342858.005         NaN   \n",
       "\n",
       "                                                PaperTitle  \\\n",
       "1000015  a blend of semi open innovation open sourcenes...   \n",
       "1000022                          powerpoint nuts and bolts   \n",
       "1000056  vram having isolated array sections for provid...   \n",
       "1000061  ball and target game with tiltable playing sur...   \n",
       "1000066   the sounds of korean basic concepts of phonology   \n",
       "\n",
       "                                             OriginalTitle  \\\n",
       "1000015  A blend of semi-open innovation & open sourcen...   \n",
       "1000022                          PowerPoint Nuts and Bolts   \n",
       "1000056  VRAM having isolated array sections for provid...   \n",
       "1000061  Ball-and-target game with tiltable playing sur...   \n",
       "1000066  The Sounds of Korean: Basic concepts of phonology   \n",
       "\n",
       "                                                 BookTitle    Year  \\\n",
       "1000015                                                NaN  2013.0   \n",
       "1000022  Microsoft® PowerPoint® 2010 All-in-One for Dum...  2014.0   \n",
       "1000056                                                NaN  1993.0   \n",
       "1000061                                                NaN  1986.0   \n",
       "1000066                                                NaN  2012.0   \n",
       "\n",
       "               Date                Publisher  ... Volume Issue FirstPage  \\\n",
       "1000015  2013-05-01                     IEEE  ...    NaN   NaN       384   \n",
       "1000022  2014-06-23  John Wiley & Sons, Inc.  ...    NaN   NaN        15   \n",
       "1000056  1993-03-11                      NaN  ...    NaN   NaN       NaN   \n",
       "1000061  1986-06-05                      NaN  ...    NaN   NaN       NaN   \n",
       "1000066  2012-01-01                      NaN  ...    NaN   NaN       NaN   \n",
       "\n",
       "        LastPage  ReferenceCount CitationCount EstimatedCitation  \\\n",
       "1000015      389               4             0                 0   \n",
       "1000022       34               0             0                 0   \n",
       "1000056      NaN              13            13                13   \n",
       "1000061      NaN               5             5                 5   \n",
       "1000066      NaN               0             0                 0   \n",
       "\n",
       "                                             OriginalVenue FamilyId  \\\n",
       "1000015  international convention on information and co...      NaN   \n",
       "1000022                                                NaN      NaN   \n",
       "1000056                                                NaN      NaN   \n",
       "1000061                                                NaN      NaN   \n",
       "1000066                                                NaN      NaN   \n",
       "\n",
       "        CreatedDate  \n",
       "1000015  2016-06-24  \n",
       "1000022  2016-06-24  \n",
       "1000056  2016-06-24  \n",
       "1000061  2016-06-24  \n",
       "1000066  2016-06-24  \n",
       "\n",
       "[5 rows x 23 columns]"
      ]
     },
     "execution_count": 10,
     "metadata": {},
     "output_type": "execute_result"
    }
   ],
   "source": [
    "paper_year_filter_cs.head()"
   ]
  },
  {
   "cell_type": "code",
   "execution_count": 11,
   "metadata": {
    "collapsed": true,
    "deletable": true,
    "editable": true
   },
   "outputs": [],
   "source": [
    "paper_1990_filter_cs = paper_year_filter_cs[paper_year_filter_cs['Year'] >= 1990]"
   ]
  },
  {
   "cell_type": "code",
   "execution_count": 12,
   "metadata": {
    "collapsed": false,
    "deletable": true,
    "editable": true
   },
   "outputs": [],
   "source": [
    "paper_citation_cs = paper_cs[['PaperId', 'FieldOfStudyId']].merge(paper_1990_filter_cs[['PaperId', 'Year', 'CitationCount']],\\\n",
    "                                                                  how = 'right', on = 'PaperId')"
   ]
  },
  {
   "cell_type": "code",
   "execution_count": 13,
   "metadata": {
    "collapsed": true,
    "deletable": true,
    "editable": true
   },
   "outputs": [],
   "source": [
    "paper_citation_cs.to_csv('paper_citation_cs.csv')"
   ]
  },
  {
   "cell_type": "code",
   "execution_count": 16,
   "metadata": {
    "collapsed": false,
    "deletable": true,
    "editable": true
   },
   "outputs": [],
   "source": [
    "# Identify cs topic levels\n",
    "\n",
    "topics_cs = topics[topics['topic'].isin(paper_citation_cs['FieldOfStudyId'].unique())]"
   ]
  },
  {
   "cell_type": "code",
   "execution_count": 17,
   "metadata": {
    "collapsed": true,
    "deletable": true,
    "editable": true
   },
   "outputs": [],
   "source": [
    "# Pick 2-5 level keywords\n",
    "\n",
    "topics_cs = topics_cs[topics_cs['Level'] >= 2]"
   ]
  },
  {
   "cell_type": "code",
   "execution_count": 18,
   "metadata": {
    "collapsed": true,
    "deletable": true,
    "editable": true
   },
   "outputs": [],
   "source": [
    "# Narrow down paper to lower level keywords\n",
    "\n",
    "paper_citation_lowlevel_cs = paper_citation_cs[paper_citation_cs['FieldOfStudyId'].isin(topics_cs['topic'])]"
   ]
  },
  {
   "cell_type": "code",
   "execution_count": 19,
   "metadata": {
    "collapsed": true,
    "deletable": true,
    "editable": true
   },
   "outputs": [],
   "source": [
    "paper_citation_lowlevel_cs.to_csv('paper_citation_lowlevel_cs.csv')"
   ]
  },
  {
   "cell_type": "code",
   "execution_count": null,
   "metadata": {
    "collapsed": true,
    "deletable": true,
    "editable": true
   },
   "outputs": [],
   "source": []
  },
  {
   "cell_type": "markdown",
   "metadata": {
    "deletable": true,
    "editable": true
   },
   "source": [
    "# Summary Statistics"
   ]
  },
  {
   "cell_type": "markdown",
   "metadata": {
    "deletable": true,
    "editable": true
   },
   "source": [
    "## Number of topics newly introduced in each year, calculated from 1980"
   ]
  },
  {
   "cell_type": "code",
   "execution_count": 20,
   "metadata": {
    "collapsed": true,
    "deletable": true,
    "editable": true
   },
   "outputs": [],
   "source": [
    "paper_citation_1980_cs = paper_cs[['PaperId', 'FieldOfStudyId']].merge(paper_year_filter_cs[['PaperId', 'Year', 'CitationCount']],\\\n",
    "                                                                       how = 'right', on = 'PaperId')"
   ]
  },
  {
   "cell_type": "code",
   "execution_count": 21,
   "metadata": {
    "collapsed": true,
    "deletable": true,
    "editable": true
   },
   "outputs": [],
   "source": [
    "topic_yearly_cs = paper_citation_1980_cs[['FieldOfStudyId', 'Year']]"
   ]
  },
  {
   "cell_type": "code",
   "execution_count": 22,
   "metadata": {
    "collapsed": true,
    "deletable": true,
    "editable": true
   },
   "outputs": [],
   "source": [
    "new_topics_count = []\n",
    "\n",
    "for year in range(1990, 2018):\n",
    "    topic_ref_cs = topic_yearly_cs[topic_yearly_cs['Year'] < year]['FieldOfStudyId'].unique()\n",
    "    topic_year_cs = topic_yearly_cs[topic_yearly_cs['Year'] == year]\n",
    "    new_topics = topic_year_cs[~topic_year_cs['FieldOfStudyId'].isin(topic_ref_cs)]['FieldOfStudyId'].nunique()\n",
    "    new_topics_count.append(new_topics)"
   ]
  },
  {
   "cell_type": "code",
   "execution_count": 23,
   "metadata": {
    "collapsed": false,
    "deletable": true,
    "editable": true
   },
   "outputs": [
    {
     "data": {
      "text/plain": [
       "<matplotlib.text.Text at 0x2ae6575c4358>"
      ]
     },
     "execution_count": 23,
     "metadata": {},
     "output_type": "execute_result"
    },
    {
     "data": {
      "image/png": "[encoded data removed]",
      "text/plain": [
       "<matplotlib.figure.Figure at 0x2ae6575ddf28>"
      ]
     },
     "metadata": {},
     "output_type": "display_data"
    }
   ],
   "source": [
    "plt.plot(np.arange(28), new_topics_count)\n",
    "plt.xticks(np.arange(0, 28, 5), np.arange(1990, 2018, 5))\n",
    "plt.title('New Topics vs Years')\n",
    "plt.xlabel('Year')\n",
    "plt.ylabel('New Topics')"
   ]
  },
  {
   "cell_type": "markdown",
   "metadata": {
    "deletable": true,
    "editable": true
   },
   "source": [
    "## Number of topics in each year"
   ]
  },
  {
   "cell_type": "code",
   "execution_count": 24,
   "metadata": {
    "collapsed": false,
    "deletable": true,
    "editable": true
   },
   "outputs": [
    {
     "data": {
      "text/plain": [
       "<matplotlib.text.Text at 0x2ae693458518>"
      ]
     },
     "execution_count": 24,
     "metadata": {},
     "output_type": "execute_result"
    },
    {
     "data": {
      "image/png": "[encoded data removed]",
      "text/plain": [
       "<matplotlib.figure.Figure at 0x2ae6575dd390>"
      ]
     },
     "metadata": {},
     "output_type": "display_data"
    }
   ],
   "source": [
    "paper_citation_cs.groupby('Year')['FieldOfStudyId'].nunique().plot()\n",
    "plt.title('Total Topics vs Years')\n",
    "plt.xlabel('Year')\n",
    "plt.ylabel('Total Topics')"
   ]
  },
  {
   "cell_type": "markdown",
   "metadata": {
    "deletable": true,
    "editable": true
   },
   "source": [
    "## Average number of keywords per paper in each year"
   ]
  },
  {
   "cell_type": "code",
   "execution_count": 25,
   "metadata": {
    "collapsed": true,
    "deletable": true,
    "editable": true
   },
   "outputs": [],
   "source": [
    "paper_topic_cs = paper_citation_cs.groupby(['Year', 'PaperId'], as_index = False)['FieldOfStudyId'].count()"
   ]
  },
  {
   "cell_type": "code",
   "execution_count": 26,
   "metadata": {
    "collapsed": false,
    "deletable": true,
    "editable": true
   },
   "outputs": [
    {
     "data": {
      "text/plain": [
       "<matplotlib.text.Text at 0x2ae6266c70f0>"
      ]
     },
     "execution_count": 26,
     "metadata": {},
     "output_type": "execute_result"
    },
    {
     "data": {
      "image/png": "[encoded data removed]",
      "text/plain": [
       "<matplotlib.figure.Figure at 0x2ae626d86128>"
      ]
     },
     "metadata": {},
     "output_type": "display_data"
    }
   ],
   "source": [
    "paper_topic_cs.groupby('Year')['FieldOfStudyId'].mean().plot()\n",
    "plt.title('Average Paper Topics vs Years')\n",
    "plt.xlabel('Year')\n",
    "plt.ylabel('Average Paper Topics')"
   ]
  },
  {
   "cell_type": "markdown",
   "metadata": {
    "deletable": true,
    "editable": true
   },
   "source": [
    "## Average citation (within 5 years) per paper in each year"
   ]
  },
  {
   "cell_type": "code",
   "execution_count": 27,
   "metadata": {
    "collapsed": true,
    "deletable": true,
    "editable": true
   },
   "outputs": [],
   "source": [
    "chunks=pd.read_csv('./All data/mag/PaperReferences.txt',chunksize=1000000,sep='\\t', header = None,\\\n",
    "                   names = ['PaperId', 'PaperReferenceId'])"
   ]
  },
  {
   "cell_type": "code",
   "execution_count": 28,
   "metadata": {
    "collapsed": true,
    "deletable": true,
    "editable": true
   },
   "outputs": [],
   "source": [
    "paper_cs_citation = pd.DataFrame()\n",
    "\n",
    "for chunk in chunks:\n",
    "    paper_cs_citation= pd.concat([paper_cs_citation,\\\n",
    "                                  chunk[chunk['PaperReferenceId'].isin(paper_citation_cs['PaperId'])]])"
   ]
  },
  {
   "cell_type": "code",
   "execution_count": null,
   "metadata": {
    "collapsed": true,
    "deletable": true,
    "editable": true
   },
   "outputs": [],
   "source": [
    "chunks = pd.read_csv('./All data/mag/Papers.txt',chunksize=1000000,sep = '\\t', header = None,\\\n",
    "                       names = ['PaperId', 'Rank', 'Doi', 'DocType', 'PaperTitle', 'OriginalTitle', 'BookTitle', 'Year',\\\n",
    "                                'Date', 'Publisher', 'JournalId', 'ConferenceSeriesId', 'ConferenceInstanceId', 'Volume',\\\n",
    "                                'Issue', 'FirstPage', 'LastPage', 'ReferenceCount', 'CitationCount', 'EstimatedCitation',\\\n",
    "                                'OriginalVenue', 'FamilyId', 'CreatedDate'], low_memory = False)"
   ]
  },
  {
   "cell_type": "code",
   "execution_count": null,
   "metadata": {
    "collapsed": true,
    "deletable": true,
    "editable": true
   },
   "outputs": [],
   "source": [
    "paper_year = pd.DataFrame()\n",
    "\n",
    "for chunk in chunks:\n",
    "    paper_year= pd.concat([paper_year,chunk[(chunk['PaperId'].isin(paper_cs_citation['PaperId'])) |\\\n",
    "                                            (chunk['PaperId'].isin(paper_cs_citation['PaperReferenceId']))]])"
   ]
  },
  {
   "cell_type": "code",
   "execution_count": null,
   "metadata": {
    "collapsed": true,
    "deletable": true,
    "editable": true
   },
   "outputs": [],
   "source": [
    "paper_year = paper_year[['PaperId', 'Year']]"
   ]
  },
  {
   "cell_type": "code",
   "execution_count": null,
   "metadata": {
    "collapsed": true,
    "deletable": true,
    "editable": true
   },
   "outputs": [],
   "source": [
    "paper_cs_citation_year = paper_cs_citation.merge(paper_year, on = 'PaperId', how = 'left')\n",
    "paper_cs_citation_year = paper_cs_citation_year.merge(paper_year, left_on = 'PaperReferenceId', right_on = 'PaperId',\\\n",
    "                                                      how = 'left')\n",
    "paper_cs_citation_year.drop('PaperId_y', axis = 1, inplace = True)\n",
    "paper_cs_citation_year.rename(columns = {'PaperId_x' : 'PaperId', 'Year_x' : 'Year', 'Year_y' : 'ReferenceYear'},\\\n",
    "                              inplace = True)"
   ]
  },
  {
   "cell_type": "code",
   "execution_count": null,
   "metadata": {
    "collapsed": true,
    "deletable": true,
    "editable": true
   },
   "outputs": [],
   "source": [
    "paper_cs_citation_year['Year'].fillna(0, inplace = True)\n",
    "paper_cs_citation_year['Year'] = pd.to_numeric(paper_cs_citation_year['Year'].str[:4], errors = 'coerce')\n",
    "paper_cs_citation_year['Year'] = paper_cs_citation_year['Year'].fillna(0)\n",
    "\n",
    "paper_cs_citation_year['ReferenceYear'] = pd.to_numeric(paper_cs_citation_year['ReferenceYear'].str[:4], errors = 'coerce')\n",
    "paper_cs_citation_year['ReferenceYear'] = paper_cs_citation_year['ReferenceYear'].fillna(0)\n",
    "paper_cs_citation_year['ReferenceYear'] = paper_cs_citation_year['ReferenceYear'].astype('int64')"
   ]
  },
  {
   "cell_type": "code",
   "execution_count": null,
   "metadata": {
    "collapsed": true,
    "deletable": true,
    "editable": true
   },
   "outputs": [],
   "source": [
    "# Identify citations within 5 years of publication of papers\n",
    "\n",
    "paper_cs_citation_year_five = paper_cs_citation_year[np.abs((paper_cs_citation_year['Year'] -\\\n",
    "                                                     paper_cs_citation_year['ReferenceYear'])) <= 5]\n",
    "\n",
    "# Count citation every year\n",
    "\n",
    "paper_cs_citation_year_five = paper_cs_citation_year_five.groupby(['PaperReferenceId'], as_index = False)['PaperId'].count()\n",
    "paper_cs_citation_year_five.rename(columns = {'PaperReferenceId' : 'PaperId', 'PaperId' : 'Count'}, inplace = True)"
   ]
  },
  {
   "cell_type": "code",
   "execution_count": null,
   "metadata": {
    "collapsed": true,
    "deletable": true,
    "editable": true
   },
   "outputs": [],
   "source": [
    "ref_fiveyear_cs = paper_citation_cs[['PaperId', 'FieldOfStudyId', 'Year']]\\\n",
    "                    .merge(paper_cs_citation_year_five, how = 'right', on = 'PaperId')"
   ]
  },
  {
   "cell_type": "code",
   "execution_count": null,
   "metadata": {
    "collapsed": true,
    "deletable": true,
    "editable": true
   },
   "outputs": [],
   "source": [
    "ref_fiveyear_cs= ref_fiveyear_cs[['PaperId', 'Year', 'Count']].drop_duplicates()"
   ]
  },
  {
   "cell_type": "code",
   "execution_count": 40,
   "metadata": {
    "collapsed": false,
    "deletable": true,
    "editable": true
   },
   "outputs": [
    {
     "data": {
      "text/plain": [
       "<matplotlib.text.Text at 0x2ae3debb55f8>"
      ]
     },
     "execution_count": 40,
     "metadata": {},
     "output_type": "execute_result"
    },
    {
     "data": {
      "image/png": "[encoded data removed]",
      "text/plain": [
       "<matplotlib.figure.Figure at 0x2ae613e7c080>"
      ]
     },
     "metadata": {},
     "output_type": "display_data"
    }
   ],
   "source": [
    "ref_fiveyear_cs.groupby('Year')['Count'].mean().plot()\n",
    "plt.title('Average Citation vs Years')\n",
    "plt.xlabel('Year')\n",
    "plt.ylabel('Average Citation within Five Years')"
   ]
  },
  {
   "cell_type": "markdown",
   "metadata": {},
   "source": [
    "## Number of papers each year"
   ]
  },
  {
   "cell_type": "code",
   "execution_count": 41,
   "metadata": {
    "collapsed": false
   },
   "outputs": [
    {
     "data": {
      "text/plain": [
       "<matplotlib.text.Text at 0x2ae50ebe8828>"
      ]
     },
     "execution_count": 41,
     "metadata": {},
     "output_type": "execute_result"
    },
    {
     "data": {
      "image/png": "[encoded data removed]",
      "text/plain": [
       "<matplotlib.figure.Figure at 0x2ae3cb1e8c50>"
      ]
     },
     "metadata": {},
     "output_type": "display_data"
    }
   ],
   "source": [
    "paper_citation_cs.groupby('Year')['PaperId'].nunique().plot()\n",
    "plt.title('Total Papers vs Years')\n",
    "plt.xlabel('Year')\n",
    "plt.ylabel('Total Papers')"
   ]
  }
 ],
 "metadata": {
  "kernelspec": {
   "display_name": "Python 3",
   "language": "python",
   "name": "python3"
  },
  "language_info": {
   "codemirror_mode": {
    "name": "ipython",
    "version": 3
   },
   "file_extension": ".py",
   "mimetype": "text/x-python",
   "name": "python",
   "nbconvert_exporter": "python",
   "pygments_lexer": "ipython3",
   "version": "3.5.3"
  }
 },
 "nbformat": 4,
 "nbformat_minor": 2
}
