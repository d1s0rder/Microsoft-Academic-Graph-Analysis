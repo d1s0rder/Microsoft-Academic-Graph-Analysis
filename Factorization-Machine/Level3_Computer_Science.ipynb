{
 "cells": [
  {
   "cell_type": "code",
   "execution_count": 1,
   "metadata": {
    "collapsed": true,
    "deletable": true,
    "editable": true
   },
   "outputs": [],
   "source": [
    "import numpy as np\n",
    "import pandas as pd\n",
    "import matplotlib.pyplot as plt\n",
    "%matplotlib inline"
   ]
  },
  {
   "cell_type": "code",
   "execution_count": 2,
   "metadata": {
    "collapsed": false,
    "deletable": true,
    "editable": true
   },
   "outputs": [
    {
     "name": "stderr",
     "output_type": "stream",
     "text": [
      "/home/jz3502/.local/lib/python3.5/site-packages/numpy/lib/arraysetops.py:569: FutureWarning: elementwise comparison failed; returning scalar instead, but in the future will perform elementwise comparison\n",
      "  mask |= (ar1 == a)\n"
     ]
    }
   ],
   "source": [
    "papers = pd.read_csv('paper_citation_lowlevel_cs.csv', index_col = 0)"
   ]
  },
  {
   "cell_type": "code",
   "execution_count": null,
   "metadata": {
    "collapsed": true,
    "deletable": true,
    "editable": true
   },
   "outputs": [],
   "source": []
  },
  {
   "cell_type": "markdown",
   "metadata": {
    "deletable": true,
    "editable": true
   },
   "source": [
    "## Only use Level 3 topics"
   ]
  },
  {
   "cell_type": "code",
   "execution_count": 3,
   "metadata": {
    "collapsed": true,
    "deletable": true,
    "editable": true
   },
   "outputs": [],
   "source": [
    "topics=pd.read_csv('./All data/advanced/FieldsOfStudy.txt',sep='\\t', header = None,\\\n",
    "                   names = ['topic', 'Rank', 'NormalizedName', 'name', 'MainType', 'Level', 'PaperCount',\\\n",
    "                            'CitationCount', 'CreatedDate'])"
   ]
  },
  {
   "cell_type": "code",
   "execution_count": 4,
   "metadata": {
    "collapsed": true,
    "deletable": true,
    "editable": true
   },
   "outputs": [],
   "source": [
    "level3 = topics[topics['Level'] == 3]['topic']"
   ]
  },
  {
   "cell_type": "code",
   "execution_count": 5,
   "metadata": {
    "collapsed": true,
    "deletable": true,
    "editable": true
   },
   "outputs": [],
   "source": [
    "papers = papers[papers['FieldOfStudyId'].isin(level3)]"
   ]
  },
  {
   "cell_type": "code",
   "execution_count": 6,
   "metadata": {
    "collapsed": true,
    "deletable": true,
    "editable": true
   },
   "outputs": [],
   "source": [
    "chunks=pd.read_csv('./All data/mag/PaperReferences.txt',chunksize=1000000,sep='\\t', header = None,\\\n",
    "                   names = ['PaperId', 'PaperReferenceId'])"
   ]
  },
  {
   "cell_type": "code",
   "execution_count": 7,
   "metadata": {
    "collapsed": false,
    "deletable": true,
    "editable": true
   },
   "outputs": [],
   "source": [
    "# Identify papers whose citations are cs papers\n",
    "# *** Reference is paper referenced ***\n",
    "\n",
    "paper_cs_citation = pd.DataFrame()\n",
    "\n",
    "for chunk in chunks:\n",
    "    paper_cs_citation= pd.concat([paper_cs_citation,\\\n",
    "                                  chunk[chunk['PaperReferenceId'].isin(papers['PaperId'])]])"
   ]
  },
  {
   "cell_type": "code",
   "execution_count": 8,
   "metadata": {
    "collapsed": false,
    "deletable": true,
    "editable": true
   },
   "outputs": [
    {
     "data": {
      "text/html": [
       "<div>\n",
       "<style scoped>\n",
       "    .dataframe tbody tr th:only-of-type {\n",
       "        vertical-align: middle;\n",
       "    }\n",
       "\n",
       "    .dataframe tbody tr th {\n",
       "        vertical-align: top;\n",
       "    }\n",
       "\n",
       "    .dataframe thead th {\n",
       "        text-align: right;\n",
       "    }\n",
       "</style>\n",
       "<table border=\"1\" class=\"dataframe\">\n",
       "  <thead>\n",
       "    <tr style=\"text-align: right;\">\n",
       "      <th></th>\n",
       "      <th>PaperId</th>\n",
       "      <th>PaperReferenceId</th>\n",
       "    </tr>\n",
       "  </thead>\n",
       "  <tbody>\n",
       "    <tr>\n",
       "      <th>58</th>\n",
       "      <td>417</td>\n",
       "      <td>169276664</td>\n",
       "    </tr>\n",
       "    <tr>\n",
       "      <th>60</th>\n",
       "      <td>417</td>\n",
       "      <td>1493491511</td>\n",
       "    </tr>\n",
       "    <tr>\n",
       "      <th>66</th>\n",
       "      <td>417</td>\n",
       "      <td>1598226182</td>\n",
       "    </tr>\n",
       "    <tr>\n",
       "      <th>72</th>\n",
       "      <td>417</td>\n",
       "      <td>1994740826</td>\n",
       "    </tr>\n",
       "    <tr>\n",
       "      <th>73</th>\n",
       "      <td>417</td>\n",
       "      <td>2000735937</td>\n",
       "    </tr>\n",
       "  </tbody>\n",
       "</table>\n",
       "</div>"
      ],
      "text/plain": [
       "    PaperId  PaperReferenceId\n",
       "58      417         169276664\n",
       "60      417        1493491511\n",
       "66      417        1598226182\n",
       "72      417        1994740826\n",
       "73      417        2000735937"
      ]
     },
     "execution_count": 8,
     "metadata": {},
     "output_type": "execute_result"
    }
   ],
   "source": [
    "paper_cs_citation.head()"
   ]
  },
  {
   "cell_type": "code",
   "execution_count": 9,
   "metadata": {
    "collapsed": true,
    "deletable": true,
    "editable": true
   },
   "outputs": [],
   "source": [
    "chunks = pd.read_csv('./All data/mag/Papers.txt',chunksize=1000000,sep = '\\t', header = None,\\\n",
    "                       names = ['PaperId', 'Rank', 'Doi', 'DocType', 'PaperTitle', 'OriginalTitle', 'BookTitle', 'Year',\\\n",
    "                                'Date', 'Publisher', 'JournalId', 'ConferenceSeriesId', 'ConferenceInstanceId', 'Volume',\\\n",
    "                                'Issue', 'FirstPage', 'LastPage', 'ReferenceCount', 'CitationCount', 'EstimatedCitation',\\\n",
    "                                'OriginalVenue', 'FamilyId', 'CreatedDate'], low_memory = False)"
   ]
  },
  {
   "cell_type": "code",
   "execution_count": 10,
   "metadata": {
    "collapsed": true,
    "deletable": true,
    "editable": true
   },
   "outputs": [],
   "source": [
    "# Find papers with cs paper id or citation paper id\n",
    "# *** Reference is paper referenced ***\n",
    "\n",
    "paper_year = pd.DataFrame()\n",
    "paper_test = pd.DataFrame()\n",
    "\n",
    "for chunk in chunks:\n",
    "    paper_year= pd.concat([paper_year,chunk[(chunk['PaperId'].isin(paper_cs_citation['PaperId'])) |\\\n",
    "                                            (chunk['PaperId'].isin(paper_cs_citation['PaperReferenceId']))]])"
   ]
  },
  {
   "cell_type": "code",
   "execution_count": 11,
   "metadata": {
    "collapsed": true,
    "deletable": true,
    "editable": true
   },
   "outputs": [],
   "source": [
    "paper_year = paper_year[['PaperId', 'Year']]"
   ]
  },
  {
   "cell_type": "code",
   "execution_count": 12,
   "metadata": {
    "collapsed": true,
    "deletable": true,
    "editable": true
   },
   "outputs": [],
   "source": [
    "paper_cs_citation_year = paper_cs_citation.merge(paper_year, on = 'PaperId', how = 'left')\n",
    "paper_cs_citation_year = paper_cs_citation_year.merge(paper_year, left_on = 'PaperReferenceId', right_on = 'PaperId',\\\n",
    "                                                          how = 'left')\n",
    "paper_cs_citation_year.drop('PaperId_y', axis = 1, inplace = True)\n",
    "paper_cs_citation_year.rename(columns = {'PaperId_x' : 'PaperId', 'Year_x' : 'Year', 'Year_y' : 'ReferenceYear'},\\\n",
    "                                inplace = True)"
   ]
  },
  {
   "cell_type": "code",
   "execution_count": 13,
   "metadata": {
    "collapsed": false,
    "deletable": true,
    "editable": true
   },
   "outputs": [
    {
     "data": {
      "text/html": [
       "<div>\n",
       "<style scoped>\n",
       "    .dataframe tbody tr th:only-of-type {\n",
       "        vertical-align: middle;\n",
       "    }\n",
       "\n",
       "    .dataframe tbody tr th {\n",
       "        vertical-align: top;\n",
       "    }\n",
       "\n",
       "    .dataframe thead th {\n",
       "        text-align: right;\n",
       "    }\n",
       "</style>\n",
       "<table border=\"1\" class=\"dataframe\">\n",
       "  <thead>\n",
       "    <tr style=\"text-align: right;\">\n",
       "      <th></th>\n",
       "      <th>PaperId</th>\n",
       "      <th>PaperReferenceId</th>\n",
       "      <th>Year</th>\n",
       "      <th>ReferenceYear</th>\n",
       "    </tr>\n",
       "  </thead>\n",
       "  <tbody>\n",
       "    <tr>\n",
       "      <th>0</th>\n",
       "      <td>417</td>\n",
       "      <td>169276664</td>\n",
       "      <td>2002</td>\n",
       "      <td>1999</td>\n",
       "    </tr>\n",
       "    <tr>\n",
       "      <th>1</th>\n",
       "      <td>417</td>\n",
       "      <td>1493491511</td>\n",
       "      <td>2002</td>\n",
       "      <td>2001</td>\n",
       "    </tr>\n",
       "    <tr>\n",
       "      <th>2</th>\n",
       "      <td>417</td>\n",
       "      <td>1598226182</td>\n",
       "      <td>2002</td>\n",
       "      <td>1993</td>\n",
       "    </tr>\n",
       "    <tr>\n",
       "      <th>3</th>\n",
       "      <td>417</td>\n",
       "      <td>1994740826</td>\n",
       "      <td>2002</td>\n",
       "      <td>1990</td>\n",
       "    </tr>\n",
       "    <tr>\n",
       "      <th>4</th>\n",
       "      <td>417</td>\n",
       "      <td>2000735937</td>\n",
       "      <td>2002</td>\n",
       "      <td>1993</td>\n",
       "    </tr>\n",
       "  </tbody>\n",
       "</table>\n",
       "</div>"
      ],
      "text/plain": [
       "   PaperId  PaperReferenceId  Year ReferenceYear\n",
       "0      417         169276664  2002          1999\n",
       "1      417        1493491511  2002          2001\n",
       "2      417        1598226182  2002          1993\n",
       "3      417        1994740826  2002          1990\n",
       "4      417        2000735937  2002          1993"
      ]
     },
     "execution_count": 13,
     "metadata": {},
     "output_type": "execute_result"
    }
   ],
   "source": [
    "paper_cs_citation_year.head()"
   ]
  },
  {
   "cell_type": "code",
   "execution_count": 14,
   "metadata": {
    "collapsed": true,
    "deletable": true,
    "editable": true
   },
   "outputs": [],
   "source": [
    "paper_cs_citation_year['Year'].fillna(0, inplace = True)\n",
    "paper_cs_citation_year['Year'] = pd.to_numeric(paper_cs_citation_year['Year'].str[:4], errors = 'coerce')\n",
    "paper_cs_citation_year['Year'] = paper_cs_citation_year['Year'].fillna(0)\n",
    "paper_cs_citation_year['ReferenceYear'] = paper_cs_citation_year['ReferenceYear'].astype('int64')"
   ]
  },
  {
   "cell_type": "code",
   "execution_count": 15,
   "metadata": {
    "collapsed": true,
    "deletable": true,
    "editable": true
   },
   "outputs": [],
   "source": [
    "# Identify citations within 2 years of publication of papers\n",
    "\n",
    "paper_cs_citation_year_two = paper_cs_citation_year[np.abs((paper_cs_citation_year['Year'] -\\\n",
    "                                                     paper_cs_citation_year['ReferenceYear'])) <= 2]\n",
    "\n",
    "# Count citation every year\n",
    "\n",
    "paper_cs_citation_year_two = paper_cs_citation_year_two.groupby(['PaperReferenceId'], as_index = False)['PaperId'].count()\n",
    "paper_cs_citation_year_two.rename(columns = {'PaperReferenceId' : 'PaperId', 'PaperId' : 'Count'}, inplace = True)"
   ]
  },
  {
   "cell_type": "code",
   "execution_count": 16,
   "metadata": {
    "collapsed": false,
    "deletable": true,
    "editable": true
   },
   "outputs": [
    {
     "data": {
      "text/html": [
       "<div>\n",
       "<style scoped>\n",
       "    .dataframe tbody tr th:only-of-type {\n",
       "        vertical-align: middle;\n",
       "    }\n",
       "\n",
       "    .dataframe tbody tr th {\n",
       "        vertical-align: top;\n",
       "    }\n",
       "\n",
       "    .dataframe thead th {\n",
       "        text-align: right;\n",
       "    }\n",
       "</style>\n",
       "<table border=\"1\" class=\"dataframe\">\n",
       "  <thead>\n",
       "    <tr style=\"text-align: right;\">\n",
       "      <th></th>\n",
       "      <th>PaperId</th>\n",
       "      <th>Count</th>\n",
       "    </tr>\n",
       "  </thead>\n",
       "  <tbody>\n",
       "    <tr>\n",
       "      <th>0</th>\n",
       "      <td>1688</td>\n",
       "      <td>2</td>\n",
       "    </tr>\n",
       "    <tr>\n",
       "      <th>1</th>\n",
       "      <td>2468</td>\n",
       "      <td>4</td>\n",
       "    </tr>\n",
       "    <tr>\n",
       "      <th>2</th>\n",
       "      <td>2930</td>\n",
       "      <td>1</td>\n",
       "    </tr>\n",
       "    <tr>\n",
       "      <th>3</th>\n",
       "      <td>7383</td>\n",
       "      <td>1</td>\n",
       "    </tr>\n",
       "    <tr>\n",
       "      <th>4</th>\n",
       "      <td>8375</td>\n",
       "      <td>8</td>\n",
       "    </tr>\n",
       "  </tbody>\n",
       "</table>\n",
       "</div>"
      ],
      "text/plain": [
       "   PaperId  Count\n",
       "0     1688      2\n",
       "1     2468      4\n",
       "2     2930      1\n",
       "3     7383      1\n",
       "4     8375      8"
      ]
     },
     "execution_count": 16,
     "metadata": {},
     "output_type": "execute_result"
    }
   ],
   "source": [
    "paper_cs_citation_year_two.head()"
   ]
  },
  {
   "cell_type": "code",
   "execution_count": 17,
   "metadata": {
    "collapsed": true,
    "deletable": true,
    "editable": true
   },
   "outputs": [],
   "source": [
    "papers = papers[['PaperId', 'FieldOfStudyId', 'Year']].merge(paper_cs_citation_year_two, how = 'right', on = 'PaperId')"
   ]
  },
  {
   "cell_type": "code",
   "execution_count": 18,
   "metadata": {
    "collapsed": true,
    "deletable": true,
    "editable": true
   },
   "outputs": [],
   "source": [
    "papers.dropna(inplace = True)"
   ]
  },
  {
   "cell_type": "code",
   "execution_count": 19,
   "metadata": {
    "collapsed": false,
    "deletable": true,
    "editable": true
   },
   "outputs": [],
   "source": [
    "# Store train, validation, test data csv after splitting by year\n",
    "\n",
    "for year in range(1990, 2018):\n",
    "    paper = papers[(papers['Year'] == year) & (papers['Count'] >= 10)][['PaperId', 'FieldOfStudyId']]\n",
    "    top_topics = paper.groupby('FieldOfStudyId', as_index = False)['PaperId'].count()\\\n",
    "                      .sort_values('PaperId', ascending = False).iloc[:500]\n",
    "    \n",
    "    paper = paper[paper['FieldOfStudyId'].isin(top_topics['FieldOfStudyId'])]\n",
    "\n",
    "    paper_pivot = paper.pivot_table(index = ['PaperId'], columns = ['FieldOfStudyId'], aggfunc = [len], fill_value = 0)\n",
    "    paper_pivot.columns = paper_pivot.columns.droplevel()\n",
    "    paper_pivot.index.name = None\n",
    "    paper_pivot.columns.name = None\n",
    "    paper_pivot = paper_pivot.r eset_index()\n",
    "    paper_count = paper_pivot.merge(papers[papers['Year'] == year][['PaperId', 'Count']], how = 'left',\\\n",
    "                                    left_on = 'index', right_on = 'PaperId')\n",
    "    paper_count = paper_count.drop(['PaperId'], axis =1)\n",
    "    paper_count.set_index('index', inplace = True)\n",
    "    paper_count.index.name = None\n",
    "    paper_count = paper_count.drop_duplicates()\n",
    "    paper_count['Count'] = np.log(paper_count['Count'])\n",
    "    \n",
    "\n",
    "    paper_count.to_csv('./cs_fm_level3/paper_cs '+str(year)+'.csv')"
   ]
  },
  {
   "cell_type": "markdown",
   "metadata": {
    "deletable": true,
    "editable": true
   },
   "source": [
    "## DEPRECATED\n",
    "\n",
    "### Adjusted Citation = Citation / (2020-publication year)"
   ]
  },
  {
   "cell_type": "code",
   "execution_count": 20,
   "metadata": {
    "collapsed": false,
    "deletable": true,
    "editable": true
   },
   "outputs": [],
   "source": [
    "# Restrict papers to be papers with more than 50 citation counts\n",
    "\n",
    "# papers_citation = papers.groupby('PaperId', as_index = False)['ModifiedCitation'].mean()"
   ]
  },
  {
   "cell_type": "code",
   "execution_count": 21,
   "metadata": {
    "collapsed": false,
    "deletable": true,
    "editable": true
   },
   "outputs": [],
   "source": [
    "# papers_citation = papers_citation[papers_citation['ModifiedCitation'] >= 5]"
   ]
  },
  {
   "cell_type": "code",
   "execution_count": 22,
   "metadata": {
    "collapsed": true,
    "deletable": true,
    "editable": true
   },
   "outputs": [],
   "source": [
    "# papers = papers[papers['PaperId'].isin(papers_citation['PaperId'])]"
   ]
  },
  {
   "cell_type": "code",
   "execution_count": 23,
   "metadata": {
    "collapsed": false,
    "deletable": true,
    "editable": true
   },
   "outputs": [],
   "source": [
    "# Restrict keywords to be keywords with more than 50 paper\n",
    "\n",
    "# keywords_papercount = papers.groupby(['FieldOfStudyId', 'Year'], as_index = False)['PaperId'].count()"
   ]
  },
  {
   "cell_type": "code",
   "execution_count": 24,
   "metadata": {
    "collapsed": false,
    "deletable": true,
    "editable": true
   },
   "outputs": [],
   "source": [
    "# keywords_paperavg = keywords_papercount.groupby('FieldOfStudyId', as_index = False)['PaperId'].mean()"
   ]
  },
  {
   "cell_type": "code",
   "execution_count": 25,
   "metadata": {
    "collapsed": false,
    "deletable": true,
    "editable": true
   },
   "outputs": [],
   "source": [
    "# keywords_paperavg = keywords_paperavg[keywords_paperavg['PaperId'] >= 25]"
   ]
  },
  {
   "cell_type": "code",
   "execution_count": 26,
   "metadata": {
    "collapsed": true,
    "deletable": true,
    "editable": true
   },
   "outputs": [],
   "source": [
    "# papers = papers[papers['FieldOfStudyId'].isin(keywords_paperavg['FieldOfStudyId'])]"
   ]
  },
  {
   "cell_type": "code",
   "execution_count": 27,
   "metadata": {
    "collapsed": false,
    "deletable": true,
    "editable": true
   },
   "outputs": [],
   "source": [
    "# # Uniuqe papers\n",
    "\n",
    "# papers['PaperId'].nunique()"
   ]
  },
  {
   "cell_type": "code",
   "execution_count": 28,
   "metadata": {
    "collapsed": false,
    "deletable": true,
    "editable": true
   },
   "outputs": [],
   "source": [
    "# # Uniuqe keywords\n",
    "\n",
    "# papers['FieldOfStudyId'].nunique()"
   ]
  },
  {
   "cell_type": "code",
   "execution_count": 29,
   "metadata": {
    "collapsed": false,
    "deletable": true,
    "editable": true
   },
   "outputs": [],
   "source": [
    "# papers.head()"
   ]
  },
  {
   "cell_type": "code",
   "execution_count": 30,
   "metadata": {
    "collapsed": false,
    "deletable": true,
    "editable": true
   },
   "outputs": [],
   "source": [
    "# # Check data size every year\n",
    "\n",
    "# papers.groupby('Year', as_index = False).count()"
   ]
  },
  {
   "cell_type": "code",
   "execution_count": 31,
   "metadata": {
    "collapsed": false,
    "deletable": true,
    "editable": true
   },
   "outputs": [],
   "source": [
    "# # Store train, validation, test data csv after splitting by year\n",
    "\n",
    "# for year in range(1990, 2018):\n",
    "#     paper = papers[papers['Year'] == year][['PaperId', 'FieldOfStudyId']]\n",
    "\n",
    "#     paper_pivot = paper.pivot_table(index = ['PaperId'], columns = ['FieldOfStudyId'], aggfunc = [len], fill_value = 0)\n",
    "#     paper_pivot.columns = paper_pivot.columns.droplevel()\n",
    "#     paper_pivot.index.name = None\n",
    "#     paper_pivot.columns.name = None\n",
    "#     paper_pivot = paper_pivot.reset_index()\n",
    "#     paper_count = paper_pivot.merge(papers[papers['Year'] == year][['PaperId', 'ModifiedCitation']], how = 'left',\\\n",
    "#                                     left_on = 'index', right_on = 'PaperId')\n",
    "#     paper_count = paper_count.drop(['PaperId'], axis =1)\n",
    "#     paper_count.set_index('index', inplace = True)\n",
    "#     paper_count.index.name = None\n",
    "    \n",
    "#     train, val, test = np.split(paper_count.sample(frac=1), [int(.7*len(paper_count)), int(.9*len(paper_count))])\n",
    "#     train.to_csv('./cs_fm_csv/paper_cs_train '+str(year)+'.csv')\n",
    "#     val.to_csv('./cs_fm_csv/paper_cs_val '+str(year)+'.csv')\n",
    "#     test.to_csv('./cs_fm_csv/paper_cs_test '+str(year)+'.csv')"
   ]
  },
  {
   "cell_type": "markdown",
   "metadata": {
    "deletable": true,
    "editable": true
   },
   "source": [
    "### Factorization Machine"
   ]
  },
  {
   "cell_type": "code",
   "execution_count": 32,
   "metadata": {
    "collapsed": true,
    "deletable": true,
    "editable": true
   },
   "outputs": [],
   "source": [
    "# Downgrade tensorflow to 1.0+ to use tffm"
   ]
  },
  {
   "cell_type": "code",
   "execution_count": 33,
   "metadata": {
    "collapsed": false,
    "deletable": true,
    "editable": true
   },
   "outputs": [
    {
     "name": "stderr",
     "output_type": "stream",
     "text": [
      "/home/jz3502/.local/lib/python3.5/site-packages/tensorflow/python/framework/dtypes.py:471: FutureWarning: Passing (type, 1) or '1type' as a synonym of type is deprecated; in a future version of numpy, it will be understood as (type, (1,)) / '(1,)type'.\n",
      "  _np_qint8 = np.dtype([(\"qint8\", np.int8, 1)])\n",
      "/home/jz3502/.local/lib/python3.5/site-packages/tensorflow/python/framework/dtypes.py:472: FutureWarning: Passing (type, 1) or '1type' as a synonym of type is deprecated; in a future version of numpy, it will be understood as (type, (1,)) / '(1,)type'.\n",
      "  _np_quint8 = np.dtype([(\"quint8\", np.uint8, 1)])\n",
      "/home/jz3502/.local/lib/python3.5/site-packages/tensorflow/python/framework/dtypes.py:473: FutureWarning: Passing (type, 1) or '1type' as a synonym of type is deprecated; in a future version of numpy, it will be understood as (type, (1,)) / '(1,)type'.\n",
      "  _np_qint16 = np.dtype([(\"qint16\", np.int16, 1)])\n",
      "/home/jz3502/.local/lib/python3.5/site-packages/tensorflow/python/framework/dtypes.py:474: FutureWarning: Passing (type, 1) or '1type' as a synonym of type is deprecated; in a future version of numpy, it will be understood as (type, (1,)) / '(1,)type'.\n",
      "  _np_quint16 = np.dtype([(\"quint16\", np.uint16, 1)])\n",
      "/home/jz3502/.local/lib/python3.5/site-packages/tensorflow/python/framework/dtypes.py:475: FutureWarning: Passing (type, 1) or '1type' as a synonym of type is deprecated; in a future version of numpy, it will be understood as (type, (1,)) / '(1,)type'.\n",
      "  _np_qint32 = np.dtype([(\"qint32\", np.int32, 1)])\n"
     ]
    }
   ],
   "source": [
    "import tensorflow as tf"
   ]
  },
  {
   "cell_type": "code",
   "execution_count": 34,
   "metadata": {
    "collapsed": false,
    "deletable": true,
    "editable": true
   },
   "outputs": [],
   "source": [
    "import numpy as np\n",
    "import time\n",
    "from tqdm import tqdm\n",
    "from tffm import TFFMRegressor\n",
    "from sklearn.metrics import mean_squared_error as mse\n",
    "from collections import defaultdict"
   ]
  },
  {
   "cell_type": "code",
   "execution_count": 35,
   "metadata": {
    "collapsed": false,
    "deletable": true,
    "editable": true
   },
   "outputs": [],
   "source": [
    "def factorization_machine_regression(order, loss_list = [], weight_dict = {}):\n",
    "    \n",
    "    for year in range(1990, 2018):\n",
    "        data = pd.read_csv('./cs_fm_level3/paper_cs '+str(year)+'.csv', index_col = 0)\n",
    "        train, val, test = np.split(data.sample(frac=1), [int(.7*len(data)), int(.9*len(data))])\n",
    "        \n",
    "        # Train model\n",
    "        val_loss = 10*8\n",
    "        val_reg = 0\n",
    "        for reg in [10**x for x in range(-3, 2)]:\n",
    "            model = TFFMRegressor(\n",
    "                order=order, \n",
    "                rank=10, \n",
    "                optimizer=tf.train.AdamOptimizer(learning_rate=0.001), \n",
    "                n_epochs=50, \n",
    "                batch_size=1024,\n",
    "                init_std=0.001,\n",
    "                reg=reg,\n",
    "                input_type='dense',\n",
    "                seed=42\n",
    "            )\n",
    "            model.fit(train.drop('Count', axis =1).values, train['Count'].values, show_progress=False)\n",
    "            predictions = model.predict(val.drop('Count', axis =1).values)\n",
    "            cur_loss = mse(val['Count'].values, predictions)\n",
    "            \n",
    "            if cur_loss < val_loss:\n",
    "                val_loss = cur_loss\n",
    "                val_reg = reg\n",
    "                \n",
    "        # Test model        \n",
    "        model = TFFMRegressor(\n",
    "        order=order, \n",
    "        rank=10, \n",
    "        optimizer=tf.train.AdamOptimizer(learning_rate=0.001), \n",
    "        n_epochs=50, \n",
    "        batch_size=1024,\n",
    "        init_std=0.001,\n",
    "        reg=val_reg,\n",
    "        input_type='dense',\n",
    "        seed=42\n",
    "        )\n",
    "        model.fit(train.drop('Count', axis =1).values, train['Count'].values, show_progress=False)\n",
    "        predictions = model.predict(test.drop('Count', axis =1).values)\n",
    "        test_loss = mse(test['Count'].values, predictions)\n",
    "        loss_list.append(test_loss)\n",
    "        \n",
    "        # Return top weighted keywords\n",
    "        if order == 1:\n",
    "            weights = model.session.run(model.core.w[0])\n",
    "            weights_sort = np.argsort(-weights.squeeze())[:10]\n",
    "            keywords_sort = train.columns[weights_sort].tolist()\n",
    "            weight_dict[year] = keywords_sort\n",
    "            \n",
    "        elif order == 2:\n",
    "            weights = model.session.run(model.core.w[1])\n",
    "            weights_dict = {}\n",
    "            keywords_list = []\n",
    "            for i in range(0, weights.shape[0] - 1):\n",
    "                for j in range(i+1, weights.shape[0]):\n",
    "                    weights_dict[(i,j)] = np.dot(weights[i],weights[j])\n",
    "            weights_dict_sort = sorted(weights_dict.items(), key = lambda x : x[1], reverse = True)[:10]\n",
    "            \n",
    "            for k in weights_dict_sort:\n",
    "                keywords = train.columns[list(k[0])].tolist()\n",
    "                keywords_list.append(keywords)\n",
    "            weight_dict[year] = keywords_list\n",
    "            \n",
    "        elif order == 3:\n",
    "            weights = model.session.run(model.core.w[2])\n",
    "            weights_dict = {}\n",
    "            keywords_list = []\n",
    "            for i in range(0, weights.shape[0] - 2):\n",
    "                for j in range(i+1, weights.shape[0]-1):\n",
    "                    for w in range(j+1, weights.shape[0]):\n",
    "                        weights_dict[(i,j,w)] = (weights[i] * weights[j] * weights[w]).sum()\n",
    "            weights_dict_sort = sorted(weights_dict.items(), key = lambda x : x[1], reverse = True)[:10]\n",
    "            \n",
    "            for k in weights_dict_sort:\n",
    "                keywords = train.columns[list(k[0])].tolist()\n",
    "                keywords_list.append(keywords)\n",
    "            weight_dict[year] = keywords_list\n",
    "            \n",
    "    return loss_list, weight_dict"
   ]
  },
  {
   "cell_type": "code",
   "execution_count": 36,
   "metadata": {
    "collapsed": false,
    "deletable": true,
    "editable": true,
    "scrolled": true
   },
   "outputs": [],
   "source": [
    "first_order_loss, first_order_topkeywords = factorization_machine_regression(1, loss_list = [], weight_dict = {})"
   ]
  },
  {
   "cell_type": "code",
   "execution_count": 37,
   "metadata": {
    "collapsed": false,
    "deletable": true,
    "editable": true
   },
   "outputs": [],
   "source": [
    "second_order_loss, second_order_topkeywords = factorization_machine_regression(2, loss_list = [], weight_dict = {})"
   ]
  },
  {
   "cell_type": "code",
   "execution_count": 38,
   "metadata": {
    "collapsed": false,
    "deletable": true,
    "editable": true
   },
   "outputs": [],
   "source": [
    "third_order_loss, third_order_topkeywords = factorization_machine_regression(3, loss_list = [], weight_dict = {})"
   ]
  },
  {
   "cell_type": "code",
   "execution_count": 39,
   "metadata": {
    "collapsed": false,
    "deletable": true,
    "editable": true
   },
   "outputs": [],
   "source": [
    "# ten_order_loss, _ = factorization_machine_regression(10, loss_list = [], weight_dict = {})"
   ]
  },
  {
   "cell_type": "code",
   "execution_count": 40,
   "metadata": {
    "collapsed": false,
    "deletable": true,
    "editable": true
   },
   "outputs": [
    {
     "data": {
      "text/plain": [
       "[7.329217542695627,\n",
       " 7.635343236899077,\n",
       " 7.142927622793624,\n",
       " 6.995619775438744,\n",
       " 6.815454879086248,\n",
       " 6.782905515467367,\n",
       " 6.764202970367962,\n",
       " 6.84921130829306,\n",
       " 6.702919754659925,\n",
       " 6.188629659000971,\n",
       " 6.137726243304541,\n",
       " 5.7422543885787585,\n",
       " 5.833976190798261,\n",
       " 5.800054023572508,\n",
       " 5.375106528297505,\n",
       " 5.139578348529813,\n",
       " 5.030671555562351,\n",
       " 4.91320436105232,\n",
       " 4.978061890983888,\n",
       " 4.95925504864761,\n",
       " 4.897025619788996,\n",
       " 4.766285629295161,\n",
       " 4.856412014341627,\n",
       " 4.675786339226253,\n",
       " 5.038051809833454,\n",
       " 5.085442693346553,\n",
       " 5.0611010597594905,\n",
       " 4.807975191947399]"
      ]
     },
     "execution_count": 40,
     "metadata": {},
     "output_type": "execute_result"
    }
   ],
   "source": [
    "first_order_loss"
   ]
  },
  {
   "cell_type": "code",
   "execution_count": 41,
   "metadata": {
    "collapsed": false,
    "deletable": true,
    "editable": true
   },
   "outputs": [
    {
     "data": {
      "text/plain": [
       "[7.24272685545353,\n",
       " 7.549574330868344,\n",
       " 6.952121473822609,\n",
       " 6.766962887583411,\n",
       " 6.306685732098959,\n",
       " 6.348823402809643,\n",
       " 6.083369134370635,\n",
       " 5.8764836870828345,\n",
       " 5.823715745006705,\n",
       " 5.29545565148424,\n",
       " 5.343832941524901,\n",
       " 4.659631990364784,\n",
       " 4.811347241754527,\n",
       " 4.8535510462059,\n",
       " 4.575573903641282,\n",
       " 4.380597186558914,\n",
       " 4.382459630587851,\n",
       " 4.158004551300317,\n",
       " 4.325811684203379,\n",
       " 4.341480702663074,\n",
       " 4.155458564420076,\n",
       " 4.226005553658929,\n",
       " 4.484211522080308,\n",
       " 4.194224947134886,\n",
       " 4.352152395576866,\n",
       " 4.492331128549747,\n",
       " 4.550346113052316,\n",
       " 4.5114746180038345]"
      ]
     },
     "execution_count": 41,
     "metadata": {},
     "output_type": "execute_result"
    }
   ],
   "source": [
    "second_order_loss"
   ]
  },
  {
   "cell_type": "code",
   "execution_count": 42,
   "metadata": {
    "collapsed": false,
    "deletable": true,
    "editable": true
   },
   "outputs": [
    {
     "data": {
      "text/plain": [
       "[7.242401587243248,\n",
       " 7.549173732419953,\n",
       " 6.950507888557508,\n",
       " 6.7653788931312775,\n",
       " 6.304310014254403,\n",
       " 6.347005252191626,\n",
       " 6.0822638472043815,\n",
       " 5.875933690959893,\n",
       " 5.825632257392602,\n",
       " 5.298994864394866,\n",
       " 5.351815023024713,\n",
       " 4.662863162361282,\n",
       " 4.826161166456008,\n",
       " 4.863752111883172,\n",
       " 4.587939335138623,\n",
       " 4.382543174233071,\n",
       " 4.391946344791632,\n",
       " 4.1677849842449675,\n",
       " 4.326060888871177,\n",
       " 4.346590479765731,\n",
       " 4.162293864912538,\n",
       " 4.226438586304387,\n",
       " 4.486855714626888,\n",
       " 4.195657787027122,\n",
       " 4.357771453158976,\n",
       " 4.49894076795015,\n",
       " 4.560707358015289,\n",
       " 4.512426218741227]"
      ]
     },
     "execution_count": 42,
     "metadata": {},
     "output_type": "execute_result"
    }
   ],
   "source": [
    "third_order_loss"
   ]
  },
  {
   "cell_type": "code",
   "execution_count": 43,
   "metadata": {
    "collapsed": false,
    "deletable": true,
    "editable": true
   },
   "outputs": [
    {
     "data": {
      "text/plain": [
       "<matplotlib.text.Text at 0x2b3885bf0cc0>"
      ]
     },
     "execution_count": 43,
     "metadata": {},
     "output_type": "execute_result"
    },
    {
     "data": {
      "image/png": "[encoded data removed]",
      "text/plain": [
       "<matplotlib.figure.Figure at 0x2b3885bc6dd8>"
      ]
     },
     "metadata": {},
     "output_type": "display_data"
    }
   ],
   "source": [
    "plt.plot(np.arange(28), first_order_loss, label = 'first order')\n",
    "plt.plot(np.arange(28), second_order_loss, label = 'second order')\n",
    "plt.plot(np.arange(28), third_order_loss, label = 'third order')\n",
    "# plt.plot(np.arange(28), ten_order_loss, label = 'tenth order')\n",
    "plt.legend()\n",
    "plt.xticks(np.arange(0, 28, 5), np.arange(1990, 2018, 5))\n",
    "plt.title('Mean Squared Loss vs Years')\n",
    "plt.xlabel('Year')\n",
    "plt.ylabel('Loss')"
   ]
  },
  {
   "cell_type": "code",
   "execution_count": 44,
   "metadata": {
    "collapsed": false,
    "deletable": true,
    "editable": true
   },
   "outputs": [
    {
     "data": {
      "text/plain": [
       "<matplotlib.text.Text at 0x2b3885be5128>"
      ]
     },
     "execution_count": 44,
     "metadata": {},
     "output_type": "execute_result"
    },
    {
     "data": {
      "image/png": "[encoded data removed]",
      "text/plain": [
       "<matplotlib.figure.Figure at 0x2b3885baff98>"
      ]
     },
     "metadata": {},
     "output_type": "display_data"
    }
   ],
   "source": [
    "plt.plot(np.arange(28), (np.array(first_order_loss) - np.array(second_order_loss))/np.array(first_order_loss),\\\n",
    "         label = 'second order')\n",
    "plt.plot(np.arange(28), (np.array(first_order_loss) - np.array(third_order_loss))/np.array(first_order_loss),\\\n",
    "         label = 'third order')\n",
    "# plt.plot(np.arange(28), np.abs((np.array(ten_order_loss) - np.array(first_order_loss))/np.array(first_order_loss)),\\\n",
    "#          label = 'ten order')\n",
    "plt.legend()\n",
    "plt.xticks(np.arange(0, 28, 5), np.arange(1990, 2018, 5))\n",
    "plt.title('Loss Change Percentage Compared to FIrst Order vs Years')\n",
    "plt.xlabel('Year')\n",
    "plt.ylabel('Loss Change')"
   ]
  },
  {
   "cell_type": "code",
   "execution_count": 45,
   "metadata": {
    "collapsed": true,
    "deletable": true,
    "editable": true
   },
   "outputs": [],
   "source": [
    "# Return topic names of the indices\n",
    "\n",
    "topics=pd.read_csv('./All data/advanced/FieldsOfStudy.txt',sep='\\t', header = None,\\\n",
    "                   names = ['topic', 'Rank', 'NormalizedName', 'name', 'MainType', 'Level', 'PaperCount',\\\n",
    "                            'CitationCount', 'CreatedDate'])"
   ]
  },
  {
   "cell_type": "code",
   "execution_count": 46,
   "metadata": {
    "collapsed": false,
    "deletable": true,
    "editable": true
   },
   "outputs": [],
   "source": [
    "import copy\n",
    "\n",
    "first_results = copy.deepcopy(first_order_topkeywords)\n",
    "second_results = copy.deepcopy(second_order_topkeywords)\n",
    "third_results = copy.deepcopy(third_order_topkeywords)"
   ]
  },
  {
   "cell_type": "code",
   "execution_count": 47,
   "metadata": {
    "collapsed": false,
    "deletable": true,
    "editable": true
   },
   "outputs": [
    {
     "name": "stderr",
     "output_type": "stream",
     "text": [
      "/share/apps/python3/3.5.3/intel/lib/python3.5/site-packages/ipykernel/__main__.py:3: FutureWarning: `item` has been deprecated and will be removed in a future version\n",
      "  app.launch_new_instance()\n"
     ]
    }
   ],
   "source": [
    "for year in range(1990, 2018):\n",
    "    for i, keyword in enumerate(first_results[year]):\n",
    "        first_results[year][i] = topics[topics['topic'] == int(keyword)]['name'].item()"
   ]
  },
  {
   "cell_type": "code",
   "execution_count": 48,
   "metadata": {
    "collapsed": false,
    "deletable": true,
    "editable": true
   },
   "outputs": [
    {
     "name": "stderr",
     "output_type": "stream",
     "text": [
      "/share/apps/python3/3.5.3/intel/lib/python3.5/site-packages/ipykernel/__main__.py:3: FutureWarning: `item` has been deprecated and will be removed in a future version\n",
      "  app.launch_new_instance()\n",
      "/share/apps/python3/3.5.3/intel/lib/python3.5/site-packages/ipykernel/__main__.py:4: FutureWarning: `item` has been deprecated and will be removed in a future version\n"
     ]
    }
   ],
   "source": [
    "for year in range(1990, 2018):\n",
    "    for i, keyword in enumerate(second_results[year]):\n",
    "        second_results[year][i][0] = topics[topics['topic'] == int(keyword[0])]['name'].item()\n",
    "        second_results[year][i][1] = topics[topics['topic'] == int(keyword[1])]['name'].item()"
   ]
  },
  {
   "cell_type": "code",
   "execution_count": 49,
   "metadata": {
    "collapsed": false,
    "deletable": true,
    "editable": true
   },
   "outputs": [
    {
     "name": "stderr",
     "output_type": "stream",
     "text": [
      "/share/apps/python3/3.5.3/intel/lib/python3.5/site-packages/ipykernel/__main__.py:3: FutureWarning: `item` has been deprecated and will be removed in a future version\n",
      "  app.launch_new_instance()\n",
      "/share/apps/python3/3.5.3/intel/lib/python3.5/site-packages/ipykernel/__main__.py:4: FutureWarning: `item` has been deprecated and will be removed in a future version\n",
      "/share/apps/python3/3.5.3/intel/lib/python3.5/site-packages/ipykernel/__main__.py:5: FutureWarning: `item` has been deprecated and will be removed in a future version\n"
     ]
    }
   ],
   "source": [
    "for year in range(1990, 2018):\n",
    "    for i, keyword in enumerate(third_results[year]):\n",
    "        third_results[year][i][0] = topics[topics['topic'] == int(keyword[0])]['name'].item()\n",
    "        third_results[year][i][1] = topics[topics['topic'] == int(keyword[1])]['name'].item()\n",
    "        third_results[year][i][2] = topics[topics['topic'] == int(keyword[2])]['name'].item()"
   ]
  },
  {
   "cell_type": "code",
   "execution_count": 50,
   "metadata": {
    "collapsed": true,
    "deletable": true,
    "editable": true
   },
   "outputs": [],
   "source": [
    "from pprint import pprint"
   ]
  },
  {
   "cell_type": "markdown",
   "metadata": {
    "deletable": true,
    "editable": true
   },
   "source": [
    "### Note: Within each year, the keywords (combinations) are listsed in descending order w.r.t weights"
   ]
  },
  {
   "cell_type": "code",
   "execution_count": 51,
   "metadata": {
    "collapsed": false,
    "deletable": true,
    "editable": true
   },
   "outputs": [
    {
     "name": "stdout",
     "output_type": "stream",
     "text": [
      "{1990: ['Boolean circuit',\n",
      "        'Automated planning and scheduling',\n",
      "        'Cognitive model',\n",
      "        'Timer',\n",
      "        'Prototype filter',\n",
      "        'Hash table',\n",
      "        'Distributed design patterns',\n",
      "        'Natural language generation',\n",
      "        'Personal area network',\n",
      "        'Probabilistic argumentation'],\n",
      " 1991: ['Principle of compositionality',\n",
      "        'Method',\n",
      "        'Lexical decision task',\n",
      "        'QRS complex',\n",
      "        'Garbage',\n",
      "        'ENCODE',\n",
      "        'Routing protocol',\n",
      "        'Optimizing compiler',\n",
      "        'Lexical choice',\n",
      "        'Synchronizing'],\n",
      " 1992: ['Workstation',\n",
      "        'Software development',\n",
      "        'Asynchronous Transfer Mode',\n",
      "        'Digital electronics',\n",
      "        'Graph theory',\n",
      "        'Application software',\n",
      "        'Systems architecture',\n",
      "        'Fifth-generation programming language',\n",
      "        'Spread spectrum',\n",
      "        'Distributed memory'],\n",
      " 1993: ['Dynamic priority scheduling',\n",
      "        'Workstation',\n",
      "        'Data compression',\n",
      "        'Time delay neural network',\n",
      "        'Graph theory',\n",
      "        'Image segmentation',\n",
      "        'Mobile robot',\n",
      "        'Backpropagation',\n",
      "        'Fair-share scheduling',\n",
      "        'Asynchronous Transfer Mode'],\n",
      " 1994: ['Asynchronous Transfer Mode',\n",
      "        'Transistor',\n",
      "        'Sequential logic',\n",
      "        'Distributed memory',\n",
      "        'Fading',\n",
      "        'Workstation',\n",
      "        'Application software',\n",
      "        'Debugging',\n",
      "        'Encoding (memory)',\n",
      "        'Software system'],\n",
      " 1995: ['Workstation',\n",
      "        'Software system',\n",
      "        'Asynchronous Transfer Mode',\n",
      "        'Systems architecture',\n",
      "        'Data compression',\n",
      "        'Speech coding',\n",
      "        'Video capture',\n",
      "        'Motion compensation',\n",
      "        'View',\n",
      "        'Fading'],\n",
      " 1996: ['Data compression',\n",
      "        'Asynchronous Transfer Mode',\n",
      "        'Workstation',\n",
      "        'Packet switching',\n",
      "        'Code division multiple access',\n",
      "        'CPU cache',\n",
      "        'Spread spectrum',\n",
      "        'Broadband networks',\n",
      "        'Encoding (memory)',\n",
      "        'Client–server model'],\n",
      " 1997: ['Client',\n",
      "        'Systems architecture',\n",
      "        'Software system',\n",
      "        'Asynchronous Transfer Mode',\n",
      "        'Workstation',\n",
      "        'Data transmission',\n",
      "        'Data compression',\n",
      "        'Web server',\n",
      "        'Software development',\n",
      "        'Packet switching'],\n",
      " 1998: ['Web server',\n",
      "        'Client',\n",
      "        'Mobile agent',\n",
      "        'Client–server model',\n",
      "        'Software system',\n",
      "        'Data transmission',\n",
      "        'Wireless network',\n",
      "        'Data compression',\n",
      "        'Code division multiple access',\n",
      "        'Software development'],\n",
      " 1999: ['Software development',\n",
      "        'Web server',\n",
      "        'Web navigation',\n",
      "        'Client',\n",
      "        'View',\n",
      "        'Asynchronous Transfer Mode',\n",
      "        'Java applet',\n",
      "        'Encoding (memory)',\n",
      "        'Application software',\n",
      "        'Wireless network'],\n",
      " 2000: ['Wireless network',\n",
      "        'Software development',\n",
      "        'Packet switching',\n",
      "        'Web server',\n",
      "        'Client',\n",
      "        'Unified Modeling Language',\n",
      "        'Software system',\n",
      "        'Image segmentation',\n",
      "        'Data compression',\n",
      "        'Low-power electronics'],\n",
      " 2001: ['Software system',\n",
      "        'Wireless network',\n",
      "        'Web server',\n",
      "        'Wireless ad hoc network',\n",
      "        'Encoding (memory)',\n",
      "        'Search engine',\n",
      "        'Data transmission',\n",
      "        'Software development',\n",
      "        'Packet switching',\n",
      "        'Data compression'],\n",
      " 2002: ['Wireless ad hoc network',\n",
      "        'Wireless network',\n",
      "        'Routing protocol',\n",
      "        'Software development',\n",
      "        'Encoding (memory)',\n",
      "        'Web server',\n",
      "        'Software system',\n",
      "        'Client',\n",
      "        'Application software',\n",
      "        'Client–server model'],\n",
      " 2003: ['Wireless ad hoc network',\n",
      "        'Grid computing',\n",
      "        'Wireless network',\n",
      "        'Public-key cryptography',\n",
      "        'Image segmentation',\n",
      "        'Software system',\n",
      "        'Ontology (information science)',\n",
      "        'Overlay network',\n",
      "        'Backup',\n",
      "        'Thread (computing)'],\n",
      " 2004: ['Wireless network',\n",
      "        'Wireless ad hoc network',\n",
      "        'Software development',\n",
      "        'Ontology (information science)',\n",
      "        'Software system',\n",
      "        'Search engine',\n",
      "        'Encoding (memory)',\n",
      "        'Semantic Web',\n",
      "        'Overlay network',\n",
      "        'Stub file'],\n",
      " 2005: ['Wireless network',\n",
      "        'Semantic Web',\n",
      "        'Software development',\n",
      "        'Web server',\n",
      "        'Wireless ad hoc network',\n",
      "        'Software system',\n",
      "        'Grid computing',\n",
      "        'Search engine',\n",
      "        'Thread (computing)',\n",
      "        'Phone'],\n",
      " 2006: ['Wireless network',\n",
      "        'Software development',\n",
      "        'Encoding (memory)',\n",
      "        'Semantic Web',\n",
      "        'Ontology (information science)',\n",
      "        'Software system',\n",
      "        'Wireless ad hoc network',\n",
      "        'Software architecture',\n",
      "        'Data compression',\n",
      "        'Service-oriented architecture'],\n",
      " 2007: ['Wireless network',\n",
      "        'Ontology (information science)',\n",
      "        'Software development',\n",
      "        'Encoding (memory)',\n",
      "        'Mobile station',\n",
      "        'Cognitive radio',\n",
      "        'Search engine',\n",
      "        'Relay',\n",
      "        'Thread (computing)',\n",
      "        'Software system'],\n",
      " 2008: ['Software development',\n",
      "        'Wireless network',\n",
      "        'Encoding (memory)',\n",
      "        'Cognitive radio',\n",
      "        'Virtualization',\n",
      "        'Image segmentation',\n",
      "        'Semantic Web',\n",
      "        'Relay',\n",
      "        'Wireless ad hoc network',\n",
      "        'Routing protocol'],\n",
      " 2009: ['Image segmentation',\n",
      "        'Telecommunications link',\n",
      "        'Wireless network',\n",
      "        'Encoding (memory)',\n",
      "        'Cognitive radio',\n",
      "        'Wireless ad hoc network',\n",
      "        'Ontology (information science)',\n",
      "        'Relay',\n",
      "        'CUDA',\n",
      "        'Cloud computing security'],\n",
      " 2010: ['Image segmentation',\n",
      "        'Encoding (memory)',\n",
      "        'Wireless network',\n",
      "        'Cloud computing security',\n",
      "        'Virtualization',\n",
      "        'CUDA',\n",
      "        'Thread (computing)',\n",
      "        'Cognitive radio',\n",
      "        'Telecommunications link',\n",
      "        'Phone'],\n",
      " 2011: ['Wireless network',\n",
      "        'Encoding (memory)',\n",
      "        'Cloud computing security',\n",
      "        'Image segmentation',\n",
      "        'Routing protocol',\n",
      "        'Semantic Web',\n",
      "        'Search engine',\n",
      "        'Virtualization',\n",
      "        'Telecommunications link',\n",
      "        'Ontology (information science)'],\n",
      " 2012: ['Wireless network',\n",
      "        'Encoding (memory)',\n",
      "        'Image segmentation',\n",
      "        'Cloud computing security',\n",
      "        'Virtualization',\n",
      "        'Mobile station',\n",
      "        'Unsupervised learning',\n",
      "        'Phone',\n",
      "        'Ontology (information science)',\n",
      "        'Cognitive radio'],\n",
      " 2013: ['Software-defined networking',\n",
      "        'Virtualization',\n",
      "        'Wireless network',\n",
      "        'Image segmentation',\n",
      "        'Software development',\n",
      "        'Cognitive radio',\n",
      "        'Cloud computing security',\n",
      "        'MIMO',\n",
      "        'Relay',\n",
      "        'Encoding (memory)'],\n",
      " 2014: ['Software system',\n",
      "        'Deep learning',\n",
      "        'Software development',\n",
      "        'Wireless network',\n",
      "        'Encoding (memory)',\n",
      "        'Telecommunications link',\n",
      "        'MIMO',\n",
      "        'Image segmentation',\n",
      "        'Cloud computing security',\n",
      "        'Data transmission'],\n",
      " 2015: ['Deep learning',\n",
      "        'Recurrent neural network',\n",
      "        'Encoding (memory)',\n",
      "        'Wireless network',\n",
      "        'Embedding',\n",
      "        'Image segmentation',\n",
      "        'Software-defined networking',\n",
      "        'Supervised learning',\n",
      "        'Cloud computing security',\n",
      "        'Software development'],\n",
      " 2016: ['Deep learning',\n",
      "        'Recurrent neural network',\n",
      "        'Embedding',\n",
      "        'Unsupervised learning',\n",
      "        'Wireless network',\n",
      "        'Supervised learning',\n",
      "        'Image segmentation',\n",
      "        'MIMO',\n",
      "        'Encoding (memory)',\n",
      "        'Automation'],\n",
      " 2017: ['Deep learning',\n",
      "        'Image segmentation',\n",
      "        'Embedding',\n",
      "        'Recurrent neural network',\n",
      "        'Encoding (memory)',\n",
      "        'End-to-end principle',\n",
      "        'Supervised learning',\n",
      "        'Wireless network',\n",
      "        'Edge computing',\n",
      "        'Unsupervised learning']}\n"
     ]
    }
   ],
   "source": [
    "pprint(first_results)"
   ]
  },
  {
   "cell_type": "code",
   "execution_count": 52,
   "metadata": {
    "collapsed": false,
    "deletable": true,
    "editable": true
   },
   "outputs": [
    {
     "name": "stdout",
     "output_type": "stream",
     "text": [
      "{1990: [['Distributed memory', 'Memory address'],\n",
      "        ['Registered memory', 'Memory address'],\n",
      "        ['Disk array controller', 'Disk controller'],\n",
      "        ['Software development', 'ConceptBase'],\n",
      "        ['Distributed memory', 'Registered memory'],\n",
      "        ['Software system', 'ConceptBase'],\n",
      "        ['Software system', 'Software development'],\n",
      "        ['Inductive programming', 'Fifth-generation programming language'],\n",
      "        ['Directory service', 'Atomicity'],\n",
      "        ['Deterministic finite automaton', 'Atomicity']],\n",
      " 1991: [['Digital electronics', 'Logic synthesis'],\n",
      "        ['Mixed-signal integrated circuit', 'Logic synthesis'],\n",
      "        ['Logic synthesis', 'Sequential logic'],\n",
      "        ['Mixed-signal integrated circuit', 'Digital electronics'],\n",
      "        ['Parallel programming model', 'Optimizing compiler'],\n",
      "        ['Combinational logic', 'Logic synthesis'],\n",
      "        ['Digital electronics', 'Sequential logic'],\n",
      "        ['Mixed-signal integrated circuit', 'Sequential logic'],\n",
      "        ['Row and column spaces', 'Spare part'],\n",
      "        ['Logic synthesis', 'Logic block']],\n",
      " 1992: [['Feedforward neural network', 'Time delay neural network'],\n",
      "        ['Recurrent neural network', 'Time delay neural network'],\n",
      "        ['Inductive programming', 'Fifth-generation programming language'],\n",
      "        ['Broadband networks', 'Asynchronous Transfer Mode'],\n",
      "        ['Backpropagation', 'Time delay neural network'],\n",
      "        ['Feedforward neural network', 'Backpropagation'],\n",
      "        ['Software system', 'Software development'],\n",
      "        ['Stuck-at fault', 'Automatic test pattern generation'],\n",
      "        ['Deep learning', 'Time delay neural network'],\n",
      "        ['Automatic test pattern generation', 'Sequential logic']],\n",
      " 1993: [['Fair-share scheduling', 'Dynamic priority scheduling'],\n",
      "        ['Backpropagation', 'Time delay neural network'],\n",
      "        ['Deep learning', 'Time delay neural network'],\n",
      "        ['Packet switching', 'Asynchronous Transfer Mode'],\n",
      "        ['Recurrent neural network', 'Time delay neural network'],\n",
      "        ['Combinational logic', 'Sequential logic'],\n",
      "        ['Automatic test pattern generation', 'Sequential logic'],\n",
      "        ['Virtual circuit', 'Asynchronous Transfer Mode'],\n",
      "        ['Feedforward neural network', 'Time delay neural network'],\n",
      "        ['Asynchronous Transfer Mode', 'Bandwidth allocation']],\n",
      " 1994: [['Code division multiple access', 'Fading'],\n",
      "        ['Code division multiple access', 'Spread spectrum'],\n",
      "        ['Fading', 'Spread spectrum'],\n",
      "        ['Digital electronics', 'Sequential logic'],\n",
      "        ['Distributed memory', 'Memory management'],\n",
      "        ['Combinational logic', 'Sequential logic'],\n",
      "        ['Broadband networks', 'Asynchronous Transfer Mode'],\n",
      "        ['Packet switching', 'Asynchronous Transfer Mode'],\n",
      "        ['Database theory', 'Database schema'],\n",
      "        ['Code division multiple access', 'Multipath propagation']],\n",
      " 1995: [['Flow control (data)', 'Asynchronous Transfer Mode'],\n",
      "        ['Code division multiple access', 'Fading'],\n",
      "        ['Code division multiple access', 'Spread spectrum'],\n",
      "        ['Code division multiple access', 'Multipath propagation'],\n",
      "        ['Address bus', 'Control bus'],\n",
      "        ['Statistical time division multiplexing',\n",
      "         'Asynchronous Transfer Mode'],\n",
      "        ['Fading', 'Spread spectrum'],\n",
      "        ['Database schema', 'View'],\n",
      "        ['Software system', 'Software development'],\n",
      "        ['Asynchronous Transfer Mode', 'Network traffic control']],\n",
      " 1996: [['Packet switching', 'Asynchronous Transfer Mode'],\n",
      "        ['Broadband networks', 'Asynchronous Transfer Mode'],\n",
      "        ['Wireless network', 'Asynchronous Transfer Mode'],\n",
      "        ['Asynchronous Transfer Mode', 'Admission control'],\n",
      "        ['Packet switching', 'Broadband networks'],\n",
      "        ['Code division multiple access', 'Spread spectrum'],\n",
      "        ['Code division multiple access', 'Multipath propagation'],\n",
      "        ['Software system', 'Software development'],\n",
      "        ['Wireless network', 'Packet switching'],\n",
      "        ['Asynchronous Transfer Mode', 'Network congestion']],\n",
      " 1997: [['Software system', 'Software development'],\n",
      "        ['Software system', 'Video capture'],\n",
      "        ['Cryptographic protocol', 'Public-key cryptography'],\n",
      "        ['Systems architecture', 'Software system'],\n",
      "        ['Video capture', 'Software development'],\n",
      "        ['Cryptographic protocol', 'Digital signature'],\n",
      "        ['Systems architecture', 'Software development'],\n",
      "        ['Java applet', 'Real time Java'],\n",
      "        ['Web server', 'Java applet'],\n",
      "        ['Systems architecture', 'Video capture']],\n",
      " 1998: [['Software system', 'Software development'],\n",
      "        ['Software architecture', 'Software development'],\n",
      "        ['Software architecture', 'Software system'],\n",
      "        ['Web server', 'Web navigation'],\n",
      "        ['Agent architecture', 'Software development'],\n",
      "        ['Agent architecture', 'Software system'],\n",
      "        ['Software design pattern', 'Software development'],\n",
      "        ['High-level synthesis', 'Software development'],\n",
      "        ['Systems architecture', 'Software development'],\n",
      "        ['Java applet', 'Real time Java']],\n",
      " 1999: [['Web server', 'Client–server model'],\n",
      "        ['Web server', 'Web navigation'],\n",
      "        ['Web server', 'Client'],\n",
      "        ['Call management', 'Voice over IP'],\n",
      "        ['Software system', 'Software development'],\n",
      "        ['Internet Protocol', 'Voice over IP'],\n",
      "        ['Web server', 'Web crawler'],\n",
      "        ['Mobile agent', 'Systems architecture'],\n",
      "        ['Wireless network', 'Asynchronous Transfer Mode'],\n",
      "        ['Call management', 'Internet Protocol']],\n",
      " 2000: [['Software system', 'Software development'],\n",
      "        ['Unified Modeling Language', 'Software development'],\n",
      "        ['Unified Modeling Language', 'Software system'],\n",
      "        ['Software architecture', 'Software development'],\n",
      "        ['Stub file', 'Indexed file'],\n",
      "        ['Client', 'Client–server model'],\n",
      "        ['Client–server model', 'Internet Authentication Service'],\n",
      "        ['User modeling', 'User interface design'],\n",
      "        ['Mobile robot', 'Motion planning'],\n",
      "        ['Object-oriented design', 'Software development']],\n",
      " 2001: [['Stub file', 'Indexed file'],\n",
      "        ['Personal knowledge management', 'Knowledge value chain'],\n",
      "        ['Software system', 'Software development'],\n",
      "        ['User modeling', 'User interface design'],\n",
      "        ['Client', 'Web site'],\n",
      "        ['Internet Protocol', 'Wireless network'],\n",
      "        ['Internet Protocol', 'Wireless ad hoc network'],\n",
      "        ['Wireless ad hoc network', 'Wireless network'],\n",
      "        ['Web server', 'Web site'],\n",
      "        ['Encoding (memory)', 'Video capture']],\n",
      " 2002: [['Software architecture', 'Software development'],\n",
      "        ['Client–server model', 'Software development'],\n",
      "        ['Software system', 'Software development'],\n",
      "        ['Debugging', 'Software development'],\n",
      "        ['User modeling', 'Software development'],\n",
      "        ['Wireless ad hoc network', 'Wireless network'],\n",
      "        ['Cloud computing security', 'Software development'],\n",
      "        ['Wireless ad hoc network', 'Bluetooth'],\n",
      "        ['Wireless network', 'Bluetooth'],\n",
      "        ['Software architecture', 'Client–server model']],\n",
      " 2003: [['Stub file', 'Indexed file'],\n",
      "        ['Message authentication code', 'Public-key cryptography'],\n",
      "        ['Download', 'Backup'],\n",
      "        ['Transaction data', 'Phone'],\n",
      "        ['Management information systems', 'Download'],\n",
      "        ['Authentication protocol', 'Download'],\n",
      "        ['Wireless ad hoc network', 'Wireless network'],\n",
      "        ['Digital signature', 'Public-key cryptography'],\n",
      "        ['Stub file', 'Device file'],\n",
      "        ['Software system', 'Software development']],\n",
      " 2004: [['Stub file', 'Indexed file'],\n",
      "        ['Frame (networking)', 'Mobile station'],\n",
      "        ['Wireless ad hoc network', 'Frame (networking)'],\n",
      "        ['Internet traffic', 'Frame (networking)'],\n",
      "        ['Call management', 'Backup'],\n",
      "        ['Internet protocol suite', 'Frame (networking)'],\n",
      "        ['Frame (networking)', 'Wireless lan'],\n",
      "        ['Unified Modeling Language', 'Software system'],\n",
      "        ['Frame (networking)', 'Host (network)'],\n",
      "        ['Wireless ad hoc network', 'Mobile station']],\n",
      " 2005: [['Web server', 'Web browser'],\n",
      "        ['Operational semantics', 'Software development'],\n",
      "        ['Thread (computing)', 'Operational semantics'],\n",
      "        ['Web server', 'Web site'],\n",
      "        ['Web server', 'Data visualization'],\n",
      "        ['Aspect-oriented programming', 'Operational semantics'],\n",
      "        ['Web server', 'Hyperlink'],\n",
      "        ['Web server', 'Client–server model'],\n",
      "        ['Kernel method', 'Encoding (memory)'],\n",
      "        ['Software system', 'Operational semantics']],\n",
      " 2006: [['Stub file', 'Indexed file'],\n",
      "        ['Unified Modeling Language', 'Software development'],\n",
      "        ['Search engine', 'Phone'],\n",
      "        ['Unified Modeling Language', 'User interface design'],\n",
      "        ['Search engine', 'Unified Modeling Language'],\n",
      "        ['Client', 'Phone'],\n",
      "        ['Transaction processing', 'Transactional memory'],\n",
      "        ['Transactional memory', 'Thread (computing)'],\n",
      "        ['Vertex (geometry)', 'Unified Modeling Language'],\n",
      "        ['Client', 'Search engine']],\n",
      " 2007: [['Stub file', 'Indexed file'],\n",
      "        ['Internet protocol suite', 'Phone'],\n",
      "        ['Internet protocol suite', 'Wireless lan'],\n",
      "        ['Internet protocol suite', 'Video capture'],\n",
      "        ['Internet protocol suite', 'Encoding (memory)'],\n",
      "        ['Internet protocol suite', 'Cognitive radio'],\n",
      "        ['Software system', 'Software development'],\n",
      "        ['Internet protocol suite', 'Signal reconstruction'],\n",
      "        ['Internet protocol suite', 'User equipment'],\n",
      "        ['Internet protocol suite', 'Bluetooth']],\n",
      " 2008: [['Software system', 'Software development'],\n",
      "        ['Software bug', 'Software development'],\n",
      "        ['Mobile technology', 'Mobile station'],\n",
      "        ['Debugging', 'Software development'],\n",
      "        ['Aspect-oriented programming', 'Software development'],\n",
      "        ['Mobile technology', 'Cognitive radio'],\n",
      "        ['Internet Protocol', 'Mobile technology'],\n",
      "        ['Cognitive radio', 'Mobile station'],\n",
      "        ['Internet Protocol', 'Mobile station'],\n",
      "        ['Application software', 'Software development']],\n",
      " 2009: [['Image segmentation', 'Prior probability'],\n",
      "        ['Image segmentation', 'Bayesian inference'],\n",
      "        ['Image segmentation', 'PageRank'],\n",
      "        ['Prior probability', 'PageRank'],\n",
      "        ['Collaborative filtering', 'Prior probability'],\n",
      "        ['Image segmentation', 'Supervised learning'],\n",
      "        ['Bayesian inference', 'Prior probability'],\n",
      "        ['Supervised learning', 'Prior probability'],\n",
      "        ['Bayesian inference', 'PageRank'],\n",
      "        ['Supervised learning', 'PageRank']],\n",
      " 2010: [['Search engine', 'Image segmentation'],\n",
      "        ['Binary classification', 'Search engine'],\n",
      "        ['Binary classification', 'Image segmentation'],\n",
      "        ['Stub file', 'Indexed file'],\n",
      "        ['Search engine', 'Supervised learning'],\n",
      "        ['Search engine', 'Gesture recognition'],\n",
      "        ['Unsupervised learning', 'Search engine'],\n",
      "        ['Image segmentation', 'Supervised learning'],\n",
      "        ['Embedding', 'Search engine'],\n",
      "        ['Information repository', 'Cloud storage']],\n",
      " 2011: [['Encoding (memory)', 'Phone'],\n",
      "        ['ENCODE', 'Encoding (memory)'],\n",
      "        ['Collaborative filtering', 'Encoding (memory)'],\n",
      "        ['Mobile technology', 'Phone'],\n",
      "        ['User modeling', 'User interface design'],\n",
      "        ['Encoding (memory)', 'Audio signal processing'],\n",
      "        ['Encoding (memory)', 'Network on a chip'],\n",
      "        ['Collaborative filtering', 'Phone'],\n",
      "        ['ENCODE', 'Phone'],\n",
      "        ['Encoding (memory)', 'Quality of experience']],\n",
      " 2012: [['Remote control', 'Device to device'],\n",
      "        ['Client', 'Remote control'],\n",
      "        ['Stub file', 'Indexed file'],\n",
      "        ['Network Access Identifier', 'Remote control'],\n",
      "        ['Cloud computing security', 'Electricity'],\n",
      "        ['Client', 'Device to device'],\n",
      "        ['Binary classification', 'Location-based service'],\n",
      "        ['Network Access Identifier', 'Device to device'],\n",
      "        ['Assisted GPS', 'Remote control'],\n",
      "        ['Mobile technology', 'Cloud computing security']],\n",
      " 2013: [['Client', 'Network science'],\n",
      "        ['Network science', 'Mobile station'],\n",
      "        ['Client', 'Mobile station'],\n",
      "        ['Network science', 'Gesture recognition'],\n",
      "        ['Client', 'Gesture recognition'],\n",
      "        ['Gesture recognition', 'Mobile station'],\n",
      "        ['Security service', 'Cloud computing security'],\n",
      "        ['Management information systems', 'Cloud computing security'],\n",
      "        ['Network science', 'Wireless communication systems'],\n",
      "        ['Social network analysis', 'Network science']],\n",
      " 2014: [['ENCODE', 'Encoding (memory)'],\n",
      "        ['ENCODE', 'Video capture'],\n",
      "        ['ENCODE', 'Search engine'],\n",
      "        ['Encoding (memory)', 'Video capture'],\n",
      "        ['Rate of convergence', 'ENCODE'],\n",
      "        ['Sparse matrix', 'ENCODE'],\n",
      "        ['Collaborative filtering', 'ENCODE'],\n",
      "        ['Embedding', 'ENCODE'],\n",
      "        ['Search engine', 'Encoding (memory)'],\n",
      "        ['3D single-object recognition', 'ENCODE']],\n",
      " 2015: [['Embedding', 'Prior probability'],\n",
      "        ['Embedding', 'Deep learning'],\n",
      "        ['Embedding', 'Supervised learning'],\n",
      "        ['Embedding', 'Binary classification'],\n",
      "        ['Embedding', 'Image segmentation'],\n",
      "        ['Feature (computer vision)', 'Embedding'],\n",
      "        ['Embedding', 'Canonical correlation'],\n",
      "        ['Embedding', 'Depth map'],\n",
      "        ['Embedding', 'CUDA'],\n",
      "        ['Embedding', 'Recurrent neural network']],\n",
      " 2016: [['Face detection', 'Side channel attack'],\n",
      "        ['Side channel attack', 'Treebank'],\n",
      "        ['Side channel attack', 'Deep learning'],\n",
      "        ['Software bug', 'Side channel attack'],\n",
      "        ['Side channel attack', 'Semantic information'],\n",
      "        ['Face detection', 'Treebank'],\n",
      "        ['Face detection', 'Deep learning'],\n",
      "        ['Face detection', 'Semantic information'],\n",
      "        ['Software bug', 'Face detection'],\n",
      "        ['Side channel attack', 'Regular polygon']],\n",
      " 2017: [['Vertex (geometry)', 'Graph (abstract data type)'],\n",
      "        ['Kernel density estimation', 'Vertex (geometry)'],\n",
      "        ['Vertex (geometry)', 'Smart contract'],\n",
      "        ['3D pose estimation', 'Vertex (geometry)'],\n",
      "        ['Vertex (geometry)', 'Imitation learning'],\n",
      "        ['Kernel density estimation', 'Graph (abstract data type)'],\n",
      "        ['Laplacian matrix', 'Vertex (geometry)'],\n",
      "        ['Hardware acceleration', 'Vertex (geometry)'],\n",
      "        ['Graph (abstract data type)', 'Smart contract'],\n",
      "        ['Wearable technology', 'Vertex (geometry)']]}\n"
     ]
    }
   ],
   "source": [
    "pprint(second_results)"
   ]
  },
  {
   "cell_type": "code",
   "execution_count": 53,
   "metadata": {
    "collapsed": false,
    "deletable": true,
    "editable": true
   },
   "outputs": [
    {
     "name": "stdout",
     "output_type": "stream",
     "text": [
      "{1990: [['Automatic test pattern generation', 'Scan chain', 'Sequential logic'],\n",
      "        ['Scan chain', 'Sequential logic', 'Ada'],\n",
      "        ['Viterbi algorithm', 'Scan chain', 'Boolean expression'],\n",
      "        ['Virtual circuit', 'Broadband networks', 'Leaky bucket'],\n",
      "        ['Boundary scan', 'Leaky bucket', 'Debugging'],\n",
      "        ['Broadband networks',\n",
      "         'Reduced instruction set computing',\n",
      "         'Sequential logic'],\n",
      "        ['Parallel programming model',\n",
      "         'Bulk synchronous parallel',\n",
      "         'Analysis of parallel algorithms'],\n",
      "        ['Automatic test pattern generation',\n",
      "         'Software fault tolerance',\n",
      "         'Bandwidth management'],\n",
      "        ['Maximum a posteriori estimation',\n",
      "         'Markov model',\n",
      "         'Multilayer perceptron'],\n",
      "        ['Bandwidth management', 'SIMD', 'Markov model']],\n",
      " 1991: [['Packet switching',\n",
      "         'Broadband networks',\n",
      "         'Asynchronous Transfer Mode'],\n",
      "        ['Processing delay', 'End-to-end delay', 'Transmission delay'],\n",
      "        ['Flow control (data)', 'Network congestion', 'Admission control'],\n",
      "        ['Systems architecture',\n",
      "         'Broadband networks',\n",
      "         'Asynchronous Transfer Mode'],\n",
      "        ['Broadband networks',\n",
      "         'Asynchronous Transfer Mode',\n",
      "         'Voice activity detection'],\n",
      "        ['Time-division multiplexing',\n",
      "         'Broadband networks',\n",
      "         'Asynchronous Transfer Mode'],\n",
      "        ['Broadband networks',\n",
      "         'Asynchronous Transfer Mode',\n",
      "         'Network traffic control'],\n",
      "        ['Packet loss', 'Graph theory', 'Asynchronous Transfer Mode'],\n",
      "        ['Processing delay', 'Phase-shift keying', 'Network traffic control'],\n",
      "        ['Broadband networks', 'Markov model', 'Asynchronous Transfer Mode']],\n",
      " 1992: [['Data compression',\n",
      "         'Dynamic bandwidth allocation',\n",
      "         'Asynchronous Transfer Mode'],\n",
      "        ['Time-division multiplexing',\n",
      "         'Broadband networks',\n",
      "         'Asynchronous Transfer Mode'],\n",
      "        ['Automatic test pattern generation', 'VHDL', 'Sequential logic'],\n",
      "        ['Broadband networks',\n",
      "         'Asynchronous Transfer Mode',\n",
      "         'Object oriented databases'],\n",
      "        ['Automatic test pattern generation',\n",
      "         'Packet switching',\n",
      "         'Topology (electrical circuits)'],\n",
      "        ['Database theory', 'Database schema', 'View'],\n",
      "        ['Packet loss', 'Packet switching', 'Asynchronous Transfer Mode'],\n",
      "        ['Database schema', 'Backpropagation', 'Time delay neural network'],\n",
      "        ['Automatic test pattern generation',\n",
      "         'Workstation',\n",
      "         'Sequential logic'],\n",
      "        ['Code division multiple access', 'SIMD', 'Data transmission']],\n",
      " 1993: [['Cellular neural network',\n",
      "         'Recurrent neural network',\n",
      "         'Time delay neural network'],\n",
      "        ['Data compression',\n",
      "         'Channel allocation schemes',\n",
      "         'Asynchronous Transfer Mode'],\n",
      "        ['Distributed memory', 'Memory management', 'Data transmission'],\n",
      "        ['Combinational logic', 'Fading', 'Distributed memory'],\n",
      "        ['Fading', 'Spread spectrum', 'Broadband networks'],\n",
      "        ['Code division multiple access',\n",
      "         'Channel allocation schemes',\n",
      "         'Time delay neural network'],\n",
      "        ['Fading', 'Asynchronous Transfer Mode', 'Digital television'],\n",
      "        ['Packet analyzer',\n",
      "         'Time division multiple access',\n",
      "         'Asynchronous Transfer Mode'],\n",
      "        ['Fading', 'Memory management', 'Binary image'],\n",
      "        ['Codec', 'Asynchronous Transfer Mode', 'Network congestion']],\n",
      " 1994: [['Code division multiple access', 'Fading', 'Spread spectrum'],\n",
      "        ['Code division multiple access', 'Computer memory', 'Microprocessor'],\n",
      "        ['Spread spectrum', 'IP multicast', 'Microprocessor'],\n",
      "        ['Code division multiple access',\n",
      "         'Single antenna interference cancellation',\n",
      "         'Spread spectrum'],\n",
      "        ['PowerPC', 'Reduced instruction set computing', 'Microprocessor'],\n",
      "        ['Database schema', 'Code division multiple access', 'View'],\n",
      "        ['Fading', 'Computer memory', 'IP multicast'],\n",
      "        ['Source-specific multicast',\n",
      "         'Protocol Independent Multicast',\n",
      "         'Xcast'],\n",
      "        ['Recurrent neural network', 'Flow control (data)', 'Microprocessor'],\n",
      "        ['Fair-share scheduling', 'Fading', 'Flow control (data)']],\n",
      " 1995: [['Physical address', 'Fading', 'Asynchronous Transfer Mode'],\n",
      "        ['Adaptive control',\n",
      "         'Flow control (data)',\n",
      "         'Asynchronous Transfer Mode'],\n",
      "        ['Code division multiple access', 'Fading', 'Multipath propagation'],\n",
      "        ['View', 'Backpropagation', 'Multipath propagation'],\n",
      "        ['Code division multiple access',\n",
      "         'Feedforward neural network',\n",
      "         'Equalization (audio)'],\n",
      "        ['Workflow technology', 'Equalization (audio)', 'Flow control (data)'],\n",
      "        ['Source-specific multicast', 'IP multicast', 'Xcast'],\n",
      "        ['Workflow technology',\n",
      "         'Workflow management system',\n",
      "         'Workflow engine'],\n",
      "        ['Data compression', 'Adaptive control', 'Microprocessor'],\n",
      "        ['Fading', 'Phase noise', 'Intersymbol interference']],\n",
      " 1996: [['Application software', 'Software system', 'Software development'],\n",
      "        ['Registered memory', 'Software system', 'IP multicast'],\n",
      "        ['Source-specific multicast',\n",
      "         'Code division multiple access',\n",
      "         'Broadband networks'],\n",
      "        ['Code division multiple access',\n",
      "         'Systems architecture',\n",
      "         'Logic synthesis'],\n",
      "        ['Protocol Independent Multicast', 'IP multicast', 'Xcast'],\n",
      "        ['Hardware architecture', 'Software system', 'Software development'],\n",
      "        ['Source-specific multicast',\n",
      "         'Code division multiple access',\n",
      "         'CPU cache'],\n",
      "        ['Speech coding', 'Systems architecture', 'Data transmission'],\n",
      "        ['Object-oriented design', 'Software system', 'Software development'],\n",
      "        ['Mobile robot', 'Web navigation', 'Software system']],\n",
      " 1997: [['Web server', 'Client', 'Client–server model'],\n",
      "        ['Client–server model',\n",
      "         'Memory management',\n",
      "         'Asynchronous Transfer Mode'],\n",
      "        ['Dynamic web page', 'Memory management', 'Asynchronous Transfer Mode'],\n",
      "        ['Web server', 'Web navigation', 'Client–server model'],\n",
      "        ['Source-specific multicast',\n",
      "         'Protocol Independent Multicast',\n",
      "         'IP multicast'],\n",
      "        ['Registered memory', 'Dynamic web page', 'Memory management'],\n",
      "        ['Registered memory', 'Client–server model', 'Memory management'],\n",
      "        ['Hypertext Transfer Protocol',\n",
      "         'Memory management',\n",
      "         'Asynchronous Transfer Mode'],\n",
      "        ['Web server', 'Web navigation', 'Dynamic web page'],\n",
      "        ['Source-specific multicast',\n",
      "         'Client–server model',\n",
      "         'Workflow engine']],\n",
      " 1998: [['Workflow technology',\n",
      "         'Workflow management system',\n",
      "         'Workflow engine'],\n",
      "        ['Source-specific multicast', 'Workflow technology', 'Workflow engine'],\n",
      "        ['Protocol Independent Multicast', 'IP multicast', 'Xcast'],\n",
      "        ['Dynamic priority scheduling', 'Workflow management system', 'Xcast'],\n",
      "        ['Protocol Independent Multicast',\n",
      "         'Workflow management system',\n",
      "         'Xcast'],\n",
      "        ['Workflow technology', 'Workflow engine', 'Xcast'],\n",
      "        ['Workflow technology',\n",
      "         'Business process management',\n",
      "         'Workflow management system'],\n",
      "        ['Source-specific multicast', 'Dynamic priority scheduling', 'Xcast'],\n",
      "        ['Source-specific multicast',\n",
      "         'Protocol Independent Multicast',\n",
      "         'Xcast'],\n",
      "        ['Web navigation',\n",
      "         'Application software',\n",
      "         'Workflow management system']],\n",
      " 1999: [['Source-specific multicast',\n",
      "         'Protocol Independent Multicast',\n",
      "         'Xcast'],\n",
      "        ['Web server', 'Web navigation', 'Web development'],\n",
      "        ['Workflow technology',\n",
      "         'Workflow management system',\n",
      "         'Workflow engine'],\n",
      "        ['Source-specific multicast', 'IP multicast', 'Xcast'],\n",
      "        ['Source-specific multicast',\n",
      "         'Image texture',\n",
      "         'Workflow management system'],\n",
      "        ['Client', 'Workflow management system', 'Xcast'],\n",
      "        ['Registered memory', 'Workflow management system', 'Workflow engine'],\n",
      "        ['Source-specific multicast', 'Client', 'Computer memory'],\n",
      "        ['Workflow management system', 'Client–server model', 'Xcast'],\n",
      "        ['Web server', 'Web navigation', 'Web modeling']],\n",
      " 2000: [['Client', 'Wireless network', 'Retransmission'],\n",
      "        ['Workflow technology',\n",
      "         'Workflow management system',\n",
      "         'Workflow engine'],\n",
      "        ['Workflow management system', 'Multiple encryption', 'Xcast'],\n",
      "        ['Internet Protocol', 'Encoding (memory)', 'Multipath propagation'],\n",
      "        ['Processing delay', 'Client', 'Retransmission'],\n",
      "        ['Image segmentation', 'Encoding (memory)', 'Microprocessor'],\n",
      "        ['Workflow technology',\n",
      "         'Markup language',\n",
      "         'Workflow management system'],\n",
      "        ['Client', 'Encoding (memory)', 'Xcast'],\n",
      "        ['Link layer', 'Packet switching', 'Data transmission'],\n",
      "        ['Internet Protocol',\n",
      "         'Protocol Independent Multicast',\n",
      "         'Wireless network']],\n",
      " 2001: [['Workflow technology',\n",
      "         'Workflow management system',\n",
      "         'Workflow engine'],\n",
      "        ['Fuzzy clustering', 'Turbo code', 'Workflow management system'],\n",
      "        ['Core router', 'Wireless network', 'One-armed router'],\n",
      "        ['Low-density parity-check code', 'Turbo code', 'Block code'],\n",
      "        ['Client', 'User interface design', 'Workflow engine'],\n",
      "        ['Voltage-controlled oscillator',\n",
      "         'Memory management',\n",
      "         'Information filtering system'],\n",
      "        ['Workflow technology', 'Client', 'Physical address'],\n",
      "        ['Web server', 'Fuzzy clustering', 'Memory management'],\n",
      "        ['Computer memory', 'Comparator', 'Memory management'],\n",
      "        ['Workflow technology', 'Workflow management system', 'Debugging']],\n",
      " 2002: [['On-the-fly encryption', '40-bit encryption', 'Multiple encryption'],\n",
      "        ['Fuzzy clustering', 'Routing protocol', 'Data transmission'],\n",
      "        ['Correlation clustering',\n",
      "         'Routing protocol',\n",
      "         'Clustering high-dimensional data'],\n",
      "        ['Database schema', '40-bit encryption', 'Overlay network'],\n",
      "        ['Fuzzy clustering',\n",
      "         'Correlation clustering',\n",
      "         'Clustering high-dimensional data'],\n",
      "        ['Internet Protocol', 'Routing protocol', 'Overlay network'],\n",
      "        ['Routing protocol', 'Wireless network', 'Overlay network'],\n",
      "        ['Intelligent computer network',\n",
      "         'Routing protocol',\n",
      "         'Thread (computing)'],\n",
      "        ['Routing protocol', 'Image segmentation', 'Service discovery'],\n",
      "        ['Routing protocol', 'Host (network)', 'Bluetooth']],\n",
      " 2003: [['Workflow technology',\n",
      "         'Workflow management system',\n",
      "         'Workflow engine'],\n",
      "        ['Workflow technology',\n",
      "         'Broadcast communication network',\n",
      "         'Color image'],\n",
      "        ['Disk array controller', 'Logical disk', 'Disk controller'],\n",
      "        ['Internet Protocol',\n",
      "         'Broadcast communication network',\n",
      "         'Real-time rendering'],\n",
      "        ['Data compression', 'Real-time rendering', 'Color image'],\n",
      "        ['Face detection', 'Data compression', 'Color image'],\n",
      "        ['Workflow technology', 'ENCODE', 'Data compression'],\n",
      "        ['Workflow technology', 'Internet Protocol', 'Color image'],\n",
      "        ['Workflow technology', 'Internet Protocol', 'Data compression'],\n",
      "        ['Workflow technology', 'Visual perception', 'Workflow engine']],\n",
      " 2004: [['Semantic Web', 'Service design', 'Web modeling'],\n",
      "        ['Search engine', 'Encoding (memory)', 'Data visualization'],\n",
      "        ['Service design', 'Registered memory', 'Data visualization'],\n",
      "        ['Search engine', 'Data visualization', 'Decodes'],\n",
      "        ['Workflow technology',\n",
      "         'Workflow management system',\n",
      "         'Workflow engine'],\n",
      "        ['Semantic Web', 'Service design', 'Document Structure Description'],\n",
      "        ['Phase noise', 'Workflow management system', 'Data visualization'],\n",
      "        ['Semantic Web', 'Web modeling', 'Web standards'],\n",
      "        ['Semantic Web', 'Card reader', 'Data visualization'],\n",
      "        ['Software architecture', 'Service design', 'Data visualization']],\n",
      " 2005: [['Workflow technology',\n",
      "         'Workflow management system',\n",
      "         'Workflow engine'],\n",
      "        ['Workflow technology',\n",
      "         'XML Schema Editor',\n",
      "         'Workflow management system'],\n",
      "        ['Workflow technology', 'Registered memory', 'Memory management'],\n",
      "        ['Computer memory', 'Workflow management system', 'Workflow engine'],\n",
      "        ['Hyperlink', 'Workflow management system', 'Workflow engine'],\n",
      "        ['Business requirements',\n",
      "         'Workflow management system',\n",
      "         'Workflow engine'],\n",
      "        ['Wireless network', 'Workflow management system', 'Workflow engine'],\n",
      "        ['Workflow management system', 'Overlay network', 'Workflow engine'],\n",
      "        ['Database schema',\n",
      "         'XML Schema Editor',\n",
      "         'Document Structure Description'],\n",
      "        ['Workflow technology', 'Workflow engine', 'USB']],\n",
      " 2006: [['Level set', 'Image segmentation', 'Prior probability'],\n",
      "        ['Processing delay', 'Packet analyzer', 'Transmission delay'],\n",
      "        ['Transmission delay', 'Image segmentation', 'Prior probability'],\n",
      "        ['Stub file', 'Source-specific multicast', 'Search engine'],\n",
      "        ['Image segmentation', 'Encoding (memory)', 'Edge detection'],\n",
      "        ['Evolutionary computation', 'Encoding (memory)', 'Memory management'],\n",
      "        ['Graph theory', 'Image segmentation', 'Edge detection'],\n",
      "        ['Computer memory', 'Registered memory', 'Memory management'],\n",
      "        ['Stub file', 'Fuzzy clustering', 'Wireless network'],\n",
      "        ['Image segmentation', 'Edge detection', 'Code rate']],\n",
      " 2007: [['Wireless network', 'Transmission delay', 'Evolutionary algorithm'],\n",
      "        ['Graph theory', 'Evolutionary computation', 'Evolutionary algorithm'],\n",
      "        ['Workflow technology',\n",
      "         'Workflow management system',\n",
      "         'Workflow engine'],\n",
      "        ['Transmission delay', 'H.248', 'Evolutionary algorithm'],\n",
      "        ['Evolutionary computation',\n",
      "         'Genetic programming',\n",
      "         'Evolutionary algorithm'],\n",
      "        ['Gaussian process',\n",
      "         'Evolutionary computation',\n",
      "         'Evolutionary algorithm'],\n",
      "        ['Kernel method', 'Evolutionary algorithm', 'Public-key cryptography'],\n",
      "        ['Evolutionary computation',\n",
      "         'Evolutionary algorithm',\n",
      "         'Retransmission'],\n",
      "        ['Cognitive radio',\n",
      "         'Evolutionary algorithm',\n",
      "         'Direct Anonymous Attestation'],\n",
      "        ['E-commerce', 'Intelligent control', 'Evolutionary algorithm']],\n",
      " 2008: [['Semantic Web', 'Image segmentation', 'Web standards'],\n",
      "        ['Semantic Web', 'Web standards', 'Web browser'],\n",
      "        ['Semantic Web', 'Protocol Independent Multicast', 'Web standards'],\n",
      "        ['Semantic Web', 'Web modeling', 'Web standards'],\n",
      "        ['Semantic Web', 'Evolutionary algorithm', 'CUDA'],\n",
      "        ['Web navigation', 'ENCODE', 'Web standards'],\n",
      "        ['Gaussian process', 'Data compression', 'Covariance'],\n",
      "        ['Semantic Web', 'Web standards', 'Virtualization'],\n",
      "        ['Semantic Web', 'Web standards', 'Bilinear interpolation'],\n",
      "        ['Web navigation', 'Code word', 'Web standards']],\n",
      " 2009: [['Link layer', 'Image texture', 'Binary image'],\n",
      "        ['Kernel virtual address space',\n",
      "         'Virtual finite-state machine',\n",
      "         'Virtualization'],\n",
      "        ['Kernel virtual address space',\n",
      "         'User interface design',\n",
      "         'Virtual finite-state machine'],\n",
      "        ['Web server', 'Service-oriented architecture', 'Web standards'],\n",
      "        ['Genome',\n",
      "         'Kernel virtual address space',\n",
      "         'Virtual finite-state machine'],\n",
      "        ['Feature (computer vision)', 'View', 'Binary image'],\n",
      "        ['View', 'User interface design', 'Virtualization'],\n",
      "        ['Database schema', 'Document Structure Description', 'XML schema'],\n",
      "        ['Semantic Web', 'Web modeling', 'Web standards'],\n",
      "        ['Image texture', 'Binary image', 'Digital television']],\n",
      " 2010: [['Protocol Independent Multicast',\n",
      "         'Memory bandwidth',\n",
      "         'Public-key cryptography'],\n",
      "        ['Protocol Independent Multicast', 'Ciphertext', 'Wireless network'],\n",
      "        ['Protocol Independent Multicast', 'Wireless network', 'Relay'],\n",
      "        ['Ciphertext', 'Homomorphic encryption', 'Public-key cryptography'],\n",
      "        ['Microarchitecture', 'Wireless network', 'Relay'],\n",
      "        ['Source-specific multicast',\n",
      "         'Protocol Independent Multicast',\n",
      "         'Xcast'],\n",
      "        ['Ciphertext', '40-bit encryption', 'Public-key cryptography'],\n",
      "        ['Fair-share scheduling',\n",
      "         'Protocol Independent Multicast',\n",
      "         'Wireless network'],\n",
      "        ['Telecommunications link', 'Public-key cryptography', 'Relay'],\n",
      "        ['Wireless network', 'Web 2.0', 'Business process modeling']],\n",
      " 2011: [['Markov chain Monte Carlo', 'Color image', 'Binary image'],\n",
      "        ['Markov chain Monte Carlo', 'Gibbs sampling', 'Markov model'],\n",
      "        ['Fading', 'CUDA', 'Relay'],\n",
      "        ['Fading', 'Markov model', 'Relay'],\n",
      "        ['Hardware architecture',\n",
      "         'Feature detection (computer vision)',\n",
      "         'Binary image'],\n",
      "        ['Orthogonal frequency-division multiplexing',\n",
      "         'Fading',\n",
      "         'Gibbs sampling'],\n",
      "        ['Image restoration', 'Markov chain Monte Carlo', 'Binary image'],\n",
      "        ['Fading', 'MIMO', 'Web content'],\n",
      "        ['Markov model', 'MIMO', 'Relay'],\n",
      "        ['Orthogonal frequency-division multiplexing',\n",
      "         'Fading',\n",
      "         'Data visualization']],\n",
      " 2012: [['Semantic Web', 'Web modeling', 'Web standards'],\n",
      "        ['Synchronous learning', 'Game Developer', 'Learning sciences'],\n",
      "        ['Cryptographic protocol', 'Fading', 'Public-key cryptography'],\n",
      "        ['Cryptographic protocol',\n",
      "         'Physical address',\n",
      "         'Public-key cryptography'],\n",
      "        ['Virtual circuit', 'End-to-end delay', 'Routing protocol'],\n",
      "        ['Cryptographic protocol',\n",
      "         'Computer memory',\n",
      "         'Public-key cryptography'],\n",
      "        ['Cryptographic protocol', 'Ciphertext', 'Public-key cryptography'],\n",
      "        ['Web server', 'Image fusion', 'Web modeling'],\n",
      "        ['Image fusion', 'Retransmission', 'Public-key cryptography'],\n",
      "        ['Image restoration', 'Retransmission', 'Public-key cryptography']],\n",
      " 2013: [['Web navigation', 'Image segmentation', 'Web standards'],\n",
      "        ['Protocol Independent Multicast',\n",
      "         'Software-defined radio',\n",
      "         'Web standards'],\n",
      "        ['Source-specific multicast',\n",
      "         'Protocol Independent Multicast',\n",
      "         'Xcast'],\n",
      "        ['Plaintext', 'On-the-fly encryption', 'Public-key cryptography'],\n",
      "        ['Protocol Independent Multicast', 'SIMD', 'Web standards'],\n",
      "        ['Source-specific multicast', 'Web modeling', 'Web standards'],\n",
      "        ['Semantic Web', 'Service design', 'Web standards'],\n",
      "        ['Protocol Independent Multicast',\n",
      "         'Image segmentation',\n",
      "         'Web standards'],\n",
      "        ['Web navigation', 'Web standards', 'Public-key cryptography'],\n",
      "        ['On-the-fly encryption',\n",
      "         'Multiple encryption',\n",
      "         'Public-key cryptography']],\n",
      " 2014: [['Network management station',\n",
      "         'Intelligent computer network',\n",
      "         'Converters'],\n",
      "        ['Inductor', 'Comparator', 'Converters'],\n",
      "        ['Network management station',\n",
      "         'Intelligent computer network',\n",
      "         'Network traffic control'],\n",
      "        ['Network management station', 'Inductor', 'Comparator'],\n",
      "        ['S/KEY', 'Authentication protocol', 'Converters'],\n",
      "        ['Intelligent computer network', 'Converters', 'Download'],\n",
      "        ['Intelligent computer network',\n",
      "         'Information-centric networking',\n",
      "         'Converters'],\n",
      "        ['Inductor', 'Switched-mode power supply', 'Converters'],\n",
      "        ['Network management station',\n",
      "         'Authentication protocol',\n",
      "         'Markov chain Monte Carlo'],\n",
      "        ['Network management station',\n",
      "         'Service-oriented architecture',\n",
      "         'Intelligent computer network']],\n",
      " 2015: [['Workflow technology',\n",
      "         'Workflow management system',\n",
      "         'Workflow engine'],\n",
      "        ['Workflow technology', 'On-the-fly encryption', 'Workflow engine'],\n",
      "        ['Workflow technology', 'Wireless network', 'Telecommunications link'],\n",
      "        ['Probabilistic encryption', 'Wireless network', 'Key (cryptography)'],\n",
      "        ['Workflow technology',\n",
      "         'Systems architecture',\n",
      "         'Workflow management system'],\n",
      "        ['Lyapunov function', 'Adaptive control', 'Exponential stability'],\n",
      "        ['Encoding (memory)', 'Exponential stability', 'Latency (engineering)'],\n",
      "        ['Feature (computer vision)', 'Workflow technology', 'Remote control'],\n",
      "        ['Workflow technology',\n",
      "         'Workflow management system',\n",
      "         'Unified Modeling Language'],\n",
      "        ['Management information systems',\n",
      "         'Wireless network',\n",
      "         'Key (cryptography)']],\n",
      " 2016: [['Spectral efficiency', 'MIMO', 'Edge computing'],\n",
      "        ['Multi-swarm optimization', 'Spectral efficiency', 'MIMO'],\n",
      "        ['Beamforming', 'MIMO', 'Edge computing'],\n",
      "        ['Beamforming', 'Multi-swarm optimization', 'MIMO'],\n",
      "        ['Beamforming', 'MIMO', 'Microservices'],\n",
      "        ['Packet loss', 'Beamforming', 'Software-defined networking'],\n",
      "        ['Beamforming', 'Power transmission', 'MIMO'],\n",
      "        ['Beamforming', 'Spectral efficiency', 'Human visual system model'],\n",
      "        ['Clustering coefficient', 'Beamforming', 'Spectral efficiency'],\n",
      "        ['Denial-of-service attack',\n",
      "         'Software-defined networking',\n",
      "         'Virtualization']],\n",
      " 2017: [['Telecommunications link',\n",
      "         'Recurrent neural network',\n",
      "         'Key (cryptography)'],\n",
      "        ['Deep learning', 'Telecommunications link', 'Key (cryptography)'],\n",
      "        ['Deep learning', 'Key (cryptography)', 'MIMO'],\n",
      "        ['Beamforming', 'Deep learning', 'JPEG'],\n",
      "        ['Spectral efficiency', 'Key (cryptography)', 'User equipment'],\n",
      "        ['Beamforming', 'Spectral efficiency', 'Key (cryptography)'],\n",
      "        ['Beamforming', 'Transmitter power output', 'Key (cryptography)'],\n",
      "        ['Beamforming', 'Telecommunications link', 'JPEG'],\n",
      "        ['Encoding (memory)', 'Telecommunications link', 'Key (cryptography)'],\n",
      "        ['Deep learning', 'Recurrent neural network', 'Key (cryptography)']]}\n"
     ]
    }
   ],
   "source": [
    "pprint(third_results)"
   ]
  },
  {
   "cell_type": "code",
   "execution_count": null,
   "metadata": {
    "collapsed": true,
    "deletable": true,
    "editable": true
   },
   "outputs": [],
   "source": []
  }
 ],
 "metadata": {
  "kernelspec": {
   "display_name": "Python 3",
   "language": "python",
   "name": "python3"
  },
  "language_info": {
   "codemirror_mode": {
    "name": "ipython",
    "version": 3
   },
   "file_extension": ".py",
   "mimetype": "text/x-python",
   "name": "python",
   "nbconvert_exporter": "python",
   "pygments_lexer": "ipython3",
   "version": "3.5.3"
  }
 },
 "nbformat": 4,
 "nbformat_minor": 2
}
