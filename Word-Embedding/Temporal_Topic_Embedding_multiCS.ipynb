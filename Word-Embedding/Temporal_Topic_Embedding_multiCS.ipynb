{
 "cells": [
  {
   "cell_type": "code",
   "execution_count": 20,
   "metadata": {
    "collapsed": true,
    "deletable": true,
    "editable": true
   },
   "outputs": [],
   "source": [
    "# Python 2.7.12"
   ]
  },
  {
   "cell_type": "code",
   "execution_count": 21,
   "metadata": {
    "collapsed": false,
    "deletable": true,
    "editable": true
   },
   "outputs": [],
   "source": [
    "import numpy as np\n",
    "import pandas as pd\n",
    "import matplotlib.pyplot as plt\n",
    "from datetime import datetime\n",
    "%matplotlib inline"
   ]
  },
  {
   "cell_type": "code",
   "execution_count": 22,
   "metadata": {
    "collapsed": true,
    "deletable": true,
    "editable": true
   },
   "outputs": [],
   "source": [
    "topics=pd.read_csv('../../All data/advanced/FieldsOfStudy.txt',sep='\\t', header = None,\\\n",
    "                   names = ['topic', 'Rank', 'NormalizedName', 'name', 'MainType', 'Level', 'PaperCount',\\\n",
    "                            'CitationCount', 'CreatedDate'])"
   ]
  },
  {
   "cell_type": "code",
   "execution_count": 23,
   "metadata": {
    "collapsed": false,
    "deletable": true,
    "editable": true
   },
   "outputs": [],
   "source": [
    "papers = pd.read_csv('../../Factorization_Machine/paper_citation_lowlevel_cs.csv', index_col = 0)"
   ]
  },
  {
   "cell_type": "code",
   "execution_count": 24,
   "metadata": {
    "collapsed": true,
    "deletable": true,
    "editable": true
   },
   "outputs": [],
   "source": [
    "level3_topics = topics[topics['Level'] == 3]['topic'].unique()"
   ]
  },
  {
   "cell_type": "code",
   "execution_count": 25,
   "metadata": {
    "collapsed": false,
    "deletable": true,
    "editable": true
   },
   "outputs": [],
   "source": [
    "paper_with_level3 = papers[papers['FieldOfStudyId'].isin(level3_topics)]"
   ]
  },
  {
   "cell_type": "code",
   "execution_count": 26,
   "metadata": {
    "collapsed": true,
    "deletable": true,
    "editable": true
   },
   "outputs": [],
   "source": [
    "def find_link_all(paper_year):\n",
    "    pId_fIds = {} #key pId, value = list of fId (keywords)\n",
    "    for index, row in paper_year.iterrows():\n",
    "        pId, fId = row[\"PaperId\"], row[\"FieldOfStudyId\"]\n",
    "        if pId not in pId_fIds:\n",
    "            pId_fIds[pId] = []\n",
    "        pId_fIds[pId].append(fId)\n",
    "    share_count = {}\n",
    "    for pId in pId_fIds:\n",
    "        fIds = pId_fIds[pId]\n",
    "        for fId in fIds:\n",
    "            if fId not in share_count:\n",
    "                share_count[fId] = {}\n",
    "            for fId2 in fIds:\n",
    "                if fId == fId2:\n",
    "                    continue\n",
    "                if fId2 not in share_count[fId]:\n",
    "                    share_count[fId][fId2] = 0\n",
    "                share_count[fId][fId2] += 1\n",
    "                \n",
    "    return share_count"
   ]
  },
  {
   "cell_type": "code",
   "execution_count": 27,
   "metadata": {
    "collapsed": false,
    "deletable": true,
    "editable": true
   },
   "outputs": [],
   "source": [
    "share_count_year = {}\n",
    "for year in range(1990, 2018):\n",
    "    paper_year = paper_with_level3[paper_with_level3['Year'] == year]\n",
    "    share_count_year[year] = find_link_all(paper_year)"
   ]
  },
  {
   "cell_type": "code",
   "execution_count": 28,
   "metadata": {
    "collapsed": false,
    "deletable": true,
    "editable": true
   },
   "outputs": [],
   "source": [
    "from copy import deepcopy\n",
    "share_count_year_copy = deepcopy(share_count_year)"
   ]
  },
  {
   "cell_type": "code",
   "execution_count": 29,
   "metadata": {
    "collapsed": false,
    "deletable": true,
    "editable": true
   },
   "outputs": [],
   "source": [
    "# Remove less than 10 values\n",
    "\n",
    "for year in xrange(1990, 2018):\n",
    "    for fId1 in list(share_count_year_copy[year]):\n",
    "        for fId2 in list(share_count_year_copy[year][fId1]):\n",
    "            if share_count_year_copy[year][fId1][fId2] < 10:\n",
    "                del share_count_year_copy[year][fId1][fId2]\n",
    "\n",
    "        if len(share_count_year_copy[year][fId1]) == 0:\n",
    "            del share_count_year_copy[year][fId1]"
   ]
  },
  {
   "cell_type": "code",
   "execution_count": 30,
   "metadata": {
    "collapsed": true,
    "deletable": true,
    "editable": true
   },
   "outputs": [],
   "source": [
    "# Re-index all keywords in the dict, this has to be in order of year\n",
    "\n",
    "keywords_index = {}\n",
    "i = 0\n",
    "for year in xrange(1990, 2018):\n",
    "     for fId in list(share_count_year_copy[year]):\n",
    "            if fId not in keywords_index:\n",
    "                keywords_index[fId] = i\n",
    "                i += 1"
   ]
  },
  {
   "cell_type": "code",
   "execution_count": 31,
   "metadata": {
    "collapsed": true,
    "deletable": true,
    "editable": true
   },
   "outputs": [],
   "source": [
    "keywords_index_table = pd.DataFrame(columns = ['topic', 'graph_index'])\n",
    "keywords_index_table['topic'] = keywords_index.keys()\n",
    "keywords_index_table['graph_index'] = keywords_index.values()"
   ]
  },
  {
   "cell_type": "code",
   "execution_count": 32,
   "metadata": {
    "collapsed": false,
    "deletable": true,
    "editable": true
   },
   "outputs": [],
   "source": [
    "keywords_index_table.to_csv('keywords_index_multics.csv')"
   ]
  },
  {
   "cell_type": "code",
   "execution_count": 33,
   "metadata": {
    "collapsed": true,
    "deletable": true,
    "editable": true
   },
   "outputs": [],
   "source": [
    "# keywords_index_table = pd.read_csv('keywords_index_multics.csv', index_col = 0)"
   ]
  },
  {
   "cell_type": "code",
   "execution_count": 34,
   "metadata": {
    "collapsed": true,
    "deletable": true,
    "editable": true
   },
   "outputs": [],
   "source": [
    "import networkx as nx"
   ]
  },
  {
   "cell_type": "code",
   "execution_count": 35,
   "metadata": {
    "collapsed": false,
    "deletable": true,
    "editable": true
   },
   "outputs": [],
   "source": [
    "# Build graph for every year\n",
    "\n",
    "\n",
    "full_link = []\n",
    "for year in xrange(1990, 2018):\n",
    "    last_node = 0\n",
    "    for fId1 in list(share_count_year_copy[year]):\n",
    "        if keywords_index[fId1] > last_node:\n",
    "            last_node = keywords_index[fId1]\n",
    "    \n",
    "    edges = []\n",
    "    graph = nx.MultiGraph()\n",
    "    graph.add_nodes_from([i for i in xrange(last_node+1)]) \n",
    "    for fId1 in list(share_count_year_copy[year]):\n",
    "        for fId2 in list(share_count_year_copy[year][fId1]):     \n",
    "            if (min(fId1, fId2), max(fId1, fId2)) not in edges:\n",
    "                edges.append((min(fId1, fId2), max(fId1, fId2)))\n",
    "                for j in range(share_count_year_copy[year][fId1][fId2]):\n",
    "                    graph.add_edge(keywords_index[fId1], keywords_index[fId2])\n",
    "\n",
    "    full_link.append(graph)"
   ]
  },
  {
   "cell_type": "code",
   "execution_count": null,
   "metadata": {
    "collapsed": false,
    "deletable": true,
    "editable": true
   },
   "outputs": [],
   "source": [
    "np.savez('data/Multi_Computer_Science/graphs.npz', graph = full_link)"
   ]
  },
  {
   "cell_type": "code",
   "execution_count": null,
   "metadata": {
    "collapsed": false,
    "deletable": true,
    "editable": true
   },
   "outputs": [],
   "source": [
    "%%bash\n",
    "\n",
    "python run_script.py --max_time 28 --dataset Multi_Computer_Science"
   ]
  },
  {
   "cell_type": "code",
   "execution_count": 39,
   "metadata": {
    "collapsed": false,
    "deletable": true,
    "editable": true
   },
   "outputs": [],
   "source": [
    "for num in range(0, 27):\n",
    "    emb = pd.read_csv('logs/DySAT_default/output/default_embs_Multi_Computer_Science_{}.csv'.format(str(num)), header = None)\n",
    "    \n",
    "    # Join actualy keywords back\n",
    "    temporal_emb = keywords_index_table.merge(emb, left_on = 'graph_index', right_index = True)\n",
    "    temporal_emb.drop('graph_index', axis = 1, inplace = True)\n",
    "    \n",
    "    temporal_emb = temporal_emb.merge(topics[['topic', 'name']], how = 'left', on = 'topic')\n",
    "    column_name = list(temporal_emb.columns.values) \n",
    "    column_name.remove('topic') \n",
    "    column_name.remove('name') \n",
    "    temporal_emb = temporal_emb[['topic', 'name']+column_name]\n",
    "    \n",
    "    temporal_emb.to_csv('temporal_embedding_multics_{}.csv'.format(str(num+1991)))"
   ]
  },
  {
   "cell_type": "code",
   "execution_count": null,
   "metadata": {
    "collapsed": true,
    "deletable": true,
    "editable": true
   },
   "outputs": [],
   "source": []
  }
 ],
 "metadata": {
  "kernelspec": {
   "display_name": "Python 3",
   "language": "python",
   "name": "python3"
  },
  "language_info": {
   "codemirror_mode": {
    "name": "ipython",
    "version": 3
   },
   "file_extension": ".py",
   "mimetype": "text/x-python",
   "name": "python",
   "nbconvert_exporter": "python",
   "pygments_lexer": "ipython3",
   "version": "3.5.3"
  }
 },
 "nbformat": 4,
 "nbformat_minor": 2
}
