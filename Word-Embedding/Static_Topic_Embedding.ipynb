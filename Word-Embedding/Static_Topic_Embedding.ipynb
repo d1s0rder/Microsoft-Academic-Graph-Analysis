{
 "cells": [
  {
   "cell_type": "code",
   "execution_count": 1,
   "metadata": {
    "collapsed": true,
    "deletable": true,
    "editable": true
   },
   "outputs": [],
   "source": [
    "import numpy as np\n",
    "import pandas as pd\n",
    "import matplotlib.pyplot as plt\n",
    "from multiprocessing import Pool\n",
    "from functools import partial\n",
    "%matplotlib inline"
   ]
  },
  {
   "cell_type": "code",
   "execution_count": 2,
   "metadata": {
    "collapsed": false,
    "deletable": true,
    "editable": true
   },
   "outputs": [],
   "source": [
    "topics=pd.read_csv('../All data/advanced/FieldsOfStudy.txt',sep='\\t', header = None,\\\n",
    "                   names = ['topic', 'Rank', 'NormalizedName', 'name', 'MainType', 'Level', 'PaperCount',\\\n",
    "                            'CitationCount', 'CreatedDate'])"
   ]
  },
  {
   "cell_type": "code",
   "execution_count": 19,
   "metadata": {
    "collapsed": true,
    "deletable": true,
    "editable": true
   },
   "outputs": [],
   "source": [
    "level3_topics = topics[topics['Level'] == 3]['topic'].unique()"
   ]
  },
  {
   "cell_type": "code",
   "execution_count": 20,
   "metadata": {
    "collapsed": false,
    "deletable": true,
    "editable": true
   },
   "outputs": [
    {
     "data": {
      "text/plain": [
       "289894"
      ]
     },
     "execution_count": 20,
     "metadata": {},
     "output_type": "execute_result"
    }
   ],
   "source": [
    "len(level3_topics)"
   ]
  },
  {
   "cell_type": "code",
   "execution_count": 9,
   "metadata": {
    "collapsed": true,
    "deletable": true,
    "editable": true
   },
   "outputs": [],
   "source": [
    "chunks=pd.read_csv('../All data/advanced/PaperFieldsOfStudy.txt',chunksize=1000000,sep='\\t', header = None,\\\n",
    "                   names = ['PaperId', 'FieldOfStudyId', 'Score'])"
   ]
  },
  {
   "cell_type": "code",
   "execution_count": 10,
   "metadata": {
    "collapsed": true,
    "deletable": true,
    "editable": true
   },
   "outputs": [],
   "source": [
    "paper_with_level3 = pd.DataFrame()\n",
    "\n",
    "for chunk in chunks:\n",
    "    paper_with_level3 = pd.concat([paper_with_level3, chunk[chunk['FieldOfStudyId'].isin(level3_topics)]])"
   ]
  },
  {
   "cell_type": "code",
   "execution_count": 14,
   "metadata": {
    "collapsed": false,
    "deletable": true,
    "editable": true
   },
   "outputs": [],
   "source": [
    "chunks = pd.read_csv('../All data/mag/Papers.txt',chunksize=1000000,sep = '\\t', header = None,\\\n",
    "                       names = ['PaperId', 'Rank', 'Doi', 'DocType', 'PaperTitle', 'OriginalTitle', 'BookTitle', 'Year',\\\n",
    "                                'Date', 'Publisher', 'JournalId', 'ConferenceSeriesId', 'ConferenceInstanceId', 'Volume',\\\n",
    "                                'Issue', 'FirstPage', 'LastPage', 'ReferenceCount', 'CitationCount', 'EstimatedCitation',\\\n",
    "                                'OriginalVenue', 'FamilyId', 'CreatedDate'], low_memory = False)"
   ]
  },
  {
   "cell_type": "code",
   "execution_count": null,
   "metadata": {
    "collapsed": true,
    "deletable": true,
    "editable": true
   },
   "outputs": [],
   "source": [
    "paper_year = pd.DataFrame()\n",
    "\n",
    "for chunk in chunks:\n",
    "    chunk['Year'] = chunk['Year'].fillna('0').astype('str')\n",
    "    chunk['Year'] = pd.t`o_numeric(chunk['Year'].str[:4], errors = 'coerce')\n",
    "    chunk['Year'] = chunk['Year'].fillna(0)\n",
    "    paper_year = pd.concat([paper_year, \n",
    "                            chunk[(chunk['PaperId'].isin(paper_with_level3['PaperId'].unique())) & (chunk['Year'] >= 1990) &\\\n",
    "                                  (chunk['Year'] <= 2017)]])"
   ]
  },
  {
   "cell_type": "code",
   "execution_count": 5,
   "metadata": {
    "collapsed": false,
    "deletable": true,
    "editable": true
   },
   "outputs": [
    {
     "name": "stderr",
     "output_type": "stream",
     "text": [
      "/share/apps/python3/3.5.3/intel/lib/python3.5/site-packages/IPython/core/interactiveshell.py:2717: DtypeWarning: Columns (13,14,16,17,22) have mixed types. Specify dtype option on import or set low_memory=False.\n",
      "  interactivity=interactivity, compiler=compiler, result=result)\n"
     ]
    }
   ],
   "source": [
    "# paper_year = pd.read_csv('paper_year.tsv', sep = '\\t')"
   ]
  },
  {
   "cell_type": "code",
   "execution_count": 25,
   "metadata": {
    "collapsed": false,
    "deletable": true,
    "editable": true
   },
   "outputs": [
    {
     "data": {
      "text/plain": [
       "(92749936, 23)"
      ]
     },
     "execution_count": 25,
     "metadata": {},
     "output_type": "execute_result"
    }
   ],
   "source": [
    "paper_year.shape"
   ]
  },
  {
   "cell_type": "code",
   "execution_count": 14,
   "metadata": {
    "collapsed": false,
    "deletable": true,
    "editable": true
   },
   "outputs": [],
   "source": [
    "paper_with_level3 = paper_with_level3[paper_with_level3['PaperId'].isin(paper_year['PaperId'])]"
   ]
  },
  {
   "cell_type": "code",
   "execution_count": 16,
   "metadata": {
    "collapsed": false,
    "deletable": true,
    "editable": true
   },
   "outputs": [],
   "source": [
    "# paper_with_level3.to_csv('paper_with_level3.tsv', sep = '\\t')"
   ]
  },
  {
   "cell_type": "markdown",
   "metadata": {
    "deletable": true,
    "editable": true
   },
   "source": [
    "## Construct a weighted graph"
   ]
  },
  {
   "cell_type": "code",
   "execution_count": 7,
   "metadata": {
    "collapsed": false,
    "deletable": true,
    "editable": true
   },
   "outputs": [
    {
     "name": "stderr",
     "output_type": "stream",
     "text": [
      "/home/jz3502/.local/lib/python3.5/site-packages/numpy/lib/arraysetops.py:569: FutureWarning: elementwise comparison failed; returning scalar instead, but in the future will perform elementwise comparison\n",
      "  mask |= (ar1 == a)\n"
     ]
    }
   ],
   "source": [
    "# paper_with_level3 = pd.read_csv('paper_with_level3.tsv', sep = '\\t', index_col = 0)"
   ]
  },
  {
   "cell_type": "code",
   "execution_count": 8,
   "metadata": {
    "collapsed": false,
    "deletable": true,
    "editable": true
   },
   "outputs": [
    {
     "data": {
      "text/html": [
       "<div>\n",
       "<style scoped>\n",
       "    .dataframe tbody tr th:only-of-type {\n",
       "        vertical-align: middle;\n",
       "    }\n",
       "\n",
       "    .dataframe tbody tr th {\n",
       "        vertical-align: top;\n",
       "    }\n",
       "\n",
       "    .dataframe thead th {\n",
       "        text-align: right;\n",
       "    }\n",
       "</style>\n",
       "<table border=\"1\" class=\"dataframe\">\n",
       "  <thead>\n",
       "    <tr style=\"text-align: right;\">\n",
       "      <th></th>\n",
       "      <th>PaperId</th>\n",
       "      <th>FieldOfStudyId</th>\n",
       "      <th>Score</th>\n",
       "    </tr>\n",
       "  </thead>\n",
       "  <tbody>\n",
       "    <tr>\n",
       "      <th>0</th>\n",
       "      <td>217773392</td>\n",
       "      <td>2778063415</td>\n",
       "      <td>0.501878</td>\n",
       "    </tr>\n",
       "    <tr>\n",
       "      <th>1</th>\n",
       "      <td>178181438</td>\n",
       "      <td>2776662696</td>\n",
       "      <td>0.469016</td>\n",
       "    </tr>\n",
       "    <tr>\n",
       "      <th>2</th>\n",
       "      <td>36070428</td>\n",
       "      <td>2779234561</td>\n",
       "      <td>0.485536</td>\n",
       "    </tr>\n",
       "    <tr>\n",
       "      <th>4</th>\n",
       "      <td>107407429</td>\n",
       "      <td>163904656</td>\n",
       "      <td>0.716992</td>\n",
       "    </tr>\n",
       "    <tr>\n",
       "      <th>6</th>\n",
       "      <td>89287845</td>\n",
       "      <td>108578832</td>\n",
       "      <td>0.788253</td>\n",
       "    </tr>\n",
       "  </tbody>\n",
       "</table>\n",
       "</div>"
      ],
      "text/plain": [
       "     PaperId  FieldOfStudyId     Score\n",
       "0  217773392      2778063415  0.501878\n",
       "1  178181438      2776662696  0.469016\n",
       "2   36070428      2779234561  0.485536\n",
       "4  107407429       163904656  0.716992\n",
       "6   89287845       108578832  0.788253"
      ]
     },
     "execution_count": 8,
     "metadata": {},
     "output_type": "execute_result"
    }
   ],
   "source": [
    "paper_with_level3.head()"
   ]
  },
  {
   "cell_type": "code",
   "execution_count": 10,
   "metadata": {
    "collapsed": true,
    "deletable": true,
    "editable": true
   },
   "outputs": [],
   "source": [
    "def find_link_all(target_pIds = None):\n",
    "    pId_fIds = {} #key pId, value = list of fId (keywords)\n",
    "    for index, row in paper_with_level3.iterrows():\n",
    "        pId, fId = row[\"PaperId\"], row[\"FieldOfStudyId\"]\n",
    "        if target_pIds != None and (pId not in target_pIds[pId]):\n",
    "            continue\n",
    "        if not pId in pId_fIds:\n",
    "            pId_fIds[pId] = []\n",
    "        pId_fIds[pId].append(fId)\n",
    "    share_count = {}\n",
    "    for pId in pId_fIds:\n",
    "        fIds = pId_fIds[pId]\n",
    "        for fId in fIds:\n",
    "            if fId not in share_count:\n",
    "                share_count[fId] = {}\n",
    "            for fId2 in fIds:\n",
    "                if fId == fId2:\n",
    "                    continue\n",
    "                if fId2 not in share_count[fId]:\n",
    "                    share_count[fId][fId2] = 0\n",
    "                share_count[fId][fId2] += 1\n",
    "                \n",
    "    return share_count"
   ]
  },
  {
   "cell_type": "code",
   "execution_count": null,
   "metadata": {
    "collapsed": false,
    "deletable": true,
    "editable": true
   },
   "outputs": [],
   "source": [
    "share_count = find_link_all(target_pIds = None)"
   ]
  },
  {
   "cell_type": "code",
   "execution_count": 19,
   "metadata": {
    "collapsed": true,
    "deletable": true,
    "editable": true
   },
   "outputs": [],
   "source": [
    "# Remove less than 10 values\n",
    "\n",
    "from copy import deepcopy\n",
    "share_count_copy = deepcopy(share_count)"
   ]
  },
  {
   "cell_type": "code",
   "execution_count": 20,
   "metadata": {
    "collapsed": false,
    "deletable": true,
    "editable": true
   },
   "outputs": [],
   "source": [
    "for fId1 in list(share_count_copy):\n",
    "    for fId2 in list(share_count_copy[fId1]):\n",
    "        if share_count_copy[fId1][fId2] < 10:\n",
    "            del share_count_copy[fId1][fId2]\n",
    "            \n",
    "    if len(share_count_copy[fId1]) == 0:\n",
    "        del share_count_copy[fId1]"
   ]
  },
  {
   "cell_type": "code",
   "execution_count": 65,
   "metadata": {
    "collapsed": true,
    "deletable": true,
    "editable": true
   },
   "outputs": [],
   "source": [
    "import networkx as nx"
   ]
  },
  {
   "cell_type": "code",
   "execution_count": 72,
   "metadata": {
    "collapsed": false,
    "deletable": true,
    "editable": true
   },
   "outputs": [],
   "source": [
    "graph = nx.Graph() \n",
    "for fId1 in list(share_count_copy):\n",
    "    for fId2 in list(share_count_copy[fId1]):\n",
    "        graph.add_edge(int(fId1), int(fId2))"
   ]
  },
  {
   "cell_type": "code",
   "execution_count": 73,
   "metadata": {
    "collapsed": false,
    "deletable": true,
    "editable": true
   },
   "outputs": [],
   "source": [
    "for edge in graph.edges:\n",
    "    graph[edge[0]][edge[1]]['weight'] = share_count_copy[edge[0]][edge[1]]"
   ]
  },
  {
   "cell_type": "code",
   "execution_count": 74,
   "metadata": {
    "collapsed": true,
    "deletable": true,
    "editable": true
   },
   "outputs": [],
   "source": [
    "nx.write_edgelist(graph, \"topic.edgelist\")"
   ]
  },
  {
   "cell_type": "code",
   "execution_count": 76,
   "metadata": {
    "collapsed": false,
    "deletable": true,
    "editable": true
   },
   "outputs": [
    {
     "name": "stdout",
     "output_type": "stream",
     "text": [
      "Walk iteration:\n",
      "1 / 10\n",
      "2 / 10\n",
      "3 / 10\n",
      "4 / 10\n",
      "5 / 10\n",
      "6 / 10\n",
      "7 / 10\n",
      "8 / 10\n",
      "9 / 10\n",
      "10 / 10\n"
     ]
    },
    {
     "name": "stderr",
     "output_type": "stream",
     "text": [
      "/home/jz3502/.local/lib/python2.7/site-packages/gensim/utils.py:1015: UserWarning: Pattern library is not installed, lemmatization won't be available.\n",
      "  warnings.warn(\"Pattern library is not installed, lemmatization won't be available.\")\n",
      "/home/jz3502/.local/lib/python2.7/site-packages/smart_open/smart_open_lib.py:410: UserWarning: This function is deprecated, use smart_open.open instead. See the migration notes for details: https://github.com/RaRe-Technologies/smart_open/blob/master/README.rst#migrating-to-the-new-open-function\n",
      "  'See the migration notes for details: %s' % _MIGRATION_NOTES_URL\n"
     ]
    }
   ],
   "source": [
    "# Run node2vec\n",
    "\n",
    "%%bash\n",
    "\n",
    "module swap python3/intel  python/intel/2.7.12\n",
    "# module load python/intel/2.7.12\n",
    "python node2vec/src/main.py --input topic.edgelist --output test.emd"
   ]
  },
  {
   "cell_type": "code",
   "execution_count": 3,
   "metadata": {
    "collapsed": false,
    "deletable": true,
    "editable": true
   },
   "outputs": [
    {
     "name": "stderr",
     "output_type": "stream",
     "text": [
      "/share/apps/python3/3.5.3/intel/lib/python3.5/site-packages/ipykernel/__main__.py:12: FutureWarning: `item` has been deprecated and will be removed in a future version\n"
     ]
    }
   ],
   "source": [
    "# Identify embedding topics\n",
    "\n",
    "emb_dict = {}\n",
    "topic_list = []\n",
    "i = 0\n",
    "with open('test.emd', 'r') as topic_embedding:\n",
    "    for line in topic_embedding:\n",
    "        if i == 0:\n",
    "            i += 1\n",
    "            continue\n",
    "        line = line.split()\n",
    "        for j, num in enumerate(line):         \n",
    "            if j == 0:\n",
    "                topic_name = topics[topics['topic'] == int(num)]['name'].item()\n",
    "                topic_list.append(topic_name)\n",
    "                emb_dict[topic_name] = []\n",
    "            else:\n",
    "                emb_dict[topic_name].append(float(num))"
   ]
  },
  {
   "cell_type": "code",
   "execution_count": 4,
   "metadata": {
    "collapsed": true,
    "deletable": true,
    "editable": true
   },
   "outputs": [],
   "source": [
    "from sklearn.metrics.pairwise import cosine_similarity, euclidean_distances"
   ]
  },
  {
   "cell_type": "code",
   "execution_count": null,
   "metadata": {
    "collapsed": false,
    "deletable": true,
    "editable": true
   },
   "outputs": [],
   "source": [
    "## Compute cosine similarity between two words\n",
    "\n",
    "two_word_similarity = {}\n",
    "for i in range(len(topic_list)-1):\n",
    "    for j in range(i+1, len(topic_list)):\n",
    "        similarity = cosine_similarity(np.array(emb_dict[topic_list[i]]).reshape(1, -1), \n",
    "                                       np.array(emb_dict[topic_list[j]]).reshape(1, -1))\n",
    "        two_word_similarity[(topic_list[i], topic_list[j])] = similarity.item()"
   ]
  },
  {
   "cell_type": "code",
   "execution_count": null,
   "metadata": {
    "collapsed": false,
    "deletable": true,
    "editable": true
   },
   "outputs": [],
   "source": [
    "two_word_similarity_dataframe = pd.DataFrame(two_word_similarity.items(), columns = ['Topics', 'Similarity'])"
   ]
  },
  {
   "cell_type": "code",
   "execution_count": null,
   "metadata": {
    "collapsed": false,
    "deletable": true,
    "editable": true
   },
   "outputs": [],
   "source": [
    "two_word_similarity_dataframe.to_csv('static_two_words_similarity.tsv', sep = '\\t')"
   ]
  }
 ],
 "metadata": {
  "kernelspec": {
   "display_name": "Python 3",
   "language": "python",
   "name": "python3"
  },
  "language_info": {
   "codemirror_mode": {
    "name": "ipython",
    "version": 3
   },
   "file_extension": ".py",
   "mimetype": "text/x-python",
   "name": "python",
   "nbconvert_exporter": "python",
   "pygments_lexer": "ipython3",
   "version": "3.5.3"
  }
 },
 "nbformat": 4,
 "nbformat_minor": 2
}
