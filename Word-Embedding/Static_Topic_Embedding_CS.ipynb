{
 "cells": [
  {
   "cell_type": "code",
   "execution_count": 1,
   "metadata": {
    "collapsed": true,
    "deletable": true,
    "editable": true
   },
   "outputs": [],
   "source": [
    "import numpy as np\n",
    "import pandas as pd\n",
    "import matplotlib.pyplot as plt\n",
    "from datetime import datetime\n",
    "%matplotlib inline"
   ]
  },
  {
   "cell_type": "code",
   "execution_count": 16,
   "metadata": {
    "collapsed": false,
    "deletable": true,
    "editable": true
   },
   "outputs": [],
   "source": [
    "topics=pd.read_csv('../All data/advanced/FieldsOfStudy.txt',sep='\\t', header = None,\\\n",
    "                   names = ['topic', 'Rank', 'NormalizedName', 'name', 'MainType', 'Level', 'PaperCount',\\\n",
    "                            'CitationCount', 'CreatedDate'])"
   ]
  },
  {
   "cell_type": "code",
   "execution_count": 17,
   "metadata": {
    "collapsed": false,
    "deletable": true,
    "editable": true
   },
   "outputs": [
    {
     "name": "stderr",
     "output_type": "stream",
     "text": [
      "/home/jz3502/.local/lib/python3.5/site-packages/numpy/lib/arraysetops.py:569: FutureWarning: elementwise comparison failed; returning scalar instead, but in the future will perform elementwise comparison\n",
      "  mask |= (ar1 == a)\n"
     ]
    }
   ],
   "source": [
    "papers = pd.read_csv('../Factorization_Machine/paper_citation_lowlevel_cs.csv', index_col = 0)"
   ]
  },
  {
   "cell_type": "code",
   "execution_count": 18,
   "metadata": {
    "collapsed": true,
    "deletable": true,
    "editable": true
   },
   "outputs": [],
   "source": [
    "level3_topics = topics[topics['Level'] == 3]['topic'].unique()"
   ]
  },
  {
   "cell_type": "code",
   "execution_count": 19,
   "metadata": {
    "collapsed": false,
    "deletable": true,
    "editable": true
   },
   "outputs": [],
   "source": [
    "paper_with_level3 = papers[papers['FieldOfStudyId'].isin(level3_topics)]"
   ]
  },
  {
   "cell_type": "markdown",
   "metadata": {
    "deletable": true,
    "editable": true
   },
   "source": [
    "## Construct a weighted static graph"
   ]
  },
  {
   "cell_type": "code",
   "execution_count": 20,
   "metadata": {
    "collapsed": false,
    "deletable": true,
    "editable": true
   },
   "outputs": [
    {
     "data": {
      "text/html": [
       "<div>\n",
       "<style scoped>\n",
       "    .dataframe tbody tr th:only-of-type {\n",
       "        vertical-align: middle;\n",
       "    }\n",
       "\n",
       "    .dataframe tbody tr th {\n",
       "        vertical-align: top;\n",
       "    }\n",
       "\n",
       "    .dataframe thead th {\n",
       "        text-align: right;\n",
       "    }\n",
       "</style>\n",
       "<table border=\"1\" class=\"dataframe\">\n",
       "  <thead>\n",
       "    <tr style=\"text-align: right;\">\n",
       "      <th></th>\n",
       "      <th>PaperId</th>\n",
       "      <th>FieldOfStudyId</th>\n",
       "      <th>Year</th>\n",
       "      <th>CitationCount</th>\n",
       "    </tr>\n",
       "  </thead>\n",
       "  <tbody>\n",
       "    <tr>\n",
       "      <th>5</th>\n",
       "      <td>53694153</td>\n",
       "      <td>160030872</td>\n",
       "      <td>2002.0</td>\n",
       "      <td>0.0</td>\n",
       "    </tr>\n",
       "    <tr>\n",
       "      <th>12</th>\n",
       "      <td>107407592</td>\n",
       "      <td>2992554003</td>\n",
       "      <td>2000.0</td>\n",
       "      <td>4.0</td>\n",
       "    </tr>\n",
       "    <tr>\n",
       "      <th>17</th>\n",
       "      <td>107407604</td>\n",
       "      <td>161821725</td>\n",
       "      <td>2006.0</td>\n",
       "      <td>50.0</td>\n",
       "    </tr>\n",
       "    <tr>\n",
       "      <th>25</th>\n",
       "      <td>107407604</td>\n",
       "      <td>188598960</td>\n",
       "      <td>2006.0</td>\n",
       "      <td>50.0</td>\n",
       "    </tr>\n",
       "    <tr>\n",
       "      <th>41</th>\n",
       "      <td>107407649</td>\n",
       "      <td>43803900</td>\n",
       "      <td>2008.0</td>\n",
       "      <td>29.0</td>\n",
       "    </tr>\n",
       "  </tbody>\n",
       "</table>\n",
       "</div>"
      ],
      "text/plain": [
       "      PaperId  FieldOfStudyId    Year  CitationCount\n",
       "5    53694153       160030872  2002.0            0.0\n",
       "12  107407592      2992554003  2000.0            4.0\n",
       "17  107407604       161821725  2006.0           50.0\n",
       "25  107407604       188598960  2006.0           50.0\n",
       "41  107407649        43803900  2008.0           29.0"
      ]
     },
     "execution_count": 20,
     "metadata": {},
     "output_type": "execute_result"
    }
   ],
   "source": [
    "paper_with_level3.head()"
   ]
  },
  {
   "cell_type": "code",
   "execution_count": 21,
   "metadata": {
    "collapsed": true,
    "deletable": true,
    "editable": true
   },
   "outputs": [],
   "source": [
    "def find_link_all(target_pIds = None):\n",
    "    pId_fIds = {} #key pId, value = list of fId (keywords)\n",
    "    for index, row in paper_with_level3.iterrows():\n",
    "        pId, fId = row[\"PaperId\"], row[\"FieldOfStudyId\"]\n",
    "        if target_pIds != None and (pId not in target_pIds[pId]):\n",
    "            continue\n",
    "        if not pId in pId_fIds:\n",
    "            pId_fIds[pId] = []\n",
    "        pId_fIds[pId].append(fId)\n",
    "    share_count = {}\n",
    "    for pId in pId_fIds:\n",
    "        fIds = pId_fIds[pId]\n",
    "        for fId in fIds:\n",
    "            if fId not in share_count:\n",
    "                share_count[fId] = {}\n",
    "            for fId2 in fIds:\n",
    "                if fId == fId2:\n",
    "                    continue\n",
    "                if fId2 not in share_count[fId]:\n",
    "                    share_count[fId][fId2] = 0\n",
    "                share_count[fId][fId2] += 1\n",
    "                \n",
    "    return share_count"
   ]
  },
  {
   "cell_type": "code",
   "execution_count": 22,
   "metadata": {
    "collapsed": false,
    "deletable": true,
    "editable": true
   },
   "outputs": [],
   "source": [
    "share_count = find_link_all(target_pIds = None)"
   ]
  },
  {
   "cell_type": "code",
   "execution_count": null,
   "metadata": {
    "collapsed": true,
    "deletable": true,
    "editable": true
   },
   "outputs": [],
   "source": []
  },
  {
   "cell_type": "code",
   "execution_count": 23,
   "metadata": {
    "collapsed": true,
    "deletable": true,
    "editable": true
   },
   "outputs": [],
   "source": [
    "from copy import deepcopy\n",
    "share_count_copy = deepcopy(share_count)"
   ]
  },
  {
   "cell_type": "code",
   "execution_count": 24,
   "metadata": {
    "collapsed": false,
    "deletable": true,
    "editable": true
   },
   "outputs": [],
   "source": [
    "# Remove less than 10 values\n",
    "\n",
    "for fId1 in list(share_count_copy):\n",
    "    for fId2 in list(share_count_copy[fId1]):\n",
    "        if share_count_copy[fId1][fId2] < 10:\n",
    "            del share_count_copy[fId1][fId2]\n",
    "            \n",
    "    if len(share_count_copy[fId1]) == 0:\n",
    "        del share_count_copy[fId1]"
   ]
  },
  {
   "cell_type": "code",
   "execution_count": 25,
   "metadata": {
    "collapsed": true,
    "deletable": true,
    "editable": true
   },
   "outputs": [],
   "source": [
    "import networkx as nx"
   ]
  },
  {
   "cell_type": "code",
   "execution_count": 26,
   "metadata": {
    "collapsed": false,
    "deletable": true,
    "editable": true
   },
   "outputs": [],
   "source": [
    "graph = nx.Graph() \n",
    "for fId1 in list(share_count_copy):\n",
    "    for fId2 in list(share_count_copy[fId1]):\n",
    "        graph.add_edge(int(fId1), int(fId2))"
   ]
  },
  {
   "cell_type": "code",
   "execution_count": 27,
   "metadata": {
    "collapsed": false,
    "deletable": true,
    "editable": true
   },
   "outputs": [],
   "source": [
    "for edge in graph.edges:\n",
    "    graph[edge[0]][edge[1]]['weight'] = share_count_copy[edge[0]][edge[1]]"
   ]
  },
  {
   "cell_type": "code",
   "execution_count": 28,
   "metadata": {
    "collapsed": true,
    "deletable": true,
    "editable": true
   },
   "outputs": [],
   "source": [
    "nx.write_edgelist(graph, \"topic_cs.edgelist\")"
   ]
  },
  {
   "cell_type": "code",
   "execution_count": 30,
   "metadata": {
    "collapsed": false,
    "deletable": true,
    "editable": true
   },
   "outputs": [
    {
     "name": "stdout",
     "output_type": "stream",
     "text": [
      "Walk iteration:\n",
      "1 / 10\n",
      "2 / 10\n",
      "3 / 10\n",
      "4 / 10\n",
      "5 / 10\n",
      "6 / 10\n",
      "7 / 10\n",
      "8 / 10\n",
      "9 / 10\n",
      "10 / 10\n"
     ]
    },
    {
     "name": "stderr",
     "output_type": "stream",
     "text": [
      "/home/jz3502/.local/lib/python2.7/site-packages/gensim/utils.py:1015: UserWarning: Pattern library is not installed, lemmatization won't be available.\n",
      "  warnings.warn(\"Pattern library is not installed, lemmatization won't be available.\")\n",
      "/home/jz3502/.local/lib/python2.7/site-packages/smart_open/smart_open_lib.py:410: UserWarning: This function is deprecated, use smart_open.open instead. See the migration notes for details: https://github.com/RaRe-Technologies/smart_open/blob/master/README.rst#migrating-to-the-new-open-function\n",
      "  'See the migration notes for details: %s' % _MIGRATION_NOTES_URL\n"
     ]
    }
   ],
   "source": [
    "# Run node2vec\n",
    "\n",
    "%%bash\n",
    "\n",
    "module swap python3/intel  python/intel/2.7.12\n",
    "# module load python/intel/2.7.12\n",
    "python node2vec/src/main.py --input topic_cs.edgelist --output topic_cs.emd"
   ]
  },
  {
   "cell_type": "code",
   "execution_count": 31,
   "metadata": {
    "collapsed": false,
    "deletable": true,
    "editable": true
   },
   "outputs": [
    {
     "name": "stderr",
     "output_type": "stream",
     "text": [
      "/share/apps/python3/3.5.3/intel/lib/python3.5/site-packages/ipykernel/__main__.py:12: FutureWarning: `item` has been deprecated and will be removed in a future version\n"
     ]
    }
   ],
   "source": [
    "# Identify embedding topics\n",
    "\n",
    "\n",
    "emb_dict = {}\n",
    "topic_list = []\n",
    "i = 0\n",
    "with open('topic_cs.emd', 'r') as topic_embedding:\n",
    "    for line in topic_embedding:\n",
    "        if i == 0:\n",
    "            i += 1\n",
    "            continue\n",
    "        line = line.split()\n",
    "        for j, num in enumerate(line):         \n",
    "            if j == 0:\n",
    "                topic_name = topics[topics['topic'] == int(num)]['name'].item()\n",
    "                topic_list.append(topic_name)\n",
    "                emb_dict[topic_name] = []\n",
    "            else:\n",
    "                emb_dict[topic_name].append(float(num))"
   ]
  },
  {
   "cell_type": "code",
   "execution_count": 32,
   "metadata": {
    "collapsed": false,
    "deletable": true,
    "editable": true
   },
   "outputs": [
    {
     "data": {
      "text/html": [
       "<div>\n",
       "<style scoped>\n",
       "    .dataframe tbody tr th:only-of-type {\n",
       "        vertical-align: middle;\n",
       "    }\n",
       "\n",
       "    .dataframe tbody tr th {\n",
       "        vertical-align: top;\n",
       "    }\n",
       "\n",
       "    .dataframe thead th {\n",
       "        text-align: right;\n",
       "    }\n",
       "</style>\n",
       "<table border=\"1\" class=\"dataframe\">\n",
       "  <thead>\n",
       "    <tr style=\"text-align: right;\">\n",
       "      <th></th>\n",
       "      <th>0</th>\n",
       "      <th>1</th>\n",
       "    </tr>\n",
       "  </thead>\n",
       "  <tbody>\n",
       "    <tr>\n",
       "      <th>0</th>\n",
       "      <td>Radio signal strength</td>\n",
       "      <td>[0.129276, 0.208627, -0.00491, -0.017112, 0.13...</td>\n",
       "    </tr>\n",
       "    <tr>\n",
       "      <th>1</th>\n",
       "      <td>Wind power generation</td>\n",
       "      <td>[-0.155464, -0.187098, 0.256471, 0.003277, 0.2...</td>\n",
       "    </tr>\n",
       "    <tr>\n",
       "      <th>2</th>\n",
       "      <td>Image Identifier</td>\n",
       "      <td>[0.015208, -0.011035, -0.18426, 0.085069, 0.24...</td>\n",
       "    </tr>\n",
       "    <tr>\n",
       "      <th>3</th>\n",
       "      <td>Broadcast time</td>\n",
       "      <td>[0.084968, 0.319746, -0.073701, -0.202103, 0.0...</td>\n",
       "    </tr>\n",
       "    <tr>\n",
       "      <th>4</th>\n",
       "      <td>Mandarin speech recognition</td>\n",
       "      <td>[0.009018, 0.062095, -0.257845, 0.08299, 0.322...</td>\n",
       "    </tr>\n",
       "    <tr>\n",
       "      <th>...</th>\n",
       "      <td>...</td>\n",
       "      <td>...</td>\n",
       "    </tr>\n",
       "    <tr>\n",
       "      <th>13072</th>\n",
       "      <td>Radio broadcasting</td>\n",
       "      <td>[-0.025745, 0.318107, -0.252779, -0.202191, -0...</td>\n",
       "    </tr>\n",
       "    <tr>\n",
       "      <th>13073</th>\n",
       "      <td>Magnetic line</td>\n",
       "      <td>[-0.005062, 0.043075, 0.044661, 0.061611, 0.17...</td>\n",
       "    </tr>\n",
       "    <tr>\n",
       "      <th>13074</th>\n",
       "      <td>Identity matrix</td>\n",
       "      <td>[0.095931, 0.231467, -0.214167, -0.033197, 0.3...</td>\n",
       "    </tr>\n",
       "    <tr>\n",
       "      <th>13075</th>\n",
       "      <td>Credential</td>\n",
       "      <td>[0.11215, -0.022872, 0.107568, -0.162411, -0.0...</td>\n",
       "    </tr>\n",
       "    <tr>\n",
       "      <th>13076</th>\n",
       "      <td>Benzimidazole</td>\n",
       "      <td>[0.086308, -0.037574, -0.028207, 0.389373, 0.6...</td>\n",
       "    </tr>\n",
       "  </tbody>\n",
       "</table>\n",
       "<p>13077 rows × 2 columns</p>\n",
       "</div>"
      ],
      "text/plain": [
       "                                 0  \\\n",
       "0            Radio signal strength   \n",
       "1            Wind power generation   \n",
       "2                 Image Identifier   \n",
       "3                   Broadcast time   \n",
       "4      Mandarin speech recognition   \n",
       "...                            ...   \n",
       "13072           Radio broadcasting   \n",
       "13073                Magnetic line   \n",
       "13074              Identity matrix   \n",
       "13075                   Credential   \n",
       "13076                Benzimidazole   \n",
       "\n",
       "                                                       1  \n",
       "0      [0.129276, 0.208627, -0.00491, -0.017112, 0.13...  \n",
       "1      [-0.155464, -0.187098, 0.256471, 0.003277, 0.2...  \n",
       "2      [0.015208, -0.011035, -0.18426, 0.085069, 0.24...  \n",
       "3      [0.084968, 0.319746, -0.073701, -0.202103, 0.0...  \n",
       "4      [0.009018, 0.062095, -0.257845, 0.08299, 0.322...  \n",
       "...                                                  ...  \n",
       "13072  [-0.025745, 0.318107, -0.252779, -0.202191, -0...  \n",
       "13073  [-0.005062, 0.043075, 0.044661, 0.061611, 0.17...  \n",
       "13074  [0.095931, 0.231467, -0.214167, -0.033197, 0.3...  \n",
       "13075  [0.11215, -0.022872, 0.107568, -0.162411, -0.0...  \n",
       "13076  [0.086308, -0.037574, -0.028207, 0.389373, 0.6...  \n",
       "\n",
       "[13077 rows x 2 columns]"
      ]
     },
     "execution_count": 32,
     "metadata": {},
     "output_type": "execute_result"
    }
   ],
   "source": [
    "pd.DataFrame(emb_dict.items())"
   ]
  },
  {
   "cell_type": "code",
   "execution_count": 34,
   "metadata": {
    "collapsed": false,
    "deletable": true,
    "editable": true
   },
   "outputs": [],
   "source": [
    "pd.DataFrame(emb_dict.items()).to_csv('topic_embedding_cs.csv')"
   ]
  },
  {
   "cell_type": "code",
   "execution_count": null,
   "metadata": {
    "collapsed": true,
    "deletable": true,
    "editable": true
   },
   "outputs": [],
   "source": []
  },
  {
   "cell_type": "code",
   "execution_count": 4,
   "metadata": {
    "collapsed": true,
    "deletable": true,
    "editable": true
   },
   "outputs": [],
   "source": [
    "from sklearn.metrics.pairwise import cosine_similarity, euclidean_distances"
   ]
  },
  {
   "cell_type": "code",
   "execution_count": null,
   "metadata": {
    "collapsed": false,
    "deletable": true,
    "editable": true
   },
   "outputs": [],
   "source": [
    "## Compute cosine similarity between two words\n",
    "\n",
    "two_word_similarity = {}\n",
    "for i in range(len(topic_list)-1):\n",
    "    for j in range(i+1, len(topic_list)):\n",
    "        similarity = cosine_similarity(np.array(emb_dict[topic_list[i]]).reshape(1, -1), \n",
    "                                       np.array(emb_dict[topic_list[j]]).reshape(1, -1))\n",
    "        two_word_similarity[(topic_list[i], topic_list[j])] = similarity.item()"
   ]
  },
  {
   "cell_type": "code",
   "execution_count": null,
   "metadata": {
    "collapsed": false,
    "deletable": true,
    "editable": true
   },
   "outputs": [],
   "source": [
    "two_word_similarity_dataframe = pd.DataFrame(two_word_similarity.items(), columns = ['Topics', 'Similarity'])"
   ]
  },
  {
   "cell_type": "code",
   "execution_count": null,
   "metadata": {
    "collapsed": false,
    "deletable": true,
    "editable": true
   },
   "outputs": [],
   "source": [
    "two_word_similarity_dataframe.to_csv('static_two_words_similarity.tsv', sep = '\\t')"
   ]
  }
 ],
 "metadata": {
  "kernelspec": {
   "display_name": "Python 3",
   "language": "python",
   "name": "python3"
  },
  "language_info": {
   "codemirror_mode": {
    "name": "ipython",
    "version": 3
   },
   "file_extension": ".py",
   "mimetype": "text/x-python",
   "name": "python",
   "nbconvert_exporter": "python",
   "pygments_lexer": "ipython3",
   "version": "3.5.3"
  }
 },
 "nbformat": 4,
 "nbformat_minor": 2
}
